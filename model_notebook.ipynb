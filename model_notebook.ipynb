{
 "metadata": {
  "language_info": {
   "codemirror_mode": {
    "name": "ipython",
    "version": 3
   },
   "file_extension": ".py",
   "mimetype": "text/x-python",
   "name": "python",
   "nbconvert_exporter": "python",
   "pygments_lexer": "ipython3",
   "version": "3.8.8"
  },
  "orig_nbformat": 2,
  "kernelspec": {
   "name": "python388jvsc74a57bd0dca0ade3e726a953b501b15e8e990130d2b7799f14cfd9f4271676035ebe5511",
   "display_name": "Python 3.8.8 64-bit ('base': conda)"
  }
 },
 "nbformat": 4,
 "nbformat_minor": 2,
 "cells": [
  {
   "cell_type": "code",
   "execution_count": 1,
   "metadata": {},
   "outputs": [],
   "source": [
    "import numpy as np\n",
    "import pandas as pd\n",
    "import os\n",
    "import sys\n",
    "from sklearn.preprocessing import StandardScaler\n",
    "from sklearn.model_selection import train_test_split\n",
    "# cleanse_pipe is a cleanse script I made for this project.\n",
    "from cleanse_pipe import cleanse_data\n",
    "from sklearn.tree import DecisionTreeClassifier\n",
    "from sklearn.ensemble import RandomForestClassifier\n",
    "import math\n",
    "from sklearn.metrics import confusion_matrix, classification_report, roc_auc_score\n",
    "from sklearn.svm import SVC\n",
    "from sklearn.model_selection import GridSearchCV\n",
    "import time\n",
    "import pycaret\n",
    "from sklearn.svm import LinearSVC\n",
    "\n",
    "from pycaret.classification import *\n",
    "\n",
    "# This is my next stab at improving my model\n",
    "from sklearn.ensemble import VotingClassifier"
   ]
  },
  {
   "cell_type": "code",
   "execution_count": 2,
   "metadata": {},
   "outputs": [
    {
     "output_type": "execute_result",
     "data": {
      "text/plain": [
       "   PassengerId  Survived  Pclass  \\\n",
       "0            1         0       3   \n",
       "1            2         1       1   \n",
       "2            3         1       3   \n",
       "3            4         1       1   \n",
       "4            5         0       3   \n",
       "\n",
       "                                                Name     Sex   Age  SibSp  \\\n",
       "0                            Braund, Mr. Owen Harris    male  22.0      1   \n",
       "1  Cumings, Mrs. John Bradley (Florence Briggs Th...  female  38.0      1   \n",
       "2                             Heikkinen, Miss. Laina  female  26.0      0   \n",
       "3       Futrelle, Mrs. Jacques Heath (Lily May Peel)  female  35.0      1   \n",
       "4                           Allen, Mr. William Henry    male  35.0      0   \n",
       "\n",
       "   Parch            Ticket     Fare Cabin Embarked  \n",
       "0      0         A/5 21171   7.2500   NaN        S  \n",
       "1      0          PC 17599  71.2833   C85        C  \n",
       "2      0  STON/O2. 3101282   7.9250   NaN        S  \n",
       "3      0            113803  53.1000  C123        S  \n",
       "4      0            373450   8.0500   NaN        S  "
      ],
      "text/html": "<div>\n<style scoped>\n    .dataframe tbody tr th:only-of-type {\n        vertical-align: middle;\n    }\n\n    .dataframe tbody tr th {\n        vertical-align: top;\n    }\n\n    .dataframe thead th {\n        text-align: right;\n    }\n</style>\n<table border=\"1\" class=\"dataframe\">\n  <thead>\n    <tr style=\"text-align: right;\">\n      <th></th>\n      <th>PassengerId</th>\n      <th>Survived</th>\n      <th>Pclass</th>\n      <th>Name</th>\n      <th>Sex</th>\n      <th>Age</th>\n      <th>SibSp</th>\n      <th>Parch</th>\n      <th>Ticket</th>\n      <th>Fare</th>\n      <th>Cabin</th>\n      <th>Embarked</th>\n    </tr>\n  </thead>\n  <tbody>\n    <tr>\n      <th>0</th>\n      <td>1</td>\n      <td>0</td>\n      <td>3</td>\n      <td>Braund, Mr. Owen Harris</td>\n      <td>male</td>\n      <td>22.0</td>\n      <td>1</td>\n      <td>0</td>\n      <td>A/5 21171</td>\n      <td>7.2500</td>\n      <td>NaN</td>\n      <td>S</td>\n    </tr>\n    <tr>\n      <th>1</th>\n      <td>2</td>\n      <td>1</td>\n      <td>1</td>\n      <td>Cumings, Mrs. John Bradley (Florence Briggs Th...</td>\n      <td>female</td>\n      <td>38.0</td>\n      <td>1</td>\n      <td>0</td>\n      <td>PC 17599</td>\n      <td>71.2833</td>\n      <td>C85</td>\n      <td>C</td>\n    </tr>\n    <tr>\n      <th>2</th>\n      <td>3</td>\n      <td>1</td>\n      <td>3</td>\n      <td>Heikkinen, Miss. Laina</td>\n      <td>female</td>\n      <td>26.0</td>\n      <td>0</td>\n      <td>0</td>\n      <td>STON/O2. 3101282</td>\n      <td>7.9250</td>\n      <td>NaN</td>\n      <td>S</td>\n    </tr>\n    <tr>\n      <th>3</th>\n      <td>4</td>\n      <td>1</td>\n      <td>1</td>\n      <td>Futrelle, Mrs. Jacques Heath (Lily May Peel)</td>\n      <td>female</td>\n      <td>35.0</td>\n      <td>1</td>\n      <td>0</td>\n      <td>113803</td>\n      <td>53.1000</td>\n      <td>C123</td>\n      <td>S</td>\n    </tr>\n    <tr>\n      <th>4</th>\n      <td>5</td>\n      <td>0</td>\n      <td>3</td>\n      <td>Allen, Mr. William Henry</td>\n      <td>male</td>\n      <td>35.0</td>\n      <td>0</td>\n      <td>0</td>\n      <td>373450</td>\n      <td>8.0500</td>\n      <td>NaN</td>\n      <td>S</td>\n    </tr>\n  </tbody>\n</table>\n</div>"
     },
     "metadata": {},
     "execution_count": 2
    }
   ],
   "source": [
    "train = pd.read_csv('train.csv')\n",
    "train.head()"
   ]
  },
  {
   "cell_type": "code",
   "execution_count": 3,
   "metadata": {},
   "outputs": [
    {
     "output_type": "execute_result",
     "data": {
      "text/plain": [
       "   Survived  Pclass  SibSp  Parch  Embarked_Q  Embarked_S  Alone  \\\n",
       "0         0       3      1      0           0           1      0   \n",
       "1         1       1      1      0           0           0      0   \n",
       "2         1       3      0      0           0           1      1   \n",
       "3         1       1      1      0           0           1      0   \n",
       "4         0       3      0      0           0           1      1   \n",
       "\n",
       "   Title_Master  Title_Miss  Title_Mr  Title_Mrs  Title_Ms  Sex_Male  Farebin  \\\n",
       "0             0           0         1          0         0         1        2   \n",
       "1             0           0         0          1         0         0        5   \n",
       "2             0           1         0          0         0         0        2   \n",
       "3             0           0         0          1         0         0        5   \n",
       "4             0           0         1          0         0         1        2   \n",
       "\n",
       "   Agebin  \n",
       "0       2  \n",
       "1       4  \n",
       "2       2  \n",
       "3       4  \n",
       "4       4  "
      ],
      "text/html": "<div>\n<style scoped>\n    .dataframe tbody tr th:only-of-type {\n        vertical-align: middle;\n    }\n\n    .dataframe tbody tr th {\n        vertical-align: top;\n    }\n\n    .dataframe thead th {\n        text-align: right;\n    }\n</style>\n<table border=\"1\" class=\"dataframe\">\n  <thead>\n    <tr style=\"text-align: right;\">\n      <th></th>\n      <th>Survived</th>\n      <th>Pclass</th>\n      <th>SibSp</th>\n      <th>Parch</th>\n      <th>Embarked_Q</th>\n      <th>Embarked_S</th>\n      <th>Alone</th>\n      <th>Title_Master</th>\n      <th>Title_Miss</th>\n      <th>Title_Mr</th>\n      <th>Title_Mrs</th>\n      <th>Title_Ms</th>\n      <th>Sex_Male</th>\n      <th>Farebin</th>\n      <th>Agebin</th>\n    </tr>\n  </thead>\n  <tbody>\n    <tr>\n      <th>0</th>\n      <td>0</td>\n      <td>3</td>\n      <td>1</td>\n      <td>0</td>\n      <td>0</td>\n      <td>1</td>\n      <td>0</td>\n      <td>0</td>\n      <td>0</td>\n      <td>1</td>\n      <td>0</td>\n      <td>0</td>\n      <td>1</td>\n      <td>2</td>\n      <td>2</td>\n    </tr>\n    <tr>\n      <th>1</th>\n      <td>1</td>\n      <td>1</td>\n      <td>1</td>\n      <td>0</td>\n      <td>0</td>\n      <td>0</td>\n      <td>0</td>\n      <td>0</td>\n      <td>0</td>\n      <td>0</td>\n      <td>1</td>\n      <td>0</td>\n      <td>0</td>\n      <td>5</td>\n      <td>4</td>\n    </tr>\n    <tr>\n      <th>2</th>\n      <td>1</td>\n      <td>3</td>\n      <td>0</td>\n      <td>0</td>\n      <td>0</td>\n      <td>1</td>\n      <td>1</td>\n      <td>0</td>\n      <td>1</td>\n      <td>0</td>\n      <td>0</td>\n      <td>0</td>\n      <td>0</td>\n      <td>2</td>\n      <td>2</td>\n    </tr>\n    <tr>\n      <th>3</th>\n      <td>1</td>\n      <td>1</td>\n      <td>1</td>\n      <td>0</td>\n      <td>0</td>\n      <td>1</td>\n      <td>0</td>\n      <td>0</td>\n      <td>0</td>\n      <td>0</td>\n      <td>1</td>\n      <td>0</td>\n      <td>0</td>\n      <td>5</td>\n      <td>4</td>\n    </tr>\n    <tr>\n      <th>4</th>\n      <td>0</td>\n      <td>3</td>\n      <td>0</td>\n      <td>0</td>\n      <td>0</td>\n      <td>1</td>\n      <td>1</td>\n      <td>0</td>\n      <td>0</td>\n      <td>1</td>\n      <td>0</td>\n      <td>0</td>\n      <td>1</td>\n      <td>2</td>\n      <td>4</td>\n    </tr>\n  </tbody>\n</table>\n</div>"
     },
     "metadata": {},
     "execution_count": 3
    }
   ],
   "source": [
    "data, passengers = cleanse_data(train)\n",
    "\n",
    "del[data['Age'], data['Fare'], data['Embarked_C']]\n",
    "# %%\n",
    "data.head()"
   ]
  },
  {
   "cell_type": "code",
   "execution_count": 4,
   "metadata": {},
   "outputs": [
    {
     "output_type": "execute_result",
     "data": {
      "text/plain": [
       "0.3838383838383838"
      ]
     },
     "metadata": {},
     "execution_count": 4
    }
   ],
   "source": [
    "data['Survived'].mean()"
   ]
  },
  {
   "cell_type": "code",
   "execution_count": null,
   "metadata": {},
   "outputs": [],
   "source": []
  },
  {
   "cell_type": "code",
   "execution_count": 5,
   "metadata": {},
   "outputs": [
    {
     "output_type": "display_data",
     "data": {
      "text/plain": "<pandas.io.formats.style.Styler at 0x7ff070723820>",
      "text/html": "<style  type=\"text/css\" >\n</style><table id=\"T_5b5b4_\" ><thead>    <tr>        <th class=\"blank level0\" ></th>        <th class=\"col_heading level0 col0\" >Description</th>        <th class=\"col_heading level0 col1\" >Value</th>    </tr></thead><tbody>\n                <tr>\n                        <th id=\"T_5b5b4_level0_row0\" class=\"row_heading level0 row0\" >0</th>\n                        <td id=\"T_5b5b4_row0_col0\" class=\"data row0 col0\" >session_id</td>\n                        <td id=\"T_5b5b4_row0_col1\" class=\"data row0 col1\" >418</td>\n            </tr>\n            <tr>\n                        <th id=\"T_5b5b4_level0_row1\" class=\"row_heading level0 row1\" >1</th>\n                        <td id=\"T_5b5b4_row1_col0\" class=\"data row1 col0\" >Target</td>\n                        <td id=\"T_5b5b4_row1_col1\" class=\"data row1 col1\" >Survived</td>\n            </tr>\n            <tr>\n                        <th id=\"T_5b5b4_level0_row2\" class=\"row_heading level0 row2\" >2</th>\n                        <td id=\"T_5b5b4_row2_col0\" class=\"data row2 col0\" >Target Type</td>\n                        <td id=\"T_5b5b4_row2_col1\" class=\"data row2 col1\" >Binary</td>\n            </tr>\n            <tr>\n                        <th id=\"T_5b5b4_level0_row3\" class=\"row_heading level0 row3\" >3</th>\n                        <td id=\"T_5b5b4_row3_col0\" class=\"data row3 col0\" >Label Encoded</td>\n                        <td id=\"T_5b5b4_row3_col1\" class=\"data row3 col1\" >0: 0, 1: 1</td>\n            </tr>\n            <tr>\n                        <th id=\"T_5b5b4_level0_row4\" class=\"row_heading level0 row4\" >4</th>\n                        <td id=\"T_5b5b4_row4_col0\" class=\"data row4 col0\" >Original Data</td>\n                        <td id=\"T_5b5b4_row4_col1\" class=\"data row4 col1\" >(891, 15)</td>\n            </tr>\n            <tr>\n                        <th id=\"T_5b5b4_level0_row5\" class=\"row_heading level0 row5\" >5</th>\n                        <td id=\"T_5b5b4_row5_col0\" class=\"data row5 col0\" >Missing Values</td>\n                        <td id=\"T_5b5b4_row5_col1\" class=\"data row5 col1\" >False</td>\n            </tr>\n            <tr>\n                        <th id=\"T_5b5b4_level0_row6\" class=\"row_heading level0 row6\" >6</th>\n                        <td id=\"T_5b5b4_row6_col0\" class=\"data row6 col0\" >Numeric Features</td>\n                        <td id=\"T_5b5b4_row6_col1\" class=\"data row6 col1\" >7</td>\n            </tr>\n            <tr>\n                        <th id=\"T_5b5b4_level0_row7\" class=\"row_heading level0 row7\" >7</th>\n                        <td id=\"T_5b5b4_row7_col0\" class=\"data row7 col0\" >Categorical Features</td>\n                        <td id=\"T_5b5b4_row7_col1\" class=\"data row7 col1\" >7</td>\n            </tr>\n            <tr>\n                        <th id=\"T_5b5b4_level0_row8\" class=\"row_heading level0 row8\" >8</th>\n                        <td id=\"T_5b5b4_row8_col0\" class=\"data row8 col0\" >Ordinal Features</td>\n                        <td id=\"T_5b5b4_row8_col1\" class=\"data row8 col1\" >False</td>\n            </tr>\n            <tr>\n                        <th id=\"T_5b5b4_level0_row9\" class=\"row_heading level0 row9\" >9</th>\n                        <td id=\"T_5b5b4_row9_col0\" class=\"data row9 col0\" >High Cardinality Features</td>\n                        <td id=\"T_5b5b4_row9_col1\" class=\"data row9 col1\" >False</td>\n            </tr>\n            <tr>\n                        <th id=\"T_5b5b4_level0_row10\" class=\"row_heading level0 row10\" >10</th>\n                        <td id=\"T_5b5b4_row10_col0\" class=\"data row10 col0\" >High Cardinality Method</td>\n                        <td id=\"T_5b5b4_row10_col1\" class=\"data row10 col1\" >None</td>\n            </tr>\n            <tr>\n                        <th id=\"T_5b5b4_level0_row11\" class=\"row_heading level0 row11\" >11</th>\n                        <td id=\"T_5b5b4_row11_col0\" class=\"data row11 col0\" >Transformed Train Set</td>\n                        <td id=\"T_5b5b4_row11_col1\" class=\"data row11 col1\" >(757, 36)</td>\n            </tr>\n            <tr>\n                        <th id=\"T_5b5b4_level0_row12\" class=\"row_heading level0 row12\" >12</th>\n                        <td id=\"T_5b5b4_row12_col0\" class=\"data row12 col0\" >Transformed Test Set</td>\n                        <td id=\"T_5b5b4_row12_col1\" class=\"data row12 col1\" >(134, 36)</td>\n            </tr>\n            <tr>\n                        <th id=\"T_5b5b4_level0_row13\" class=\"row_heading level0 row13\" >13</th>\n                        <td id=\"T_5b5b4_row13_col0\" class=\"data row13 col0\" >Shuffle Train-Test</td>\n                        <td id=\"T_5b5b4_row13_col1\" class=\"data row13 col1\" >True</td>\n            </tr>\n            <tr>\n                        <th id=\"T_5b5b4_level0_row14\" class=\"row_heading level0 row14\" >14</th>\n                        <td id=\"T_5b5b4_row14_col0\" class=\"data row14 col0\" >Stratify Train-Test</td>\n                        <td id=\"T_5b5b4_row14_col1\" class=\"data row14 col1\" >False</td>\n            </tr>\n            <tr>\n                        <th id=\"T_5b5b4_level0_row15\" class=\"row_heading level0 row15\" >15</th>\n                        <td id=\"T_5b5b4_row15_col0\" class=\"data row15 col0\" >Fold Generator</td>\n                        <td id=\"T_5b5b4_row15_col1\" class=\"data row15 col1\" >StratifiedKFold</td>\n            </tr>\n            <tr>\n                        <th id=\"T_5b5b4_level0_row16\" class=\"row_heading level0 row16\" >16</th>\n                        <td id=\"T_5b5b4_row16_col0\" class=\"data row16 col0\" >Fold Number</td>\n                        <td id=\"T_5b5b4_row16_col1\" class=\"data row16 col1\" >10</td>\n            </tr>\n            <tr>\n                        <th id=\"T_5b5b4_level0_row17\" class=\"row_heading level0 row17\" >17</th>\n                        <td id=\"T_5b5b4_row17_col0\" class=\"data row17 col0\" >CPU Jobs</td>\n                        <td id=\"T_5b5b4_row17_col1\" class=\"data row17 col1\" >-1</td>\n            </tr>\n            <tr>\n                        <th id=\"T_5b5b4_level0_row18\" class=\"row_heading level0 row18\" >18</th>\n                        <td id=\"T_5b5b4_row18_col0\" class=\"data row18 col0\" >Use GPU</td>\n                        <td id=\"T_5b5b4_row18_col1\" class=\"data row18 col1\" >False</td>\n            </tr>\n            <tr>\n                        <th id=\"T_5b5b4_level0_row19\" class=\"row_heading level0 row19\" >19</th>\n                        <td id=\"T_5b5b4_row19_col0\" class=\"data row19 col0\" >Log Experiment</td>\n                        <td id=\"T_5b5b4_row19_col1\" class=\"data row19 col1\" >False</td>\n            </tr>\n            <tr>\n                        <th id=\"T_5b5b4_level0_row20\" class=\"row_heading level0 row20\" >20</th>\n                        <td id=\"T_5b5b4_row20_col0\" class=\"data row20 col0\" >Experiment Name</td>\n                        <td id=\"T_5b5b4_row20_col1\" class=\"data row20 col1\" >clf-default-name</td>\n            </tr>\n            <tr>\n                        <th id=\"T_5b5b4_level0_row21\" class=\"row_heading level0 row21\" >21</th>\n                        <td id=\"T_5b5b4_row21_col0\" class=\"data row21 col0\" >USI</td>\n                        <td id=\"T_5b5b4_row21_col1\" class=\"data row21 col1\" >caea</td>\n            </tr>\n            <tr>\n                        <th id=\"T_5b5b4_level0_row22\" class=\"row_heading level0 row22\" >22</th>\n                        <td id=\"T_5b5b4_row22_col0\" class=\"data row22 col0\" >Imputation Type</td>\n                        <td id=\"T_5b5b4_row22_col1\" class=\"data row22 col1\" >simple</td>\n            </tr>\n            <tr>\n                        <th id=\"T_5b5b4_level0_row23\" class=\"row_heading level0 row23\" >23</th>\n                        <td id=\"T_5b5b4_row23_col0\" class=\"data row23 col0\" >Iterative Imputation Iteration</td>\n                        <td id=\"T_5b5b4_row23_col1\" class=\"data row23 col1\" >None</td>\n            </tr>\n            <tr>\n                        <th id=\"T_5b5b4_level0_row24\" class=\"row_heading level0 row24\" >24</th>\n                        <td id=\"T_5b5b4_row24_col0\" class=\"data row24 col0\" >Numeric Imputer</td>\n                        <td id=\"T_5b5b4_row24_col1\" class=\"data row24 col1\" >mean</td>\n            </tr>\n            <tr>\n                        <th id=\"T_5b5b4_level0_row25\" class=\"row_heading level0 row25\" >25</th>\n                        <td id=\"T_5b5b4_row25_col0\" class=\"data row25 col0\" >Iterative Imputation Numeric Model</td>\n                        <td id=\"T_5b5b4_row25_col1\" class=\"data row25 col1\" >None</td>\n            </tr>\n            <tr>\n                        <th id=\"T_5b5b4_level0_row26\" class=\"row_heading level0 row26\" >26</th>\n                        <td id=\"T_5b5b4_row26_col0\" class=\"data row26 col0\" >Categorical Imputer</td>\n                        <td id=\"T_5b5b4_row26_col1\" class=\"data row26 col1\" >constant</td>\n            </tr>\n            <tr>\n                        <th id=\"T_5b5b4_level0_row27\" class=\"row_heading level0 row27\" >27</th>\n                        <td id=\"T_5b5b4_row27_col0\" class=\"data row27 col0\" >Iterative Imputation Categorical Model</td>\n                        <td id=\"T_5b5b4_row27_col1\" class=\"data row27 col1\" >None</td>\n            </tr>\n            <tr>\n                        <th id=\"T_5b5b4_level0_row28\" class=\"row_heading level0 row28\" >28</th>\n                        <td id=\"T_5b5b4_row28_col0\" class=\"data row28 col0\" >Unknown Categoricals Handling</td>\n                        <td id=\"T_5b5b4_row28_col1\" class=\"data row28 col1\" >least_frequent</td>\n            </tr>\n            <tr>\n                        <th id=\"T_5b5b4_level0_row29\" class=\"row_heading level0 row29\" >29</th>\n                        <td id=\"T_5b5b4_row29_col0\" class=\"data row29 col0\" >Normalize</td>\n                        <td id=\"T_5b5b4_row29_col1\" class=\"data row29 col1\" >False</td>\n            </tr>\n            <tr>\n                        <th id=\"T_5b5b4_level0_row30\" class=\"row_heading level0 row30\" >30</th>\n                        <td id=\"T_5b5b4_row30_col0\" class=\"data row30 col0\" >Normalize Method</td>\n                        <td id=\"T_5b5b4_row30_col1\" class=\"data row30 col1\" >None</td>\n            </tr>\n            <tr>\n                        <th id=\"T_5b5b4_level0_row31\" class=\"row_heading level0 row31\" >31</th>\n                        <td id=\"T_5b5b4_row31_col0\" class=\"data row31 col0\" >Transformation</td>\n                        <td id=\"T_5b5b4_row31_col1\" class=\"data row31 col1\" >False</td>\n            </tr>\n            <tr>\n                        <th id=\"T_5b5b4_level0_row32\" class=\"row_heading level0 row32\" >32</th>\n                        <td id=\"T_5b5b4_row32_col0\" class=\"data row32 col0\" >Transformation Method</td>\n                        <td id=\"T_5b5b4_row32_col1\" class=\"data row32 col1\" >None</td>\n            </tr>\n            <tr>\n                        <th id=\"T_5b5b4_level0_row33\" class=\"row_heading level0 row33\" >33</th>\n                        <td id=\"T_5b5b4_row33_col0\" class=\"data row33 col0\" >PCA</td>\n                        <td id=\"T_5b5b4_row33_col1\" class=\"data row33 col1\" >False</td>\n            </tr>\n            <tr>\n                        <th id=\"T_5b5b4_level0_row34\" class=\"row_heading level0 row34\" >34</th>\n                        <td id=\"T_5b5b4_row34_col0\" class=\"data row34 col0\" >PCA Method</td>\n                        <td id=\"T_5b5b4_row34_col1\" class=\"data row34 col1\" >None</td>\n            </tr>\n            <tr>\n                        <th id=\"T_5b5b4_level0_row35\" class=\"row_heading level0 row35\" >35</th>\n                        <td id=\"T_5b5b4_row35_col0\" class=\"data row35 col0\" >PCA Components</td>\n                        <td id=\"T_5b5b4_row35_col1\" class=\"data row35 col1\" >None</td>\n            </tr>\n            <tr>\n                        <th id=\"T_5b5b4_level0_row36\" class=\"row_heading level0 row36\" >36</th>\n                        <td id=\"T_5b5b4_row36_col0\" class=\"data row36 col0\" >Ignore Low Variance</td>\n                        <td id=\"T_5b5b4_row36_col1\" class=\"data row36 col1\" >False</td>\n            </tr>\n            <tr>\n                        <th id=\"T_5b5b4_level0_row37\" class=\"row_heading level0 row37\" >37</th>\n                        <td id=\"T_5b5b4_row37_col0\" class=\"data row37 col0\" >Combine Rare Levels</td>\n                        <td id=\"T_5b5b4_row37_col1\" class=\"data row37 col1\" >False</td>\n            </tr>\n            <tr>\n                        <th id=\"T_5b5b4_level0_row38\" class=\"row_heading level0 row38\" >38</th>\n                        <td id=\"T_5b5b4_row38_col0\" class=\"data row38 col0\" >Rare Level Threshold</td>\n                        <td id=\"T_5b5b4_row38_col1\" class=\"data row38 col1\" >None</td>\n            </tr>\n            <tr>\n                        <th id=\"T_5b5b4_level0_row39\" class=\"row_heading level0 row39\" >39</th>\n                        <td id=\"T_5b5b4_row39_col0\" class=\"data row39 col0\" >Numeric Binning</td>\n                        <td id=\"T_5b5b4_row39_col1\" class=\"data row39 col1\" >False</td>\n            </tr>\n            <tr>\n                        <th id=\"T_5b5b4_level0_row40\" class=\"row_heading level0 row40\" >40</th>\n                        <td id=\"T_5b5b4_row40_col0\" class=\"data row40 col0\" >Remove Outliers</td>\n                        <td id=\"T_5b5b4_row40_col1\" class=\"data row40 col1\" >False</td>\n            </tr>\n            <tr>\n                        <th id=\"T_5b5b4_level0_row41\" class=\"row_heading level0 row41\" >41</th>\n                        <td id=\"T_5b5b4_row41_col0\" class=\"data row41 col0\" >Outliers Threshold</td>\n                        <td id=\"T_5b5b4_row41_col1\" class=\"data row41 col1\" >None</td>\n            </tr>\n            <tr>\n                        <th id=\"T_5b5b4_level0_row42\" class=\"row_heading level0 row42\" >42</th>\n                        <td id=\"T_5b5b4_row42_col0\" class=\"data row42 col0\" >Remove Multicollinearity</td>\n                        <td id=\"T_5b5b4_row42_col1\" class=\"data row42 col1\" >False</td>\n            </tr>\n            <tr>\n                        <th id=\"T_5b5b4_level0_row43\" class=\"row_heading level0 row43\" >43</th>\n                        <td id=\"T_5b5b4_row43_col0\" class=\"data row43 col0\" >Multicollinearity Threshold</td>\n                        <td id=\"T_5b5b4_row43_col1\" class=\"data row43 col1\" >None</td>\n            </tr>\n            <tr>\n                        <th id=\"T_5b5b4_level0_row44\" class=\"row_heading level0 row44\" >44</th>\n                        <td id=\"T_5b5b4_row44_col0\" class=\"data row44 col0\" >Clustering</td>\n                        <td id=\"T_5b5b4_row44_col1\" class=\"data row44 col1\" >False</td>\n            </tr>\n            <tr>\n                        <th id=\"T_5b5b4_level0_row45\" class=\"row_heading level0 row45\" >45</th>\n                        <td id=\"T_5b5b4_row45_col0\" class=\"data row45 col0\" >Clustering Iteration</td>\n                        <td id=\"T_5b5b4_row45_col1\" class=\"data row45 col1\" >None</td>\n            </tr>\n            <tr>\n                        <th id=\"T_5b5b4_level0_row46\" class=\"row_heading level0 row46\" >46</th>\n                        <td id=\"T_5b5b4_row46_col0\" class=\"data row46 col0\" >Polynomial Features</td>\n                        <td id=\"T_5b5b4_row46_col1\" class=\"data row46 col1\" >False</td>\n            </tr>\n            <tr>\n                        <th id=\"T_5b5b4_level0_row47\" class=\"row_heading level0 row47\" >47</th>\n                        <td id=\"T_5b5b4_row47_col0\" class=\"data row47 col0\" >Polynomial Degree</td>\n                        <td id=\"T_5b5b4_row47_col1\" class=\"data row47 col1\" >None</td>\n            </tr>\n            <tr>\n                        <th id=\"T_5b5b4_level0_row48\" class=\"row_heading level0 row48\" >48</th>\n                        <td id=\"T_5b5b4_row48_col0\" class=\"data row48 col0\" >Trignometry Features</td>\n                        <td id=\"T_5b5b4_row48_col1\" class=\"data row48 col1\" >False</td>\n            </tr>\n            <tr>\n                        <th id=\"T_5b5b4_level0_row49\" class=\"row_heading level0 row49\" >49</th>\n                        <td id=\"T_5b5b4_row49_col0\" class=\"data row49 col0\" >Polynomial Threshold</td>\n                        <td id=\"T_5b5b4_row49_col1\" class=\"data row49 col1\" >None</td>\n            </tr>\n            <tr>\n                        <th id=\"T_5b5b4_level0_row50\" class=\"row_heading level0 row50\" >50</th>\n                        <td id=\"T_5b5b4_row50_col0\" class=\"data row50 col0\" >Group Features</td>\n                        <td id=\"T_5b5b4_row50_col1\" class=\"data row50 col1\" >False</td>\n            </tr>\n            <tr>\n                        <th id=\"T_5b5b4_level0_row51\" class=\"row_heading level0 row51\" >51</th>\n                        <td id=\"T_5b5b4_row51_col0\" class=\"data row51 col0\" >Feature Selection</td>\n                        <td id=\"T_5b5b4_row51_col1\" class=\"data row51 col1\" >False</td>\n            </tr>\n            <tr>\n                        <th id=\"T_5b5b4_level0_row52\" class=\"row_heading level0 row52\" >52</th>\n                        <td id=\"T_5b5b4_row52_col0\" class=\"data row52 col0\" >Feature Selection Method</td>\n                        <td id=\"T_5b5b4_row52_col1\" class=\"data row52 col1\" >classic</td>\n            </tr>\n            <tr>\n                        <th id=\"T_5b5b4_level0_row53\" class=\"row_heading level0 row53\" >53</th>\n                        <td id=\"T_5b5b4_row53_col0\" class=\"data row53 col0\" >Features Selection Threshold</td>\n                        <td id=\"T_5b5b4_row53_col1\" class=\"data row53 col1\" >None</td>\n            </tr>\n            <tr>\n                        <th id=\"T_5b5b4_level0_row54\" class=\"row_heading level0 row54\" >54</th>\n                        <td id=\"T_5b5b4_row54_col0\" class=\"data row54 col0\" >Feature Interaction</td>\n                        <td id=\"T_5b5b4_row54_col1\" class=\"data row54 col1\" >False</td>\n            </tr>\n            <tr>\n                        <th id=\"T_5b5b4_level0_row55\" class=\"row_heading level0 row55\" >55</th>\n                        <td id=\"T_5b5b4_row55_col0\" class=\"data row55 col0\" >Feature Ratio</td>\n                        <td id=\"T_5b5b4_row55_col1\" class=\"data row55 col1\" >False</td>\n            </tr>\n            <tr>\n                        <th id=\"T_5b5b4_level0_row56\" class=\"row_heading level0 row56\" >56</th>\n                        <td id=\"T_5b5b4_row56_col0\" class=\"data row56 col0\" >Interaction Threshold</td>\n                        <td id=\"T_5b5b4_row56_col1\" class=\"data row56 col1\" >None</td>\n            </tr>\n            <tr>\n                        <th id=\"T_5b5b4_level0_row57\" class=\"row_heading level0 row57\" >57</th>\n                        <td id=\"T_5b5b4_row57_col0\" class=\"data row57 col0\" >Fix Imbalance</td>\n                        <td id=\"T_5b5b4_row57_col1\" class=\"data row57 col1\" >False</td>\n            </tr>\n            <tr>\n                        <th id=\"T_5b5b4_level0_row58\" class=\"row_heading level0 row58\" >58</th>\n                        <td id=\"T_5b5b4_row58_col0\" class=\"data row58 col0\" >Fix Imbalance Method</td>\n                        <td id=\"T_5b5b4_row58_col1\" class=\"data row58 col1\" >SMOTE</td>\n            </tr>\n    </tbody></table>"
     },
     "metadata": {}
    }
   ],
   "source": [
    "# normalize data since we are going to be using models that need normalization\n",
    "exp_clf = setup(data, target = 'Survived', train_size = .85, normalize= False, log_experiment= False)"
   ]
  },
  {
   "cell_type": "code",
   "execution_count": 6,
   "metadata": {},
   "outputs": [
    {
     "output_type": "display_data",
     "data": {
      "text/plain": "<pandas.io.formats.style.Styler at 0x7ff0b0550ee0>",
      "text/html": "<style  type=\"text/css\" >\n    #T_61dae_ th {\n          text-align: left;\n    }#T_61dae_row0_col0,#T_61dae_row0_col2,#T_61dae_row0_col3,#T_61dae_row0_col5,#T_61dae_row0_col6,#T_61dae_row1_col0,#T_61dae_row1_col1,#T_61dae_row1_col2,#T_61dae_row1_col3,#T_61dae_row1_col4,#T_61dae_row1_col7,#T_61dae_row2_col0,#T_61dae_row2_col1,#T_61dae_row2_col2,#T_61dae_row2_col3,#T_61dae_row2_col4,#T_61dae_row2_col7,#T_61dae_row3_col0,#T_61dae_row3_col1,#T_61dae_row3_col2,#T_61dae_row3_col3,#T_61dae_row3_col4,#T_61dae_row3_col5,#T_61dae_row3_col6,#T_61dae_row3_col7,#T_61dae_row4_col0,#T_61dae_row4_col1,#T_61dae_row4_col3,#T_61dae_row4_col4,#T_61dae_row4_col5,#T_61dae_row4_col6,#T_61dae_row4_col7,#T_61dae_row5_col0,#T_61dae_row5_col1,#T_61dae_row5_col2,#T_61dae_row5_col3,#T_61dae_row5_col4,#T_61dae_row5_col5,#T_61dae_row5_col6,#T_61dae_row5_col7,#T_61dae_row6_col0,#T_61dae_row6_col1,#T_61dae_row6_col2,#T_61dae_row6_col3,#T_61dae_row6_col4,#T_61dae_row6_col5,#T_61dae_row6_col6,#T_61dae_row6_col7,#T_61dae_row7_col0,#T_61dae_row7_col1,#T_61dae_row7_col2,#T_61dae_row7_col3,#T_61dae_row7_col4,#T_61dae_row7_col5,#T_61dae_row7_col6,#T_61dae_row7_col7,#T_61dae_row8_col0,#T_61dae_row8_col1,#T_61dae_row8_col2,#T_61dae_row8_col3,#T_61dae_row8_col4,#T_61dae_row8_col5,#T_61dae_row8_col6,#T_61dae_row8_col7,#T_61dae_row9_col0,#T_61dae_row9_col1,#T_61dae_row9_col2,#T_61dae_row9_col3,#T_61dae_row9_col4,#T_61dae_row9_col5,#T_61dae_row9_col6,#T_61dae_row9_col7,#T_61dae_row10_col0,#T_61dae_row10_col1,#T_61dae_row10_col2,#T_61dae_row10_col3,#T_61dae_row10_col4,#T_61dae_row10_col5,#T_61dae_row10_col6,#T_61dae_row10_col7,#T_61dae_row11_col0,#T_61dae_row11_col1,#T_61dae_row11_col2,#T_61dae_row11_col3,#T_61dae_row11_col4,#T_61dae_row11_col5,#T_61dae_row11_col6,#T_61dae_row11_col7,#T_61dae_row12_col0,#T_61dae_row12_col1,#T_61dae_row12_col2,#T_61dae_row12_col3,#T_61dae_row12_col4,#T_61dae_row12_col5,#T_61dae_row12_col6,#T_61dae_row12_col7,#T_61dae_row13_col0,#T_61dae_row13_col1,#T_61dae_row13_col2,#T_61dae_row13_col3,#T_61dae_row13_col4,#T_61dae_row13_col5,#T_61dae_row13_col6,#T_61dae_row13_col7,#T_61dae_row14_col0,#T_61dae_row14_col1,#T_61dae_row14_col2,#T_61dae_row14_col4,#T_61dae_row14_col5,#T_61dae_row14_col6,#T_61dae_row14_col7{\n            text-align:  left;\n            text-align:  left;\n        }#T_61dae_row0_col1,#T_61dae_row0_col4,#T_61dae_row0_col7,#T_61dae_row1_col5,#T_61dae_row1_col6,#T_61dae_row2_col5,#T_61dae_row2_col6,#T_61dae_row4_col2,#T_61dae_row14_col3{\n            text-align:  left;\n            text-align:  left;\n            background-color:  yellow;\n        }#T_61dae_row0_col8,#T_61dae_row1_col8,#T_61dae_row2_col8,#T_61dae_row3_col8,#T_61dae_row4_col8,#T_61dae_row5_col8,#T_61dae_row6_col8,#T_61dae_row7_col8,#T_61dae_row8_col8,#T_61dae_row9_col8,#T_61dae_row10_col8,#T_61dae_row11_col8,#T_61dae_row12_col8,#T_61dae_row13_col8{\n            text-align:  left;\n            text-align:  left;\n            background-color:  lightgrey;\n        }#T_61dae_row14_col8{\n            text-align:  left;\n            text-align:  left;\n            background-color:  yellow;\n            background-color:  lightgrey;\n        }</style><table id=\"T_61dae_\" ><thead>    <tr>        <th class=\"blank level0\" ></th>        <th class=\"col_heading level0 col0\" >Model</th>        <th class=\"col_heading level0 col1\" >Accuracy</th>        <th class=\"col_heading level0 col2\" >AUC</th>        <th class=\"col_heading level0 col3\" >Recall</th>        <th class=\"col_heading level0 col4\" >Prec.</th>        <th class=\"col_heading level0 col5\" >F1</th>        <th class=\"col_heading level0 col6\" >Kappa</th>        <th class=\"col_heading level0 col7\" >MCC</th>        <th class=\"col_heading level0 col8\" >TT (Sec)</th>    </tr></thead><tbody>\n                <tr>\n                        <th id=\"T_61dae_level0_row0\" class=\"row_heading level0 row0\" >knn</th>\n                        <td id=\"T_61dae_row0_col0\" class=\"data row0 col0\" >K Neighbors Classifier</td>\n                        <td id=\"T_61dae_row0_col1\" class=\"data row0 col1\" >0.8295</td>\n                        <td id=\"T_61dae_row0_col2\" class=\"data row0 col2\" >0.8574</td>\n                        <td id=\"T_61dae_row0_col3\" class=\"data row0 col3\" >0.7260</td>\n                        <td id=\"T_61dae_row0_col4\" class=\"data row0 col4\" >0.8244</td>\n                        <td id=\"T_61dae_row0_col5\" class=\"data row0 col5\" >0.7675</td>\n                        <td id=\"T_61dae_row0_col6\" class=\"data row0 col6\" >0.6342</td>\n                        <td id=\"T_61dae_row0_col7\" class=\"data row0 col7\" >0.6413</td>\n                        <td id=\"T_61dae_row0_col8\" class=\"data row0 col8\" >0.1400</td>\n            </tr>\n            <tr>\n                        <th id=\"T_61dae_level0_row1\" class=\"row_heading level0 row1\" >ridge</th>\n                        <td id=\"T_61dae_row1_col0\" class=\"data row1 col0\" >Ridge Classifier</td>\n                        <td id=\"T_61dae_row1_col1\" class=\"data row1 col1\" >0.8282</td>\n                        <td id=\"T_61dae_row1_col2\" class=\"data row1 col2\" >0.0000</td>\n                        <td id=\"T_61dae_row1_col3\" class=\"data row1 col3\" >0.7529</td>\n                        <td id=\"T_61dae_row1_col4\" class=\"data row1 col4\" >0.7975</td>\n                        <td id=\"T_61dae_row1_col5\" class=\"data row1 col5\" >0.7721</td>\n                        <td id=\"T_61dae_row1_col6\" class=\"data row1 col6\" >0.6347</td>\n                        <td id=\"T_61dae_row1_col7\" class=\"data row1 col7\" >0.6377</td>\n                        <td id=\"T_61dae_row1_col8\" class=\"data row1 col8\" >0.0440</td>\n            </tr>\n            <tr>\n                        <th id=\"T_61dae_level0_row2\" class=\"row_heading level0 row2\" >lda</th>\n                        <td id=\"T_61dae_row2_col0\" class=\"data row2 col0\" >Linear Discriminant Analysis</td>\n                        <td id=\"T_61dae_row2_col1\" class=\"data row2 col1\" >0.8282</td>\n                        <td id=\"T_61dae_row2_col2\" class=\"data row2 col2\" >0.8652</td>\n                        <td id=\"T_61dae_row2_col3\" class=\"data row2 col3\" >0.7529</td>\n                        <td id=\"T_61dae_row2_col4\" class=\"data row2 col4\" >0.7975</td>\n                        <td id=\"T_61dae_row2_col5\" class=\"data row2 col5\" >0.7721</td>\n                        <td id=\"T_61dae_row2_col6\" class=\"data row2 col6\" >0.6347</td>\n                        <td id=\"T_61dae_row2_col7\" class=\"data row2 col7\" >0.6377</td>\n                        <td id=\"T_61dae_row2_col8\" class=\"data row2 col8\" >0.0440</td>\n            </tr>\n            <tr>\n                        <th id=\"T_61dae_level0_row3\" class=\"row_heading level0 row3\" >lr</th>\n                        <td id=\"T_61dae_row3_col0\" class=\"data row3 col0\" >Logistic Regression</td>\n                        <td id=\"T_61dae_row3_col1\" class=\"data row3 col1\" >0.8243</td>\n                        <td id=\"T_61dae_row3_col2\" class=\"data row3 col2\" >0.8682</td>\n                        <td id=\"T_61dae_row3_col3\" class=\"data row3 col3\" >0.7429</td>\n                        <td id=\"T_61dae_row3_col4\" class=\"data row3 col4\" >0.7948</td>\n                        <td id=\"T_61dae_row3_col5\" class=\"data row3 col5\" >0.7660</td>\n                        <td id=\"T_61dae_row3_col6\" class=\"data row3 col6\" >0.6258</td>\n                        <td id=\"T_61dae_row3_col7\" class=\"data row3 col7\" >0.6285</td>\n                        <td id=\"T_61dae_row3_col8\" class=\"data row3 col8\" >0.3110</td>\n            </tr>\n            <tr>\n                        <th id=\"T_61dae_level0_row4\" class=\"row_heading level0 row4\" >gbc</th>\n                        <td id=\"T_61dae_row4_col0\" class=\"data row4 col0\" >Gradient Boosting Classifier</td>\n                        <td id=\"T_61dae_row4_col1\" class=\"data row4 col1\" >0.8216</td>\n                        <td id=\"T_61dae_row4_col2\" class=\"data row4 col2\" >0.8825</td>\n                        <td id=\"T_61dae_row4_col3\" class=\"data row4 col3\" >0.7228</td>\n                        <td id=\"T_61dae_row4_col4\" class=\"data row4 col4\" >0.8034</td>\n                        <td id=\"T_61dae_row4_col5\" class=\"data row4 col5\" >0.7573</td>\n                        <td id=\"T_61dae_row4_col6\" class=\"data row4 col6\" >0.6175</td>\n                        <td id=\"T_61dae_row4_col7\" class=\"data row4 col7\" >0.6227</td>\n                        <td id=\"T_61dae_row4_col8\" class=\"data row4 col8\" >0.0190</td>\n            </tr>\n            <tr>\n                        <th id=\"T_61dae_level0_row5\" class=\"row_heading level0 row5\" >catboost</th>\n                        <td id=\"T_61dae_row5_col0\" class=\"data row5 col0\" >CatBoost Classifier</td>\n                        <td id=\"T_61dae_row5_col1\" class=\"data row5 col1\" >0.8177</td>\n                        <td id=\"T_61dae_row5_col2\" class=\"data row5 col2\" >0.8762</td>\n                        <td id=\"T_61dae_row5_col3\" class=\"data row5 col3\" >0.7128</td>\n                        <td id=\"T_61dae_row5_col4\" class=\"data row5 col4\" >0.8046</td>\n                        <td id=\"T_61dae_row5_col5\" class=\"data row5 col5\" >0.7507</td>\n                        <td id=\"T_61dae_row5_col6\" class=\"data row5 col6\" >0.6087</td>\n                        <td id=\"T_61dae_row5_col7\" class=\"data row5 col7\" >0.6158</td>\n                        <td id=\"T_61dae_row5_col8\" class=\"data row5 col8\" >0.9750</td>\n            </tr>\n            <tr>\n                        <th id=\"T_61dae_level0_row6\" class=\"row_heading level0 row6\" >lightgbm</th>\n                        <td id=\"T_61dae_row6_col0\" class=\"data row6 col0\" >Light Gradient Boosting Machine</td>\n                        <td id=\"T_61dae_row6_col1\" class=\"data row6 col1\" >0.8150</td>\n                        <td id=\"T_61dae_row6_col2\" class=\"data row6 col2\" >0.8623</td>\n                        <td id=\"T_61dae_row6_col3\" class=\"data row6 col3\" >0.7157</td>\n                        <td id=\"T_61dae_row6_col4\" class=\"data row6 col4\" >0.7930</td>\n                        <td id=\"T_61dae_row6_col5\" class=\"data row6 col5\" >0.7484</td>\n                        <td id=\"T_61dae_row6_col6\" class=\"data row6 col6\" >0.6034</td>\n                        <td id=\"T_61dae_row6_col7\" class=\"data row6 col7\" >0.6087</td>\n                        <td id=\"T_61dae_row6_col8\" class=\"data row6 col8\" >0.0130</td>\n            </tr>\n            <tr>\n                        <th id=\"T_61dae_level0_row7\" class=\"row_heading level0 row7\" >ada</th>\n                        <td id=\"T_61dae_row7_col0\" class=\"data row7 col0\" >Ada Boost Classifier</td>\n                        <td id=\"T_61dae_row7_col1\" class=\"data row7 col1\" >0.8085</td>\n                        <td id=\"T_61dae_row7_col2\" class=\"data row7 col2\" >0.8593</td>\n                        <td id=\"T_61dae_row7_col3\" class=\"data row7 col3\" >0.7361</td>\n                        <td id=\"T_61dae_row7_col4\" class=\"data row7 col4\" >0.7658</td>\n                        <td id=\"T_61dae_row7_col5\" class=\"data row7 col5\" >0.7486</td>\n                        <td id=\"T_61dae_row7_col6\" class=\"data row7 col6\" >0.5942</td>\n                        <td id=\"T_61dae_row7_col7\" class=\"data row7 col7\" >0.5965</td>\n                        <td id=\"T_61dae_row7_col8\" class=\"data row7 col8\" >0.0190</td>\n            </tr>\n            <tr>\n                        <th id=\"T_61dae_level0_row8\" class=\"row_heading level0 row8\" >rf</th>\n                        <td id=\"T_61dae_row8_col0\" class=\"data row8 col0\" >Random Forest Classifier</td>\n                        <td id=\"T_61dae_row8_col1\" class=\"data row8 col1\" >0.8071</td>\n                        <td id=\"T_61dae_row8_col2\" class=\"data row8 col2\" >0.8467</td>\n                        <td id=\"T_61dae_row8_col3\" class=\"data row8 col3\" >0.7024</td>\n                        <td id=\"T_61dae_row8_col4\" class=\"data row8 col4\" >0.7833</td>\n                        <td id=\"T_61dae_row8_col5\" class=\"data row8 col5\" >0.7374</td>\n                        <td id=\"T_61dae_row8_col6\" class=\"data row8 col6\" >0.5863</td>\n                        <td id=\"T_61dae_row8_col7\" class=\"data row8 col7\" >0.5910</td>\n                        <td id=\"T_61dae_row8_col8\" class=\"data row8 col8\" >0.1840</td>\n            </tr>\n            <tr>\n                        <th id=\"T_61dae_level0_row9\" class=\"row_heading level0 row9\" >et</th>\n                        <td id=\"T_61dae_row9_col0\" class=\"data row9 col0\" >Extra Trees Classifier</td>\n                        <td id=\"T_61dae_row9_col1\" class=\"data row9 col1\" >0.8044</td>\n                        <td id=\"T_61dae_row9_col2\" class=\"data row9 col2\" >0.8122</td>\n                        <td id=\"T_61dae_row9_col3\" class=\"data row9 col3\" >0.6992</td>\n                        <td id=\"T_61dae_row9_col4\" class=\"data row9 col4\" >0.7813</td>\n                        <td id=\"T_61dae_row9_col5\" class=\"data row9 col5\" >0.7340</td>\n                        <td id=\"T_61dae_row9_col6\" class=\"data row9 col6\" >0.5809</td>\n                        <td id=\"T_61dae_row9_col7\" class=\"data row9 col7\" >0.5863</td>\n                        <td id=\"T_61dae_row9_col8\" class=\"data row9 col8\" >0.0430</td>\n            </tr>\n            <tr>\n                        <th id=\"T_61dae_level0_row10\" class=\"row_heading level0 row10\" >dt</th>\n                        <td id=\"T_61dae_row10_col0\" class=\"data row10 col0\" >Decision Tree Classifier</td>\n                        <td id=\"T_61dae_row10_col1\" class=\"data row10 col1\" >0.8018</td>\n                        <td id=\"T_61dae_row10_col2\" class=\"data row10 col2\" >0.7957</td>\n                        <td id=\"T_61dae_row10_col3\" class=\"data row10 col3\" >0.6822</td>\n                        <td id=\"T_61dae_row10_col4\" class=\"data row10 col4\" >0.7830</td>\n                        <td id=\"T_61dae_row10_col5\" class=\"data row10 col5\" >0.7263</td>\n                        <td id=\"T_61dae_row10_col6\" class=\"data row10 col6\" >0.5728</td>\n                        <td id=\"T_61dae_row10_col7\" class=\"data row10 col7\" >0.5783</td>\n                        <td id=\"T_61dae_row10_col8\" class=\"data row10 col8\" >0.1220</td>\n            </tr>\n            <tr>\n                        <th id=\"T_61dae_level0_row11\" class=\"row_heading level0 row11\" >svm</th>\n                        <td id=\"T_61dae_row11_col0\" class=\"data row11 col0\" >SVM - Linear Kernel</td>\n                        <td id=\"T_61dae_row11_col1\" class=\"data row11 col1\" >0.7993</td>\n                        <td id=\"T_61dae_row11_col2\" class=\"data row11 col2\" >0.0000</td>\n                        <td id=\"T_61dae_row11_col3\" class=\"data row11 col3\" >0.7291</td>\n                        <td id=\"T_61dae_row11_col4\" class=\"data row11 col4\" >0.7563</td>\n                        <td id=\"T_61dae_row11_col5\" class=\"data row11 col5\" >0.7372</td>\n                        <td id=\"T_61dae_row11_col6\" class=\"data row11 col6\" >0.5754</td>\n                        <td id=\"T_61dae_row11_col7\" class=\"data row11 col7\" >0.5806</td>\n                        <td id=\"T_61dae_row11_col8\" class=\"data row11 col8\" >0.1690</td>\n            </tr>\n            <tr>\n                        <th id=\"T_61dae_level0_row12\" class=\"row_heading level0 row12\" >xgboost</th>\n                        <td id=\"T_61dae_row12_col0\" class=\"data row12 col0\" >Extreme Gradient Boosting</td>\n                        <td id=\"T_61dae_row12_col1\" class=\"data row12 col1\" >0.7978</td>\n                        <td id=\"T_61dae_row12_col2\" class=\"data row12 col2\" >0.8451</td>\n                        <td id=\"T_61dae_row12_col3\" class=\"data row12 col3\" >0.6924</td>\n                        <td id=\"T_61dae_row12_col4\" class=\"data row12 col4\" >0.7700</td>\n                        <td id=\"T_61dae_row12_col5\" class=\"data row12 col5\" >0.7251</td>\n                        <td id=\"T_61dae_row12_col6\" class=\"data row12 col6\" >0.5668</td>\n                        <td id=\"T_61dae_row12_col7\" class=\"data row12 col7\" >0.5721</td>\n                        <td id=\"T_61dae_row12_col8\" class=\"data row12 col8\" >0.1100</td>\n            </tr>\n            <tr>\n                        <th id=\"T_61dae_level0_row13\" class=\"row_heading level0 row13\" >qda</th>\n                        <td id=\"T_61dae_row13_col0\" class=\"data row13 col0\" >Quadratic Discriminant Analysis</td>\n                        <td id=\"T_61dae_row13_col1\" class=\"data row13 col1\" >0.7371</td>\n                        <td id=\"T_61dae_row13_col2\" class=\"data row13 col2\" >0.7035</td>\n                        <td id=\"T_61dae_row13_col3\" class=\"data row13 col3\" >0.5525</td>\n                        <td id=\"T_61dae_row13_col4\" class=\"data row13 col4\" >0.7196</td>\n                        <td id=\"T_61dae_row13_col5\" class=\"data row13 col5\" >0.6066</td>\n                        <td id=\"T_61dae_row13_col6\" class=\"data row13 col6\" >0.4204</td>\n                        <td id=\"T_61dae_row13_col7\" class=\"data row13 col7\" >0.4373</td>\n                        <td id=\"T_61dae_row13_col8\" class=\"data row13 col8\" >0.0070</td>\n            </tr>\n            <tr>\n                        <th id=\"T_61dae_level0_row14\" class=\"row_heading level0 row14\" >nb</th>\n                        <td id=\"T_61dae_row14_col0\" class=\"data row14 col0\" >Naive Bayes</td>\n                        <td id=\"T_61dae_row14_col1\" class=\"data row14 col1\" >0.4372</td>\n                        <td id=\"T_61dae_row14_col2\" class=\"data row14 col2\" >0.8342</td>\n                        <td id=\"T_61dae_row14_col3\" class=\"data row14 col3\" >0.9728</td>\n                        <td id=\"T_61dae_row14_col4\" class=\"data row14 col4\" >0.4080</td>\n                        <td id=\"T_61dae_row14_col5\" class=\"data row14 col5\" >0.5748</td>\n                        <td id=\"T_61dae_row14_col6\" class=\"data row14 col6\" >0.0532</td>\n                        <td id=\"T_61dae_row14_col7\" class=\"data row14 col7\" >0.1304</td>\n                        <td id=\"T_61dae_row14_col8\" class=\"data row14 col8\" >0.0050</td>\n            </tr>\n    </tbody></table>"
     },
     "metadata": {}
    }
   ],
   "source": [
    "# exp_clf[0].head()\n",
    "\n",
    "#%%\n",
    "\n",
    "best = compare_models()\n",
    "# %%\n"
   ]
  },
  {
   "cell_type": "code",
   "execution_count": 7,
   "metadata": {},
   "outputs": [
    {
     "output_type": "display_data",
     "data": {
      "text/plain": "<pandas.io.formats.style.Styler at 0x7ff0707bcd60>",
      "text/html": "<style  type=\"text/css\" >\n#T_b3b0e_row10_col0,#T_b3b0e_row10_col1,#T_b3b0e_row10_col2,#T_b3b0e_row10_col3,#T_b3b0e_row10_col4,#T_b3b0e_row10_col5,#T_b3b0e_row10_col6{\n            background:  yellow;\n        }</style><table id=\"T_b3b0e_\" ><thead>    <tr>        <th class=\"blank level0\" ></th>        <th class=\"col_heading level0 col0\" >Accuracy</th>        <th class=\"col_heading level0 col1\" >AUC</th>        <th class=\"col_heading level0 col2\" >Recall</th>        <th class=\"col_heading level0 col3\" >Prec.</th>        <th class=\"col_heading level0 col4\" >F1</th>        <th class=\"col_heading level0 col5\" >Kappa</th>        <th class=\"col_heading level0 col6\" >MCC</th>    </tr></thead><tbody>\n                <tr>\n                        <th id=\"T_b3b0e_level0_row0\" class=\"row_heading level0 row0\" >0</th>\n                        <td id=\"T_b3b0e_row0_col0\" class=\"data row0 col0\" >0.7895</td>\n                        <td id=\"T_b3b0e_row0_col1\" class=\"data row0 col1\" >0.8261</td>\n                        <td id=\"T_b3b0e_row0_col2\" class=\"data row0 col2\" >0.7000</td>\n                        <td id=\"T_b3b0e_row0_col3\" class=\"data row0 col3\" >0.7500</td>\n                        <td id=\"T_b3b0e_row0_col4\" class=\"data row0 col4\" >0.7241</td>\n                        <td id=\"T_b3b0e_row0_col5\" class=\"data row0 col5\" >0.5543</td>\n                        <td id=\"T_b3b0e_row0_col6\" class=\"data row0 col6\" >0.5551</td>\n            </tr>\n            <tr>\n                        <th id=\"T_b3b0e_level0_row1\" class=\"row_heading level0 row1\" >1</th>\n                        <td id=\"T_b3b0e_row1_col0\" class=\"data row1 col0\" >0.8158</td>\n                        <td id=\"T_b3b0e_row1_col1\" class=\"data row1 col1\" >0.8855</td>\n                        <td id=\"T_b3b0e_row1_col2\" class=\"data row1 col2\" >0.7667</td>\n                        <td id=\"T_b3b0e_row1_col3\" class=\"data row1 col3\" >0.7667</td>\n                        <td id=\"T_b3b0e_row1_col4\" class=\"data row1 col4\" >0.7667</td>\n                        <td id=\"T_b3b0e_row1_col5\" class=\"data row1 col5\" >0.6145</td>\n                        <td id=\"T_b3b0e_row1_col6\" class=\"data row1 col6\" >0.6145</td>\n            </tr>\n            <tr>\n                        <th id=\"T_b3b0e_level0_row2\" class=\"row_heading level0 row2\" >2</th>\n                        <td id=\"T_b3b0e_row2_col0\" class=\"data row2 col0\" >0.8421</td>\n                        <td id=\"T_b3b0e_row2_col1\" class=\"data row2 col1\" >0.8957</td>\n                        <td id=\"T_b3b0e_row2_col2\" class=\"data row2 col2\" >0.7667</td>\n                        <td id=\"T_b3b0e_row2_col3\" class=\"data row2 col3\" >0.8214</td>\n                        <td id=\"T_b3b0e_row2_col4\" class=\"data row2 col4\" >0.7931</td>\n                        <td id=\"T_b3b0e_row2_col5\" class=\"data row2 col5\" >0.6657</td>\n                        <td id=\"T_b3b0e_row2_col6\" class=\"data row2 col6\" >0.6667</td>\n            </tr>\n            <tr>\n                        <th id=\"T_b3b0e_level0_row3\" class=\"row_heading level0 row3\" >3</th>\n                        <td id=\"T_b3b0e_row3_col0\" class=\"data row3 col0\" >0.8816</td>\n                        <td id=\"T_b3b0e_row3_col1\" class=\"data row3 col1\" >0.9558</td>\n                        <td id=\"T_b3b0e_row3_col2\" class=\"data row3 col2\" >0.8667</td>\n                        <td id=\"T_b3b0e_row3_col3\" class=\"data row3 col3\" >0.8387</td>\n                        <td id=\"T_b3b0e_row3_col4\" class=\"data row3 col4\" >0.8525</td>\n                        <td id=\"T_b3b0e_row3_col5\" class=\"data row3 col5\" >0.7536</td>\n                        <td id=\"T_b3b0e_row3_col6\" class=\"data row3 col6\" >0.7539</td>\n            </tr>\n            <tr>\n                        <th id=\"T_b3b0e_level0_row4\" class=\"row_heading level0 row4\" >4</th>\n                        <td id=\"T_b3b0e_row4_col0\" class=\"data row4 col0\" >0.7895</td>\n                        <td id=\"T_b3b0e_row4_col1\" class=\"data row4 col1\" >0.8239</td>\n                        <td id=\"T_b3b0e_row4_col2\" class=\"data row4 col2\" >0.5667</td>\n                        <td id=\"T_b3b0e_row4_col3\" class=\"data row4 col3\" >0.8500</td>\n                        <td id=\"T_b3b0e_row4_col4\" class=\"data row4 col4\" >0.6800</td>\n                        <td id=\"T_b3b0e_row4_col5\" class=\"data row4 col5\" >0.5323</td>\n                        <td id=\"T_b3b0e_row4_col6\" class=\"data row4 col6\" >0.5566</td>\n            </tr>\n            <tr>\n                        <th id=\"T_b3b0e_level0_row5\" class=\"row_heading level0 row5\" >5</th>\n                        <td id=\"T_b3b0e_row5_col0\" class=\"data row5 col0\" >0.8421</td>\n                        <td id=\"T_b3b0e_row5_col1\" class=\"data row5 col1\" >0.9091</td>\n                        <td id=\"T_b3b0e_row5_col2\" class=\"data row5 col2\" >0.7333</td>\n                        <td id=\"T_b3b0e_row5_col3\" class=\"data row5 col3\" >0.8462</td>\n                        <td id=\"T_b3b0e_row5_col4\" class=\"data row5 col4\" >0.7857</td>\n                        <td id=\"T_b3b0e_row5_col5\" class=\"data row5 col5\" >0.6617</td>\n                        <td id=\"T_b3b0e_row5_col6\" class=\"data row5 col6\" >0.6660</td>\n            </tr>\n            <tr>\n                        <th id=\"T_b3b0e_level0_row6\" class=\"row_heading level0 row6\" >6</th>\n                        <td id=\"T_b3b0e_row6_col0\" class=\"data row6 col0\" >0.8289</td>\n                        <td id=\"T_b3b0e_row6_col1\" class=\"data row6 col1\" >0.8921</td>\n                        <td id=\"T_b3b0e_row6_col2\" class=\"data row6 col2\" >0.7241</td>\n                        <td id=\"T_b3b0e_row6_col3\" class=\"data row6 col3\" >0.8077</td>\n                        <td id=\"T_b3b0e_row6_col4\" class=\"data row6 col4\" >0.7636</td>\n                        <td id=\"T_b3b0e_row6_col5\" class=\"data row6 col5\" >0.6302</td>\n                        <td id=\"T_b3b0e_row6_col6\" class=\"data row6 col6\" >0.6325</td>\n            </tr>\n            <tr>\n                        <th id=\"T_b3b0e_level0_row7\" class=\"row_heading level0 row7\" >7</th>\n                        <td id=\"T_b3b0e_row7_col0\" class=\"data row7 col0\" >0.7867</td>\n                        <td id=\"T_b3b0e_row7_col1\" class=\"data row7 col1\" >0.8876</td>\n                        <td id=\"T_b3b0e_row7_col2\" class=\"data row7 col2\" >0.5862</td>\n                        <td id=\"T_b3b0e_row7_col3\" class=\"data row7 col3\" >0.8095</td>\n                        <td id=\"T_b3b0e_row7_col4\" class=\"data row7 col4\" >0.6800</td>\n                        <td id=\"T_b3b0e_row7_col5\" class=\"data row7 col5\" >0.5261</td>\n                        <td id=\"T_b3b0e_row7_col6\" class=\"data row7 col6\" >0.5415</td>\n            </tr>\n            <tr>\n                        <th id=\"T_b3b0e_level0_row8\" class=\"row_heading level0 row8\" >8</th>\n                        <td id=\"T_b3b0e_row8_col0\" class=\"data row8 col0\" >0.8400</td>\n                        <td id=\"T_b3b0e_row8_col1\" class=\"data row8 col1\" >0.8887</td>\n                        <td id=\"T_b3b0e_row8_col2\" class=\"data row8 col2\" >0.8276</td>\n                        <td id=\"T_b3b0e_row8_col3\" class=\"data row8 col3\" >0.7742</td>\n                        <td id=\"T_b3b0e_row8_col4\" class=\"data row8 col4\" >0.8000</td>\n                        <td id=\"T_b3b0e_row8_col5\" class=\"data row8 col5\" >0.6669</td>\n                        <td id=\"T_b3b0e_row8_col6\" class=\"data row8 col6\" >0.6679</td>\n            </tr>\n            <tr>\n                        <th id=\"T_b3b0e_level0_row9\" class=\"row_heading level0 row9\" >9</th>\n                        <td id=\"T_b3b0e_row9_col0\" class=\"data row9 col0\" >0.8000</td>\n                        <td id=\"T_b3b0e_row9_col1\" class=\"data row9 col1\" >0.8602</td>\n                        <td id=\"T_b3b0e_row9_col2\" class=\"data row9 col2\" >0.6897</td>\n                        <td id=\"T_b3b0e_row9_col3\" class=\"data row9 col3\" >0.7692</td>\n                        <td id=\"T_b3b0e_row9_col4\" class=\"data row9 col4\" >0.7273</td>\n                        <td id=\"T_b3b0e_row9_col5\" class=\"data row9 col5\" >0.5701</td>\n                        <td id=\"T_b3b0e_row9_col6\" class=\"data row9 col6\" >0.5722</td>\n            </tr>\n            <tr>\n                        <th id=\"T_b3b0e_level0_row10\" class=\"row_heading level0 row10\" >Mean</th>\n                        <td id=\"T_b3b0e_row10_col0\" class=\"data row10 col0\" >0.8216</td>\n                        <td id=\"T_b3b0e_row10_col1\" class=\"data row10 col1\" >0.8825</td>\n                        <td id=\"T_b3b0e_row10_col2\" class=\"data row10 col2\" >0.7228</td>\n                        <td id=\"T_b3b0e_row10_col3\" class=\"data row10 col3\" >0.8034</td>\n                        <td id=\"T_b3b0e_row10_col4\" class=\"data row10 col4\" >0.7573</td>\n                        <td id=\"T_b3b0e_row10_col5\" class=\"data row10 col5\" >0.6175</td>\n                        <td id=\"T_b3b0e_row10_col6\" class=\"data row10 col6\" >0.6227</td>\n            </tr>\n            <tr>\n                        <th id=\"T_b3b0e_level0_row11\" class=\"row_heading level0 row11\" >SD</th>\n                        <td id=\"T_b3b0e_row11_col0\" class=\"data row11 col0\" >0.0294</td>\n                        <td id=\"T_b3b0e_row11_col1\" class=\"data row11 col1\" >0.0368</td>\n                        <td id=\"T_b3b0e_row11_col2\" class=\"data row11 col2\" >0.0896</td>\n                        <td id=\"T_b3b0e_row11_col3\" class=\"data row11 col3\" >0.0344</td>\n                        <td id=\"T_b3b0e_row11_col4\" class=\"data row11 col4\" >0.0520</td>\n                        <td id=\"T_b3b0e_row11_col5\" class=\"data row11 col5\" >0.0688</td>\n                        <td id=\"T_b3b0e_row11_col6\" class=\"data row11 col6\" >0.0643</td>\n            </tr>\n    </tbody></table>"
     },
     "metadata": {}
    }
   ],
   "source": [
    "catboost = create_model('gbc')\n"
   ]
  },
  {
   "cell_type": "code",
   "execution_count": 8,
   "metadata": {},
   "outputs": [
    {
     "output_type": "display_data",
     "data": {
      "text/plain": "<pandas.io.formats.style.Styler at 0x7ff08126fbb0>",
      "text/html": "<style  type=\"text/css\" >\n#T_619dd_row10_col0,#T_619dd_row10_col1,#T_619dd_row10_col2,#T_619dd_row10_col3,#T_619dd_row10_col4,#T_619dd_row10_col5,#T_619dd_row10_col6{\n            background:  yellow;\n        }</style><table id=\"T_619dd_\" ><thead>    <tr>        <th class=\"blank level0\" ></th>        <th class=\"col_heading level0 col0\" >Accuracy</th>        <th class=\"col_heading level0 col1\" >AUC</th>        <th class=\"col_heading level0 col2\" >Recall</th>        <th class=\"col_heading level0 col3\" >Prec.</th>        <th class=\"col_heading level0 col4\" >F1</th>        <th class=\"col_heading level0 col5\" >Kappa</th>        <th class=\"col_heading level0 col6\" >MCC</th>    </tr></thead><tbody>\n                <tr>\n                        <th id=\"T_619dd_level0_row0\" class=\"row_heading level0 row0\" >0</th>\n                        <td id=\"T_619dd_row0_col0\" class=\"data row0 col0\" >0.8026</td>\n                        <td id=\"T_619dd_row0_col1\" class=\"data row0 col1\" >0.8065</td>\n                        <td id=\"T_619dd_row0_col2\" class=\"data row0 col2\" >0.7000</td>\n                        <td id=\"T_619dd_row0_col3\" class=\"data row0 col3\" >0.7778</td>\n                        <td id=\"T_619dd_row0_col4\" class=\"data row0 col4\" >0.7368</td>\n                        <td id=\"T_619dd_row0_col5\" class=\"data row0 col5\" >0.5796</td>\n                        <td id=\"T_619dd_row0_col6\" class=\"data row0 col6\" >0.5817</td>\n            </tr>\n            <tr>\n                        <th id=\"T_619dd_level0_row1\" class=\"row_heading level0 row1\" >1</th>\n                        <td id=\"T_619dd_row1_col0\" class=\"data row1 col0\" >0.8026</td>\n                        <td id=\"T_619dd_row1_col1\" class=\"data row1 col1\" >0.8710</td>\n                        <td id=\"T_619dd_row1_col2\" class=\"data row1 col2\" >0.7667</td>\n                        <td id=\"T_619dd_row1_col3\" class=\"data row1 col3\" >0.7419</td>\n                        <td id=\"T_619dd_row1_col4\" class=\"data row1 col4\" >0.7541</td>\n                        <td id=\"T_619dd_row1_col5\" class=\"data row1 col5\" >0.5893</td>\n                        <td id=\"T_619dd_row1_col6\" class=\"data row1 col6\" >0.5896</td>\n            </tr>\n            <tr>\n                        <th id=\"T_619dd_level0_row2\" class=\"row_heading level0 row2\" >2</th>\n                        <td id=\"T_619dd_row2_col0\" class=\"data row2 col0\" >0.8026</td>\n                        <td id=\"T_619dd_row2_col1\" class=\"data row2 col1\" >0.9080</td>\n                        <td id=\"T_619dd_row2_col2\" class=\"data row2 col2\" >0.6667</td>\n                        <td id=\"T_619dd_row2_col3\" class=\"data row2 col3\" >0.8000</td>\n                        <td id=\"T_619dd_row2_col4\" class=\"data row2 col4\" >0.7273</td>\n                        <td id=\"T_619dd_row2_col5\" class=\"data row2 col5\" >0.5746</td>\n                        <td id=\"T_619dd_row2_col6\" class=\"data row2 col6\" >0.5805</td>\n            </tr>\n            <tr>\n                        <th id=\"T_619dd_level0_row3\" class=\"row_heading level0 row3\" >3</th>\n                        <td id=\"T_619dd_row3_col0\" class=\"data row3 col0\" >0.8947</td>\n                        <td id=\"T_619dd_row3_col1\" class=\"data row3 col1\" >0.9188</td>\n                        <td id=\"T_619dd_row3_col2\" class=\"data row3 col2\" >0.9000</td>\n                        <td id=\"T_619dd_row3_col3\" class=\"data row3 col3\" >0.8438</td>\n                        <td id=\"T_619dd_row3_col4\" class=\"data row3 col4\" >0.8710</td>\n                        <td id=\"T_619dd_row3_col5\" class=\"data row3 col5\" >0.7822</td>\n                        <td id=\"T_619dd_row3_col6\" class=\"data row3 col6\" >0.7834</td>\n            </tr>\n            <tr>\n                        <th id=\"T_619dd_level0_row4\" class=\"row_heading level0 row4\" >4</th>\n                        <td id=\"T_619dd_row4_col0\" class=\"data row4 col0\" >0.7763</td>\n                        <td id=\"T_619dd_row4_col1\" class=\"data row4 col1\" >0.7783</td>\n                        <td id=\"T_619dd_row4_col2\" class=\"data row4 col2\" >0.6000</td>\n                        <td id=\"T_619dd_row4_col3\" class=\"data row4 col3\" >0.7826</td>\n                        <td id=\"T_619dd_row4_col4\" class=\"data row4 col4\" >0.6792</td>\n                        <td id=\"T_619dd_row4_col5\" class=\"data row4 col5\" >0.5121</td>\n                        <td id=\"T_619dd_row4_col6\" class=\"data row4 col6\" >0.5227</td>\n            </tr>\n            <tr>\n                        <th id=\"T_619dd_level0_row5\" class=\"row_heading level0 row5\" >5</th>\n                        <td id=\"T_619dd_row5_col0\" class=\"data row5 col0\" >0.8684</td>\n                        <td id=\"T_619dd_row5_col1\" class=\"data row5 col1\" >0.9011</td>\n                        <td id=\"T_619dd_row5_col2\" class=\"data row5 col2\" >0.7667</td>\n                        <td id=\"T_619dd_row5_col3\" class=\"data row5 col3\" >0.8846</td>\n                        <td id=\"T_619dd_row5_col4\" class=\"data row5 col4\" >0.8214</td>\n                        <td id=\"T_619dd_row5_col5\" class=\"data row5 col5\" >0.7181</td>\n                        <td id=\"T_619dd_row5_col6\" class=\"data row5 col6\" >0.7227</td>\n            </tr>\n            <tr>\n                        <th id=\"T_619dd_level0_row6\" class=\"row_heading level0 row6\" >6</th>\n                        <td id=\"T_619dd_row6_col0\" class=\"data row6 col0\" >0.8553</td>\n                        <td id=\"T_619dd_row6_col1\" class=\"data row6 col1\" >0.9061</td>\n                        <td id=\"T_619dd_row6_col2\" class=\"data row6 col2\" >0.7931</td>\n                        <td id=\"T_619dd_row6_col3\" class=\"data row6 col3\" >0.8214</td>\n                        <td id=\"T_619dd_row6_col4\" class=\"data row6 col4\" >0.8070</td>\n                        <td id=\"T_619dd_row6_col5\" class=\"data row6 col5\" >0.6913</td>\n                        <td id=\"T_619dd_row6_col6\" class=\"data row6 col6\" >0.6916</td>\n            </tr>\n            <tr>\n                        <th id=\"T_619dd_level0_row7\" class=\"row_heading level0 row7\" >7</th>\n                        <td id=\"T_619dd_row7_col0\" class=\"data row7 col0\" >0.7733</td>\n                        <td id=\"T_619dd_row7_col1\" class=\"data row7 col1\" >0.8831</td>\n                        <td id=\"T_619dd_row7_col2\" class=\"data row7 col2\" >0.6207</td>\n                        <td id=\"T_619dd_row7_col3\" class=\"data row7 col3\" >0.7500</td>\n                        <td id=\"T_619dd_row7_col4\" class=\"data row7 col4\" >0.6792</td>\n                        <td id=\"T_619dd_row7_col5\" class=\"data row7 col5\" >0.5064</td>\n                        <td id=\"T_619dd_row7_col6\" class=\"data row7 col6\" >0.5118</td>\n            </tr>\n            <tr>\n                        <th id=\"T_619dd_level0_row8\" class=\"row_heading level0 row8\" >8</th>\n                        <td id=\"T_619dd_row8_col0\" class=\"data row8 col0\" >0.8800</td>\n                        <td id=\"T_619dd_row8_col1\" class=\"data row8 col1\" >0.8909</td>\n                        <td id=\"T_619dd_row8_col2\" class=\"data row8 col2\" >0.8276</td>\n                        <td id=\"T_619dd_row8_col3\" class=\"data row8 col3\" >0.8571</td>\n                        <td id=\"T_619dd_row8_col4\" class=\"data row8 col4\" >0.8421</td>\n                        <td id=\"T_619dd_row8_col5\" class=\"data row8 col5\" >0.7454</td>\n                        <td id=\"T_619dd_row8_col6\" class=\"data row8 col6\" >0.7457</td>\n            </tr>\n            <tr>\n                        <th id=\"T_619dd_level0_row9\" class=\"row_heading level0 row9\" >9</th>\n                        <td id=\"T_619dd_row9_col0\" class=\"data row9 col0\" >0.8133</td>\n                        <td id=\"T_619dd_row9_col1\" class=\"data row9 col1\" >0.8508</td>\n                        <td id=\"T_619dd_row9_col2\" class=\"data row9 col2\" >0.6897</td>\n                        <td id=\"T_619dd_row9_col3\" class=\"data row9 col3\" >0.8000</td>\n                        <td id=\"T_619dd_row9_col4\" class=\"data row9 col4\" >0.7407</td>\n                        <td id=\"T_619dd_row9_col5\" class=\"data row9 col5\" >0.5962</td>\n                        <td id=\"T_619dd_row9_col6\" class=\"data row9 col6\" >0.6002</td>\n            </tr>\n            <tr>\n                        <th id=\"T_619dd_level0_row10\" class=\"row_heading level0 row10\" >Mean</th>\n                        <td id=\"T_619dd_row10_col0\" class=\"data row10 col0\" >0.8269</td>\n                        <td id=\"T_619dd_row10_col1\" class=\"data row10 col1\" >0.8715</td>\n                        <td id=\"T_619dd_row10_col2\" class=\"data row10 col2\" >0.7331</td>\n                        <td id=\"T_619dd_row10_col3\" class=\"data row10 col3\" >0.8059</td>\n                        <td id=\"T_619dd_row10_col4\" class=\"data row10 col4\" >0.7659</td>\n                        <td id=\"T_619dd_row10_col5\" class=\"data row10 col5\" >0.6295</td>\n                        <td id=\"T_619dd_row10_col6\" class=\"data row10 col6\" >0.6330</td>\n            </tr>\n            <tr>\n                        <th id=\"T_619dd_level0_row11\" class=\"row_heading level0 row11\" >SD</th>\n                        <td id=\"T_619dd_row11_col0\" class=\"data row11 col0\" >0.0416</td>\n                        <td id=\"T_619dd_row11_col1\" class=\"data row11 col1\" >0.0442</td>\n                        <td id=\"T_619dd_row11_col2\" class=\"data row11 col2\" >0.0897</td>\n                        <td id=\"T_619dd_row11_col3\" class=\"data row11 col3\" >0.0437</td>\n                        <td id=\"T_619dd_row11_col4\" class=\"data row11 col4\" >0.0630</td>\n                        <td id=\"T_619dd_row11_col5\" class=\"data row11 col5\" >0.0925</td>\n                        <td id=\"T_619dd_row11_col6\" class=\"data row11 col6\" >0.0905</td>\n            </tr>\n    </tbody></table>"
     },
     "metadata": {}
    }
   ],
   "source": [
    "tuned_cat = tune_model(catboost, n_iter= 100)\n",
    "\n"
   ]
  },
  {
   "cell_type": "code",
   "execution_count": 9,
   "metadata": {},
   "outputs": [
    {
     "output_type": "execute_result",
     "data": {
      "text/plain": [
       "GradientBoostingClassifier(ccp_alpha=0.0, criterion='friedman_mse', init=None,\n",
       "                           learning_rate=0.4, loss='deviance', max_depth=2,\n",
       "                           max_features=1.0, max_leaf_nodes=None,\n",
       "                           min_impurity_decrease=0.4, min_impurity_split=None,\n",
       "                           min_samples_leaf=2, min_samples_split=7,\n",
       "                           min_weight_fraction_leaf=0.0, n_estimators=120,\n",
       "                           n_iter_no_change=None, presort='deprecated',\n",
       "                           random_state=418, subsample=0.5, tol=0.0001,\n",
       "                           validation_fraction=0.1, verbose=0,\n",
       "                           warm_start=False)"
      ]
     },
     "metadata": {},
     "execution_count": 9
    }
   ],
   "source": [
    "tuned_cat"
   ]
  },
  {
   "cell_type": "code",
   "execution_count": 10,
   "metadata": {},
   "outputs": [],
   "source": [
    "test = pd.read_csv('test.csv')\n",
    "test_data, passengers1 = cleanse_data(test)\n",
    "\n",
    "del[test_data['Age'], test_data['Fare'], test_data['Embarked_C']]\n",
    "\n",
    "preds = predict_model(tuned_cat, data = test_data)\n",
    "\n",
    "ready_preds = pd.DataFrame({\"PassengerId\" : passengers1, \"Survived\" : preds['Label']})\n",
    "\n",
    "ready_preds.to_csv('titanic_preds.csv', index = False)"
   ]
  },
  {
   "cell_type": "code",
   "execution_count": 11,
   "metadata": {},
   "outputs": [
    {
     "output_type": "execute_result",
     "data": {
      "text/plain": [
       "   PassengerId  Survived\n",
       "0          892         0\n",
       "1          893         0\n",
       "2          894         0\n",
       "3          895         0\n",
       "4          896         0"
      ],
      "text/html": "<div>\n<style scoped>\n    .dataframe tbody tr th:only-of-type {\n        vertical-align: middle;\n    }\n\n    .dataframe tbody tr th {\n        vertical-align: top;\n    }\n\n    .dataframe thead th {\n        text-align: right;\n    }\n</style>\n<table border=\"1\" class=\"dataframe\">\n  <thead>\n    <tr style=\"text-align: right;\">\n      <th></th>\n      <th>PassengerId</th>\n      <th>Survived</th>\n    </tr>\n  </thead>\n  <tbody>\n    <tr>\n      <th>0</th>\n      <td>892</td>\n      <td>0</td>\n    </tr>\n    <tr>\n      <th>1</th>\n      <td>893</td>\n      <td>0</td>\n    </tr>\n    <tr>\n      <th>2</th>\n      <td>894</td>\n      <td>0</td>\n    </tr>\n    <tr>\n      <th>3</th>\n      <td>895</td>\n      <td>0</td>\n    </tr>\n    <tr>\n      <th>4</th>\n      <td>896</td>\n      <td>0</td>\n    </tr>\n  </tbody>\n</table>\n</div>"
     },
     "metadata": {},
     "execution_count": 11
    }
   ],
   "source": [
    "ready_preds.head()"
   ]
  },
  {
   "cell_type": "code",
   "execution_count": 12,
   "metadata": {},
   "outputs": [
    {
     "output_type": "execute_result",
     "data": {
      "text/plain": [
       "0.35167464114832536"
      ]
     },
     "metadata": {},
     "execution_count": 12
    }
   ],
   "source": [
    "ready_preds['Survived'].mean()"
   ]
  },
  {
   "cell_type": "code",
   "execution_count": 13,
   "metadata": {},
   "outputs": [
    {
     "output_type": "execute_result",
     "data": {
      "text/plain": [
       "   Pclass  SibSp  Parch  Embarked_Q  Embarked_S  Alone  Title_Master  \\\n",
       "0       3      1      0           0           1      0             0   \n",
       "1       1      1      0           0           0      0             0   \n",
       "2       3      0      0           0           1      1             0   \n",
       "3       1      1      0           0           1      0             0   \n",
       "4       3      0      0           0           1      1             0   \n",
       "\n",
       "   Title_Miss  Title_Mr  Title_Mrs  Title_Ms  Sex_Male  Farebin  Agebin  \n",
       "0           0         1          0         0         1        2       2  \n",
       "1           0         0          1         0         0        5       4  \n",
       "2           1         0          0         0         0        2       2  \n",
       "3           0         0          1         0         0        5       4  \n",
       "4           0         1          0         0         1        2       4  "
      ],
      "text/html": "<div>\n<style scoped>\n    .dataframe tbody tr th:only-of-type {\n        vertical-align: middle;\n    }\n\n    .dataframe tbody tr th {\n        vertical-align: top;\n    }\n\n    .dataframe thead th {\n        text-align: right;\n    }\n</style>\n<table border=\"1\" class=\"dataframe\">\n  <thead>\n    <tr style=\"text-align: right;\">\n      <th></th>\n      <th>Pclass</th>\n      <th>SibSp</th>\n      <th>Parch</th>\n      <th>Embarked_Q</th>\n      <th>Embarked_S</th>\n      <th>Alone</th>\n      <th>Title_Master</th>\n      <th>Title_Miss</th>\n      <th>Title_Mr</th>\n      <th>Title_Mrs</th>\n      <th>Title_Ms</th>\n      <th>Sex_Male</th>\n      <th>Farebin</th>\n      <th>Agebin</th>\n    </tr>\n  </thead>\n  <tbody>\n    <tr>\n      <th>0</th>\n      <td>3</td>\n      <td>1</td>\n      <td>0</td>\n      <td>0</td>\n      <td>1</td>\n      <td>0</td>\n      <td>0</td>\n      <td>0</td>\n      <td>1</td>\n      <td>0</td>\n      <td>0</td>\n      <td>1</td>\n      <td>2</td>\n      <td>2</td>\n    </tr>\n    <tr>\n      <th>1</th>\n      <td>1</td>\n      <td>1</td>\n      <td>0</td>\n      <td>0</td>\n      <td>0</td>\n      <td>0</td>\n      <td>0</td>\n      <td>0</td>\n      <td>0</td>\n      <td>1</td>\n      <td>0</td>\n      <td>0</td>\n      <td>5</td>\n      <td>4</td>\n    </tr>\n    <tr>\n      <th>2</th>\n      <td>3</td>\n      <td>0</td>\n      <td>0</td>\n      <td>0</td>\n      <td>1</td>\n      <td>1</td>\n      <td>0</td>\n      <td>1</td>\n      <td>0</td>\n      <td>0</td>\n      <td>0</td>\n      <td>0</td>\n      <td>2</td>\n      <td>2</td>\n    </tr>\n    <tr>\n      <th>3</th>\n      <td>1</td>\n      <td>1</td>\n      <td>0</td>\n      <td>0</td>\n      <td>1</td>\n      <td>0</td>\n      <td>0</td>\n      <td>0</td>\n      <td>0</td>\n      <td>1</td>\n      <td>0</td>\n      <td>0</td>\n      <td>5</td>\n      <td>4</td>\n    </tr>\n    <tr>\n      <th>4</th>\n      <td>3</td>\n      <td>0</td>\n      <td>0</td>\n      <td>0</td>\n      <td>1</td>\n      <td>1</td>\n      <td>0</td>\n      <td>0</td>\n      <td>1</td>\n      <td>0</td>\n      <td>0</td>\n      <td>1</td>\n      <td>2</td>\n      <td>4</td>\n    </tr>\n  </tbody>\n</table>\n</div>"
     },
     "metadata": {},
     "execution_count": 13
    }
   ],
   "source": [
    "data1 = data.copy()\n",
    "target = data1['Survived']\n",
    "del[data1['Survived']]\n",
    "\n",
    "# del[data1['Age'], data1['Fare'], data1['Embarked_C']]\n",
    "\n",
    "data1.head()"
   ]
  },
  {
   "cell_type": "code",
   "execution_count": 14,
   "metadata": {},
   "outputs": [
    {
     "output_type": "execute_result",
     "data": {
      "text/plain": [
       "           Pclass       SibSp       Parch  Embarked_Q  Embarked_S       Alone  \\\n",
       "count  891.000000  891.000000  891.000000  891.000000  891.000000  891.000000   \n",
       "mean     2.308642    0.523008    0.381594    0.086420    0.725028    0.602694   \n",
       "std      0.836071    1.102743    0.806057    0.281141    0.446751    0.489615   \n",
       "min      1.000000    0.000000    0.000000    0.000000    0.000000    0.000000   \n",
       "25%      2.000000    0.000000    0.000000    0.000000    0.000000    0.000000   \n",
       "50%      3.000000    0.000000    0.000000    0.000000    1.000000    1.000000   \n",
       "75%      3.000000    1.000000    0.000000    0.000000    1.000000    1.000000   \n",
       "max      3.000000    8.000000    6.000000    1.000000    1.000000    1.000000   \n",
       "\n",
       "       Title_Master  Title_Miss    Title_Mr   Title_Mrs    Title_Ms  \\\n",
       "count    891.000000  891.000000  891.000000  891.000000  891.000000   \n",
       "mean       0.056117    0.204265    0.592593    0.140292    0.006734   \n",
       "std        0.230276    0.403390    0.491628    0.347485    0.081830   \n",
       "min        0.000000    0.000000    0.000000    0.000000    0.000000   \n",
       "25%        0.000000    0.000000    0.000000    0.000000    0.000000   \n",
       "50%        0.000000    0.000000    1.000000    0.000000    0.000000   \n",
       "75%        0.000000    0.000000    1.000000    0.000000    0.000000   \n",
       "max        1.000000    1.000000    1.000000    1.000000    1.000000   \n",
       "\n",
       "         Sex_Male     Farebin      Agebin  \n",
       "count  891.000000  891.000000  891.000000  \n",
       "mean     0.647587    3.204265    2.940516  \n",
       "std      0.477990    1.208037    1.362354  \n",
       "min      0.000000    1.000000    1.000000  \n",
       "25%      0.000000    2.000000    2.000000  \n",
       "50%      1.000000    3.000000    3.000000  \n",
       "75%      1.000000    4.000000    4.000000  \n",
       "max      1.000000    5.000000    5.000000  "
      ],
      "text/html": "<div>\n<style scoped>\n    .dataframe tbody tr th:only-of-type {\n        vertical-align: middle;\n    }\n\n    .dataframe tbody tr th {\n        vertical-align: top;\n    }\n\n    .dataframe thead th {\n        text-align: right;\n    }\n</style>\n<table border=\"1\" class=\"dataframe\">\n  <thead>\n    <tr style=\"text-align: right;\">\n      <th></th>\n      <th>Pclass</th>\n      <th>SibSp</th>\n      <th>Parch</th>\n      <th>Embarked_Q</th>\n      <th>Embarked_S</th>\n      <th>Alone</th>\n      <th>Title_Master</th>\n      <th>Title_Miss</th>\n      <th>Title_Mr</th>\n      <th>Title_Mrs</th>\n      <th>Title_Ms</th>\n      <th>Sex_Male</th>\n      <th>Farebin</th>\n      <th>Agebin</th>\n    </tr>\n  </thead>\n  <tbody>\n    <tr>\n      <th>count</th>\n      <td>891.000000</td>\n      <td>891.000000</td>\n      <td>891.000000</td>\n      <td>891.000000</td>\n      <td>891.000000</td>\n      <td>891.000000</td>\n      <td>891.000000</td>\n      <td>891.000000</td>\n      <td>891.000000</td>\n      <td>891.000000</td>\n      <td>891.000000</td>\n      <td>891.000000</td>\n      <td>891.000000</td>\n      <td>891.000000</td>\n    </tr>\n    <tr>\n      <th>mean</th>\n      <td>2.308642</td>\n      <td>0.523008</td>\n      <td>0.381594</td>\n      <td>0.086420</td>\n      <td>0.725028</td>\n      <td>0.602694</td>\n      <td>0.056117</td>\n      <td>0.204265</td>\n      <td>0.592593</td>\n      <td>0.140292</td>\n      <td>0.006734</td>\n      <td>0.647587</td>\n      <td>3.204265</td>\n      <td>2.940516</td>\n    </tr>\n    <tr>\n      <th>std</th>\n      <td>0.836071</td>\n      <td>1.102743</td>\n      <td>0.806057</td>\n      <td>0.281141</td>\n      <td>0.446751</td>\n      <td>0.489615</td>\n      <td>0.230276</td>\n      <td>0.403390</td>\n      <td>0.491628</td>\n      <td>0.347485</td>\n      <td>0.081830</td>\n      <td>0.477990</td>\n      <td>1.208037</td>\n      <td>1.362354</td>\n    </tr>\n    <tr>\n      <th>min</th>\n      <td>1.000000</td>\n      <td>0.000000</td>\n      <td>0.000000</td>\n      <td>0.000000</td>\n      <td>0.000000</td>\n      <td>0.000000</td>\n      <td>0.000000</td>\n      <td>0.000000</td>\n      <td>0.000000</td>\n      <td>0.000000</td>\n      <td>0.000000</td>\n      <td>0.000000</td>\n      <td>1.000000</td>\n      <td>1.000000</td>\n    </tr>\n    <tr>\n      <th>25%</th>\n      <td>2.000000</td>\n      <td>0.000000</td>\n      <td>0.000000</td>\n      <td>0.000000</td>\n      <td>0.000000</td>\n      <td>0.000000</td>\n      <td>0.000000</td>\n      <td>0.000000</td>\n      <td>0.000000</td>\n      <td>0.000000</td>\n      <td>0.000000</td>\n      <td>0.000000</td>\n      <td>2.000000</td>\n      <td>2.000000</td>\n    </tr>\n    <tr>\n      <th>50%</th>\n      <td>3.000000</td>\n      <td>0.000000</td>\n      <td>0.000000</td>\n      <td>0.000000</td>\n      <td>1.000000</td>\n      <td>1.000000</td>\n      <td>0.000000</td>\n      <td>0.000000</td>\n      <td>1.000000</td>\n      <td>0.000000</td>\n      <td>0.000000</td>\n      <td>1.000000</td>\n      <td>3.000000</td>\n      <td>3.000000</td>\n    </tr>\n    <tr>\n      <th>75%</th>\n      <td>3.000000</td>\n      <td>1.000000</td>\n      <td>0.000000</td>\n      <td>0.000000</td>\n      <td>1.000000</td>\n      <td>1.000000</td>\n      <td>0.000000</td>\n      <td>0.000000</td>\n      <td>1.000000</td>\n      <td>0.000000</td>\n      <td>0.000000</td>\n      <td>1.000000</td>\n      <td>4.000000</td>\n      <td>4.000000</td>\n    </tr>\n    <tr>\n      <th>max</th>\n      <td>3.000000</td>\n      <td>8.000000</td>\n      <td>6.000000</td>\n      <td>1.000000</td>\n      <td>1.000000</td>\n      <td>1.000000</td>\n      <td>1.000000</td>\n      <td>1.000000</td>\n      <td>1.000000</td>\n      <td>1.000000</td>\n      <td>1.000000</td>\n      <td>1.000000</td>\n      <td>5.000000</td>\n      <td>5.000000</td>\n    </tr>\n  </tbody>\n</table>\n</div>"
     },
     "metadata": {},
     "execution_count": 14
    }
   ],
   "source": [
    "data1.describe()"
   ]
  },
  {
   "cell_type": "code",
   "execution_count": 15,
   "metadata": {},
   "outputs": [],
   "source": [
    "# Standardize continuous variables\n",
    "\n",
    "def standardScale_custom(x) :\n",
    "    new_data = []\n",
    "    stan_mean = np.mean(x)\n",
    "    stan_std = np.std(x)\n",
    "    for row in x :\n",
    "        new_data.append((row - stan_mean) / stan_std)\n",
    "    return new_data\n",
    "    \n",
    "#for col in ['Age','Fare'] :\n",
    " #   data1[col] = standardScale_custom(data1[col])\n"
   ]
  },
  {
   "cell_type": "code",
   "execution_count": 16,
   "metadata": {},
   "outputs": [],
   "source": [
    "x_train, x_test, y_train, y_test = train_test_split(data1, target, test_size=0.15, random_state= 546)"
   ]
  },
  {
   "cell_type": "code",
   "execution_count": 17,
   "metadata": {},
   "outputs": [
    {
     "output_type": "stream",
     "name": "stdout",
     "text": [
      "0.3817701453104359 0.39552238805970147\n"
     ]
    }
   ],
   "source": [
    "print(y_train.mean(), y_test.mean())"
   ]
  },
  {
   "cell_type": "code",
   "execution_count": 18,
   "metadata": {},
   "outputs": [
    {
     "output_type": "stream",
     "name": "stdout",
     "text": [
      "              precision    recall  f1-score   support\n\n           0       0.85      0.89      0.87       468\n           1       0.81      0.75      0.78       289\n\n    accuracy                           0.84       757\n   macro avg       0.83      0.82      0.83       757\nweighted avg       0.84      0.84      0.84       757\n\n"
     ]
    }
   ],
   "source": [
    "svm = LinearSVC(penalty = 'l2', loss = 'squared_hinge', C = 0.5, fit_intercept= True, max_iter = 1000)\n",
    "\n",
    "svm_fit = svm.fit(x_train, y_train)\n",
    "svm_predict = svm_fit.predict(x_train)\n",
    "\n",
    "print(classification_report(y_train, svm_predict))"
   ]
  },
  {
   "cell_type": "code",
   "execution_count": 19,
   "metadata": {},
   "outputs": [
    {
     "output_type": "stream",
     "name": "stdout",
     "text": [
      "{'C': 0.8, 'fit_intercept': True, 'loss': 'squared_hinge'}\n0.8375789473684211\n"
     ]
    }
   ],
   "source": [
    "search_params = {\"C\" : [.01,.5,.8,1,2,5,7,10],\n",
    "    \"loss\" : ['hinge', 'squared_hinge'],\n",
    "    \"fit_intercept\" : [True,False]\n",
    "}\n",
    "\n",
    "grid = GridSearchCV(svm, param_grid= search_params, n_jobs = -1, cv = 10)\n",
    "\n",
    "grid_fit = grid.fit(x_train, y_train)\n",
    "\n",
    "print(grid_fit.best_params_)\n",
    "print(grid_fit.best_score_)\n",
    "\n"
   ]
  },
  {
   "cell_type": "code",
   "execution_count": 27,
   "metadata": {},
   "outputs": [],
   "source": [
    "test = pd.read_csv('test.csv')\n",
    "test_data, passengers1 = cleanse_data(test)\n",
    "\n",
    "del[test_data['Age'], test_data['Fare'], test_data['Embarked_C']]\n",
    "\n",
    "preds = grid_fit.predict(test_data)\n",
    "\n",
    "ready_preds = pd.DataFrame({\"PassengerId\" : passengers1, \"Survived\" : preds})\n",
    "\n",
    "ready_preds.to_csv('/Users/Drew/Documents/git_repos/titanic_model/titanic_preds.csv', index = False)"
   ]
  },
  {
   "cell_type": "code",
   "execution_count": 28,
   "metadata": {},
   "outputs": [
    {
     "output_type": "execute_result",
     "data": {
      "text/plain": [
       "   PassengerId  Survived\n",
       "0          892         0\n",
       "1          893         1\n",
       "2          894         0\n",
       "3          895         0\n",
       "4          896         1"
      ],
      "text/html": "<div>\n<style scoped>\n    .dataframe tbody tr th:only-of-type {\n        vertical-align: middle;\n    }\n\n    .dataframe tbody tr th {\n        vertical-align: top;\n    }\n\n    .dataframe thead th {\n        text-align: right;\n    }\n</style>\n<table border=\"1\" class=\"dataframe\">\n  <thead>\n    <tr style=\"text-align: right;\">\n      <th></th>\n      <th>PassengerId</th>\n      <th>Survived</th>\n    </tr>\n  </thead>\n  <tbody>\n    <tr>\n      <th>0</th>\n      <td>892</td>\n      <td>0</td>\n    </tr>\n    <tr>\n      <th>1</th>\n      <td>893</td>\n      <td>1</td>\n    </tr>\n    <tr>\n      <th>2</th>\n      <td>894</td>\n      <td>0</td>\n    </tr>\n    <tr>\n      <th>3</th>\n      <td>895</td>\n      <td>0</td>\n    </tr>\n    <tr>\n      <th>4</th>\n      <td>896</td>\n      <td>1</td>\n    </tr>\n  </tbody>\n</table>\n</div>"
     },
     "metadata": {},
     "execution_count": 28
    }
   ],
   "source": [
    "read_preds.head()"
   ]
  },
  {
   "cell_type": "code",
   "execution_count": 22,
   "metadata": {},
   "outputs": [
    {
     "output_type": "execute_result",
     "data": {
      "text/plain": [
       "0.3875598086124402"
      ]
     },
     "metadata": {},
     "execution_count": 22
    }
   ],
   "source": [
    "read_preds['Survived'].mean()"
   ]
  }
 ]
}