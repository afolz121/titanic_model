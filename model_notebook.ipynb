{
 "metadata": {
  "language_info": {
   "codemirror_mode": {
    "name": "ipython",
    "version": 3
   },
   "file_extension": ".py",
   "mimetype": "text/x-python",
   "name": "python",
   "nbconvert_exporter": "python",
   "pygments_lexer": "ipython3",
   "version": "3.8.8"
  },
  "orig_nbformat": 2,
  "kernelspec": {
   "name": "python388jvsc74a57bd0dca0ade3e726a953b501b15e8e990130d2b7799f14cfd9f4271676035ebe5511",
   "display_name": "Python 3.8.8 64-bit ('base': conda)"
  }
 },
 "nbformat": 4,
 "nbformat_minor": 2,
 "cells": [
  {
   "cell_type": "code",
   "execution_count": 1,
   "metadata": {},
   "outputs": [],
   "source": [
    "import numpy as np\n",
    "import pandas as pd\n",
    "import os\n",
    "import sys\n",
    "from sklearn.preprocessing import StandardScaler\n",
    "from sklearn.model_selection import train_test_split\n",
    "# cleanse_pipe is a cleanse script I made for this project.\n",
    "from cleanse_pipe import cleanse_data\n",
    "from sklearn.tree import DecisionTreeClassifier\n",
    "from sklearn.ensemble import RandomForestClassifier\n",
    "import math\n",
    "from sklearn.metrics import confusion_matrix, classification_report, roc_auc_score\n",
    "from sklearn.svm import SVC\n",
    "from sklearn.model_selection import GridSearchCV\n",
    "import time\n",
    "import pycaret\n",
    "from pycaret.classification import *\n",
    "\n",
    "# This is my next stab at improving my model\n",
    "from sklearn.ensemble import VotingClassifier"
   ]
  },
  {
   "cell_type": "code",
   "execution_count": 2,
   "metadata": {},
   "outputs": [
    {
     "output_type": "execute_result",
     "data": {
      "text/plain": [
       "   PassengerId  Survived  Pclass  \\\n",
       "0            1         0       3   \n",
       "1            2         1       1   \n",
       "2            3         1       3   \n",
       "3            4         1       1   \n",
       "4            5         0       3   \n",
       "\n",
       "                                                Name     Sex   Age  SibSp  \\\n",
       "0                            Braund, Mr. Owen Harris    male  22.0      1   \n",
       "1  Cumings, Mrs. John Bradley (Florence Briggs Th...  female  38.0      1   \n",
       "2                             Heikkinen, Miss. Laina  female  26.0      0   \n",
       "3       Futrelle, Mrs. Jacques Heath (Lily May Peel)  female  35.0      1   \n",
       "4                           Allen, Mr. William Henry    male  35.0      0   \n",
       "\n",
       "   Parch            Ticket     Fare Cabin Embarked  \n",
       "0      0         A/5 21171   7.2500   NaN        S  \n",
       "1      0          PC 17599  71.2833   C85        C  \n",
       "2      0  STON/O2. 3101282   7.9250   NaN        S  \n",
       "3      0            113803  53.1000  C123        S  \n",
       "4      0            373450   8.0500   NaN        S  "
      ],
      "text/html": "<div>\n<style scoped>\n    .dataframe tbody tr th:only-of-type {\n        vertical-align: middle;\n    }\n\n    .dataframe tbody tr th {\n        vertical-align: top;\n    }\n\n    .dataframe thead th {\n        text-align: right;\n    }\n</style>\n<table border=\"1\" class=\"dataframe\">\n  <thead>\n    <tr style=\"text-align: right;\">\n      <th></th>\n      <th>PassengerId</th>\n      <th>Survived</th>\n      <th>Pclass</th>\n      <th>Name</th>\n      <th>Sex</th>\n      <th>Age</th>\n      <th>SibSp</th>\n      <th>Parch</th>\n      <th>Ticket</th>\n      <th>Fare</th>\n      <th>Cabin</th>\n      <th>Embarked</th>\n    </tr>\n  </thead>\n  <tbody>\n    <tr>\n      <th>0</th>\n      <td>1</td>\n      <td>0</td>\n      <td>3</td>\n      <td>Braund, Mr. Owen Harris</td>\n      <td>male</td>\n      <td>22.0</td>\n      <td>1</td>\n      <td>0</td>\n      <td>A/5 21171</td>\n      <td>7.2500</td>\n      <td>NaN</td>\n      <td>S</td>\n    </tr>\n    <tr>\n      <th>1</th>\n      <td>2</td>\n      <td>1</td>\n      <td>1</td>\n      <td>Cumings, Mrs. John Bradley (Florence Briggs Th...</td>\n      <td>female</td>\n      <td>38.0</td>\n      <td>1</td>\n      <td>0</td>\n      <td>PC 17599</td>\n      <td>71.2833</td>\n      <td>C85</td>\n      <td>C</td>\n    </tr>\n    <tr>\n      <th>2</th>\n      <td>3</td>\n      <td>1</td>\n      <td>3</td>\n      <td>Heikkinen, Miss. Laina</td>\n      <td>female</td>\n      <td>26.0</td>\n      <td>0</td>\n      <td>0</td>\n      <td>STON/O2. 3101282</td>\n      <td>7.9250</td>\n      <td>NaN</td>\n      <td>S</td>\n    </tr>\n    <tr>\n      <th>3</th>\n      <td>4</td>\n      <td>1</td>\n      <td>1</td>\n      <td>Futrelle, Mrs. Jacques Heath (Lily May Peel)</td>\n      <td>female</td>\n      <td>35.0</td>\n      <td>1</td>\n      <td>0</td>\n      <td>113803</td>\n      <td>53.1000</td>\n      <td>C123</td>\n      <td>S</td>\n    </tr>\n    <tr>\n      <th>4</th>\n      <td>5</td>\n      <td>0</td>\n      <td>3</td>\n      <td>Allen, Mr. William Henry</td>\n      <td>male</td>\n      <td>35.0</td>\n      <td>0</td>\n      <td>0</td>\n      <td>373450</td>\n      <td>8.0500</td>\n      <td>NaN</td>\n      <td>S</td>\n    </tr>\n  </tbody>\n</table>\n</div>"
     },
     "metadata": {},
     "execution_count": 2
    }
   ],
   "source": [
    "train = pd.read_csv('train.csv')\n",
    "train.head()"
   ]
  },
  {
   "cell_type": "code",
   "execution_count": 3,
   "metadata": {},
   "outputs": [
    {
     "output_type": "execute_result",
     "data": {
      "text/plain": [
       "   Survived  Pclass   Age  SibSp  Parch     Fare  Embarked_C  Embarked_Q  \\\n",
       "0         0       3  22.0      1      0   7.2500           0           0   \n",
       "1         1       1  38.0      1      0  71.2833           1           0   \n",
       "2         1       3  26.0      0      0   7.9250           0           0   \n",
       "3         1       1  35.0      1      0  53.1000           0           0   \n",
       "4         0       3  35.0      0      0   8.0500           0           0   \n",
       "\n",
       "   Embarked_S  Alone  Title_Master  Title_Miss  Title_Mr  Title_Mrs  Title_Ms  \\\n",
       "0           1      0             0           0         1          0         0   \n",
       "1           0      0             0           0         0          1         0   \n",
       "2           1      1             0           1         0          0         0   \n",
       "3           1      0             0           0         0          1         0   \n",
       "4           1      1             0           0         1          0         0   \n",
       "\n",
       "   Sex_Male  Farebin  Agebin  \n",
       "0         1        2       2  \n",
       "1         0        5       4  \n",
       "2         0        2       2  \n",
       "3         0        5       4  \n",
       "4         1        2       4  "
      ],
      "text/html": "<div>\n<style scoped>\n    .dataframe tbody tr th:only-of-type {\n        vertical-align: middle;\n    }\n\n    .dataframe tbody tr th {\n        vertical-align: top;\n    }\n\n    .dataframe thead th {\n        text-align: right;\n    }\n</style>\n<table border=\"1\" class=\"dataframe\">\n  <thead>\n    <tr style=\"text-align: right;\">\n      <th></th>\n      <th>Survived</th>\n      <th>Pclass</th>\n      <th>Age</th>\n      <th>SibSp</th>\n      <th>Parch</th>\n      <th>Fare</th>\n      <th>Embarked_C</th>\n      <th>Embarked_Q</th>\n      <th>Embarked_S</th>\n      <th>Alone</th>\n      <th>Title_Master</th>\n      <th>Title_Miss</th>\n      <th>Title_Mr</th>\n      <th>Title_Mrs</th>\n      <th>Title_Ms</th>\n      <th>Sex_Male</th>\n      <th>Farebin</th>\n      <th>Agebin</th>\n    </tr>\n  </thead>\n  <tbody>\n    <tr>\n      <th>0</th>\n      <td>0</td>\n      <td>3</td>\n      <td>22.0</td>\n      <td>1</td>\n      <td>0</td>\n      <td>7.2500</td>\n      <td>0</td>\n      <td>0</td>\n      <td>1</td>\n      <td>0</td>\n      <td>0</td>\n      <td>0</td>\n      <td>1</td>\n      <td>0</td>\n      <td>0</td>\n      <td>1</td>\n      <td>2</td>\n      <td>2</td>\n    </tr>\n    <tr>\n      <th>1</th>\n      <td>1</td>\n      <td>1</td>\n      <td>38.0</td>\n      <td>1</td>\n      <td>0</td>\n      <td>71.2833</td>\n      <td>1</td>\n      <td>0</td>\n      <td>0</td>\n      <td>0</td>\n      <td>0</td>\n      <td>0</td>\n      <td>0</td>\n      <td>1</td>\n      <td>0</td>\n      <td>0</td>\n      <td>5</td>\n      <td>4</td>\n    </tr>\n    <tr>\n      <th>2</th>\n      <td>1</td>\n      <td>3</td>\n      <td>26.0</td>\n      <td>0</td>\n      <td>0</td>\n      <td>7.9250</td>\n      <td>0</td>\n      <td>0</td>\n      <td>1</td>\n      <td>1</td>\n      <td>0</td>\n      <td>1</td>\n      <td>0</td>\n      <td>0</td>\n      <td>0</td>\n      <td>0</td>\n      <td>2</td>\n      <td>2</td>\n    </tr>\n    <tr>\n      <th>3</th>\n      <td>1</td>\n      <td>1</td>\n      <td>35.0</td>\n      <td>1</td>\n      <td>0</td>\n      <td>53.1000</td>\n      <td>0</td>\n      <td>0</td>\n      <td>1</td>\n      <td>0</td>\n      <td>0</td>\n      <td>0</td>\n      <td>0</td>\n      <td>1</td>\n      <td>0</td>\n      <td>0</td>\n      <td>5</td>\n      <td>4</td>\n    </tr>\n    <tr>\n      <th>4</th>\n      <td>0</td>\n      <td>3</td>\n      <td>35.0</td>\n      <td>0</td>\n      <td>0</td>\n      <td>8.0500</td>\n      <td>0</td>\n      <td>0</td>\n      <td>1</td>\n      <td>1</td>\n      <td>0</td>\n      <td>0</td>\n      <td>1</td>\n      <td>0</td>\n      <td>0</td>\n      <td>1</td>\n      <td>2</td>\n      <td>4</td>\n    </tr>\n  </tbody>\n</table>\n</div>"
     },
     "metadata": {},
     "execution_count": 3
    }
   ],
   "source": [
    "data, passengers = cleanse_data(train)\n",
    "# %%\n",
    "data.head()"
   ]
  },
  {
   "cell_type": "code",
   "execution_count": null,
   "metadata": {},
   "outputs": [],
   "source": []
  },
  {
   "cell_type": "code",
   "execution_count": 4,
   "metadata": {},
   "outputs": [
    {
     "output_type": "display_data",
     "data": {
      "text/plain": "<pandas.io.formats.style.Styler at 0x7f9990f5a430>",
      "text/html": "<style  type=\"text/css\" >\n#T_09422_row29_col1{\n            background-color:  lightgreen;\n        }</style><table id=\"T_09422_\" ><thead>    <tr>        <th class=\"blank level0\" ></th>        <th class=\"col_heading level0 col0\" >Description</th>        <th class=\"col_heading level0 col1\" >Value</th>    </tr></thead><tbody>\n                <tr>\n                        <th id=\"T_09422_level0_row0\" class=\"row_heading level0 row0\" >0</th>\n                        <td id=\"T_09422_row0_col0\" class=\"data row0 col0\" >session_id</td>\n                        <td id=\"T_09422_row0_col1\" class=\"data row0 col1\" >8839</td>\n            </tr>\n            <tr>\n                        <th id=\"T_09422_level0_row1\" class=\"row_heading level0 row1\" >1</th>\n                        <td id=\"T_09422_row1_col0\" class=\"data row1 col0\" >Target</td>\n                        <td id=\"T_09422_row1_col1\" class=\"data row1 col1\" >Survived</td>\n            </tr>\n            <tr>\n                        <th id=\"T_09422_level0_row2\" class=\"row_heading level0 row2\" >2</th>\n                        <td id=\"T_09422_row2_col0\" class=\"data row2 col0\" >Target Type</td>\n                        <td id=\"T_09422_row2_col1\" class=\"data row2 col1\" >Binary</td>\n            </tr>\n            <tr>\n                        <th id=\"T_09422_level0_row3\" class=\"row_heading level0 row3\" >3</th>\n                        <td id=\"T_09422_row3_col0\" class=\"data row3 col0\" >Label Encoded</td>\n                        <td id=\"T_09422_row3_col1\" class=\"data row3 col1\" >0: 0, 1: 1</td>\n            </tr>\n            <tr>\n                        <th id=\"T_09422_level0_row4\" class=\"row_heading level0 row4\" >4</th>\n                        <td id=\"T_09422_row4_col0\" class=\"data row4 col0\" >Original Data</td>\n                        <td id=\"T_09422_row4_col1\" class=\"data row4 col1\" >(891, 18)</td>\n            </tr>\n            <tr>\n                        <th id=\"T_09422_level0_row5\" class=\"row_heading level0 row5\" >5</th>\n                        <td id=\"T_09422_row5_col0\" class=\"data row5 col0\" >Missing Values</td>\n                        <td id=\"T_09422_row5_col1\" class=\"data row5 col1\" >False</td>\n            </tr>\n            <tr>\n                        <th id=\"T_09422_level0_row6\" class=\"row_heading level0 row6\" >6</th>\n                        <td id=\"T_09422_row6_col0\" class=\"data row6 col0\" >Numeric Features</td>\n                        <td id=\"T_09422_row6_col1\" class=\"data row6 col1\" >10</td>\n            </tr>\n            <tr>\n                        <th id=\"T_09422_level0_row7\" class=\"row_heading level0 row7\" >7</th>\n                        <td id=\"T_09422_row7_col0\" class=\"data row7 col0\" >Categorical Features</td>\n                        <td id=\"T_09422_row7_col1\" class=\"data row7 col1\" >7</td>\n            </tr>\n            <tr>\n                        <th id=\"T_09422_level0_row8\" class=\"row_heading level0 row8\" >8</th>\n                        <td id=\"T_09422_row8_col0\" class=\"data row8 col0\" >Ordinal Features</td>\n                        <td id=\"T_09422_row8_col1\" class=\"data row8 col1\" >False</td>\n            </tr>\n            <tr>\n                        <th id=\"T_09422_level0_row9\" class=\"row_heading level0 row9\" >9</th>\n                        <td id=\"T_09422_row9_col0\" class=\"data row9 col0\" >High Cardinality Features</td>\n                        <td id=\"T_09422_row9_col1\" class=\"data row9 col1\" >False</td>\n            </tr>\n            <tr>\n                        <th id=\"T_09422_level0_row10\" class=\"row_heading level0 row10\" >10</th>\n                        <td id=\"T_09422_row10_col0\" class=\"data row10 col0\" >High Cardinality Method</td>\n                        <td id=\"T_09422_row10_col1\" class=\"data row10 col1\" >None</td>\n            </tr>\n            <tr>\n                        <th id=\"T_09422_level0_row11\" class=\"row_heading level0 row11\" >11</th>\n                        <td id=\"T_09422_row11_col0\" class=\"data row11 col0\" >Transformed Train Set</td>\n                        <td id=\"T_09422_row11_col1\" class=\"data row11 col1\" >(712, 38)</td>\n            </tr>\n            <tr>\n                        <th id=\"T_09422_level0_row12\" class=\"row_heading level0 row12\" >12</th>\n                        <td id=\"T_09422_row12_col0\" class=\"data row12 col0\" >Transformed Test Set</td>\n                        <td id=\"T_09422_row12_col1\" class=\"data row12 col1\" >(179, 38)</td>\n            </tr>\n            <tr>\n                        <th id=\"T_09422_level0_row13\" class=\"row_heading level0 row13\" >13</th>\n                        <td id=\"T_09422_row13_col0\" class=\"data row13 col0\" >Shuffle Train-Test</td>\n                        <td id=\"T_09422_row13_col1\" class=\"data row13 col1\" >True</td>\n            </tr>\n            <tr>\n                        <th id=\"T_09422_level0_row14\" class=\"row_heading level0 row14\" >14</th>\n                        <td id=\"T_09422_row14_col0\" class=\"data row14 col0\" >Stratify Train-Test</td>\n                        <td id=\"T_09422_row14_col1\" class=\"data row14 col1\" >False</td>\n            </tr>\n            <tr>\n                        <th id=\"T_09422_level0_row15\" class=\"row_heading level0 row15\" >15</th>\n                        <td id=\"T_09422_row15_col0\" class=\"data row15 col0\" >Fold Generator</td>\n                        <td id=\"T_09422_row15_col1\" class=\"data row15 col1\" >StratifiedKFold</td>\n            </tr>\n            <tr>\n                        <th id=\"T_09422_level0_row16\" class=\"row_heading level0 row16\" >16</th>\n                        <td id=\"T_09422_row16_col0\" class=\"data row16 col0\" >Fold Number</td>\n                        <td id=\"T_09422_row16_col1\" class=\"data row16 col1\" >10</td>\n            </tr>\n            <tr>\n                        <th id=\"T_09422_level0_row17\" class=\"row_heading level0 row17\" >17</th>\n                        <td id=\"T_09422_row17_col0\" class=\"data row17 col0\" >CPU Jobs</td>\n                        <td id=\"T_09422_row17_col1\" class=\"data row17 col1\" >-1</td>\n            </tr>\n            <tr>\n                        <th id=\"T_09422_level0_row18\" class=\"row_heading level0 row18\" >18</th>\n                        <td id=\"T_09422_row18_col0\" class=\"data row18 col0\" >Use GPU</td>\n                        <td id=\"T_09422_row18_col1\" class=\"data row18 col1\" >False</td>\n            </tr>\n            <tr>\n                        <th id=\"T_09422_level0_row19\" class=\"row_heading level0 row19\" >19</th>\n                        <td id=\"T_09422_row19_col0\" class=\"data row19 col0\" >Log Experiment</td>\n                        <td id=\"T_09422_row19_col1\" class=\"data row19 col1\" >False</td>\n            </tr>\n            <tr>\n                        <th id=\"T_09422_level0_row20\" class=\"row_heading level0 row20\" >20</th>\n                        <td id=\"T_09422_row20_col0\" class=\"data row20 col0\" >Experiment Name</td>\n                        <td id=\"T_09422_row20_col1\" class=\"data row20 col1\" >clf-default-name</td>\n            </tr>\n            <tr>\n                        <th id=\"T_09422_level0_row21\" class=\"row_heading level0 row21\" >21</th>\n                        <td id=\"T_09422_row21_col0\" class=\"data row21 col0\" >USI</td>\n                        <td id=\"T_09422_row21_col1\" class=\"data row21 col1\" >8ba2</td>\n            </tr>\n            <tr>\n                        <th id=\"T_09422_level0_row22\" class=\"row_heading level0 row22\" >22</th>\n                        <td id=\"T_09422_row22_col0\" class=\"data row22 col0\" >Imputation Type</td>\n                        <td id=\"T_09422_row22_col1\" class=\"data row22 col1\" >simple</td>\n            </tr>\n            <tr>\n                        <th id=\"T_09422_level0_row23\" class=\"row_heading level0 row23\" >23</th>\n                        <td id=\"T_09422_row23_col0\" class=\"data row23 col0\" >Iterative Imputation Iteration</td>\n                        <td id=\"T_09422_row23_col1\" class=\"data row23 col1\" >None</td>\n            </tr>\n            <tr>\n                        <th id=\"T_09422_level0_row24\" class=\"row_heading level0 row24\" >24</th>\n                        <td id=\"T_09422_row24_col0\" class=\"data row24 col0\" >Numeric Imputer</td>\n                        <td id=\"T_09422_row24_col1\" class=\"data row24 col1\" >mean</td>\n            </tr>\n            <tr>\n                        <th id=\"T_09422_level0_row25\" class=\"row_heading level0 row25\" >25</th>\n                        <td id=\"T_09422_row25_col0\" class=\"data row25 col0\" >Iterative Imputation Numeric Model</td>\n                        <td id=\"T_09422_row25_col1\" class=\"data row25 col1\" >None</td>\n            </tr>\n            <tr>\n                        <th id=\"T_09422_level0_row26\" class=\"row_heading level0 row26\" >26</th>\n                        <td id=\"T_09422_row26_col0\" class=\"data row26 col0\" >Categorical Imputer</td>\n                        <td id=\"T_09422_row26_col1\" class=\"data row26 col1\" >constant</td>\n            </tr>\n            <tr>\n                        <th id=\"T_09422_level0_row27\" class=\"row_heading level0 row27\" >27</th>\n                        <td id=\"T_09422_row27_col0\" class=\"data row27 col0\" >Iterative Imputation Categorical Model</td>\n                        <td id=\"T_09422_row27_col1\" class=\"data row27 col1\" >None</td>\n            </tr>\n            <tr>\n                        <th id=\"T_09422_level0_row28\" class=\"row_heading level0 row28\" >28</th>\n                        <td id=\"T_09422_row28_col0\" class=\"data row28 col0\" >Unknown Categoricals Handling</td>\n                        <td id=\"T_09422_row28_col1\" class=\"data row28 col1\" >least_frequent</td>\n            </tr>\n            <tr>\n                        <th id=\"T_09422_level0_row29\" class=\"row_heading level0 row29\" >29</th>\n                        <td id=\"T_09422_row29_col0\" class=\"data row29 col0\" >Normalize</td>\n                        <td id=\"T_09422_row29_col1\" class=\"data row29 col1\" >True</td>\n            </tr>\n            <tr>\n                        <th id=\"T_09422_level0_row30\" class=\"row_heading level0 row30\" >30</th>\n                        <td id=\"T_09422_row30_col0\" class=\"data row30 col0\" >Normalize Method</td>\n                        <td id=\"T_09422_row30_col1\" class=\"data row30 col1\" >zscore</td>\n            </tr>\n            <tr>\n                        <th id=\"T_09422_level0_row31\" class=\"row_heading level0 row31\" >31</th>\n                        <td id=\"T_09422_row31_col0\" class=\"data row31 col0\" >Transformation</td>\n                        <td id=\"T_09422_row31_col1\" class=\"data row31 col1\" >False</td>\n            </tr>\n            <tr>\n                        <th id=\"T_09422_level0_row32\" class=\"row_heading level0 row32\" >32</th>\n                        <td id=\"T_09422_row32_col0\" class=\"data row32 col0\" >Transformation Method</td>\n                        <td id=\"T_09422_row32_col1\" class=\"data row32 col1\" >None</td>\n            </tr>\n            <tr>\n                        <th id=\"T_09422_level0_row33\" class=\"row_heading level0 row33\" >33</th>\n                        <td id=\"T_09422_row33_col0\" class=\"data row33 col0\" >PCA</td>\n                        <td id=\"T_09422_row33_col1\" class=\"data row33 col1\" >False</td>\n            </tr>\n            <tr>\n                        <th id=\"T_09422_level0_row34\" class=\"row_heading level0 row34\" >34</th>\n                        <td id=\"T_09422_row34_col0\" class=\"data row34 col0\" >PCA Method</td>\n                        <td id=\"T_09422_row34_col1\" class=\"data row34 col1\" >None</td>\n            </tr>\n            <tr>\n                        <th id=\"T_09422_level0_row35\" class=\"row_heading level0 row35\" >35</th>\n                        <td id=\"T_09422_row35_col0\" class=\"data row35 col0\" >PCA Components</td>\n                        <td id=\"T_09422_row35_col1\" class=\"data row35 col1\" >None</td>\n            </tr>\n            <tr>\n                        <th id=\"T_09422_level0_row36\" class=\"row_heading level0 row36\" >36</th>\n                        <td id=\"T_09422_row36_col0\" class=\"data row36 col0\" >Ignore Low Variance</td>\n                        <td id=\"T_09422_row36_col1\" class=\"data row36 col1\" >False</td>\n            </tr>\n            <tr>\n                        <th id=\"T_09422_level0_row37\" class=\"row_heading level0 row37\" >37</th>\n                        <td id=\"T_09422_row37_col0\" class=\"data row37 col0\" >Combine Rare Levels</td>\n                        <td id=\"T_09422_row37_col1\" class=\"data row37 col1\" >False</td>\n            </tr>\n            <tr>\n                        <th id=\"T_09422_level0_row38\" class=\"row_heading level0 row38\" >38</th>\n                        <td id=\"T_09422_row38_col0\" class=\"data row38 col0\" >Rare Level Threshold</td>\n                        <td id=\"T_09422_row38_col1\" class=\"data row38 col1\" >None</td>\n            </tr>\n            <tr>\n                        <th id=\"T_09422_level0_row39\" class=\"row_heading level0 row39\" >39</th>\n                        <td id=\"T_09422_row39_col0\" class=\"data row39 col0\" >Numeric Binning</td>\n                        <td id=\"T_09422_row39_col1\" class=\"data row39 col1\" >False</td>\n            </tr>\n            <tr>\n                        <th id=\"T_09422_level0_row40\" class=\"row_heading level0 row40\" >40</th>\n                        <td id=\"T_09422_row40_col0\" class=\"data row40 col0\" >Remove Outliers</td>\n                        <td id=\"T_09422_row40_col1\" class=\"data row40 col1\" >False</td>\n            </tr>\n            <tr>\n                        <th id=\"T_09422_level0_row41\" class=\"row_heading level0 row41\" >41</th>\n                        <td id=\"T_09422_row41_col0\" class=\"data row41 col0\" >Outliers Threshold</td>\n                        <td id=\"T_09422_row41_col1\" class=\"data row41 col1\" >None</td>\n            </tr>\n            <tr>\n                        <th id=\"T_09422_level0_row42\" class=\"row_heading level0 row42\" >42</th>\n                        <td id=\"T_09422_row42_col0\" class=\"data row42 col0\" >Remove Multicollinearity</td>\n                        <td id=\"T_09422_row42_col1\" class=\"data row42 col1\" >False</td>\n            </tr>\n            <tr>\n                        <th id=\"T_09422_level0_row43\" class=\"row_heading level0 row43\" >43</th>\n                        <td id=\"T_09422_row43_col0\" class=\"data row43 col0\" >Multicollinearity Threshold</td>\n                        <td id=\"T_09422_row43_col1\" class=\"data row43 col1\" >None</td>\n            </tr>\n            <tr>\n                        <th id=\"T_09422_level0_row44\" class=\"row_heading level0 row44\" >44</th>\n                        <td id=\"T_09422_row44_col0\" class=\"data row44 col0\" >Clustering</td>\n                        <td id=\"T_09422_row44_col1\" class=\"data row44 col1\" >False</td>\n            </tr>\n            <tr>\n                        <th id=\"T_09422_level0_row45\" class=\"row_heading level0 row45\" >45</th>\n                        <td id=\"T_09422_row45_col0\" class=\"data row45 col0\" >Clustering Iteration</td>\n                        <td id=\"T_09422_row45_col1\" class=\"data row45 col1\" >None</td>\n            </tr>\n            <tr>\n                        <th id=\"T_09422_level0_row46\" class=\"row_heading level0 row46\" >46</th>\n                        <td id=\"T_09422_row46_col0\" class=\"data row46 col0\" >Polynomial Features</td>\n                        <td id=\"T_09422_row46_col1\" class=\"data row46 col1\" >False</td>\n            </tr>\n            <tr>\n                        <th id=\"T_09422_level0_row47\" class=\"row_heading level0 row47\" >47</th>\n                        <td id=\"T_09422_row47_col0\" class=\"data row47 col0\" >Polynomial Degree</td>\n                        <td id=\"T_09422_row47_col1\" class=\"data row47 col1\" >None</td>\n            </tr>\n            <tr>\n                        <th id=\"T_09422_level0_row48\" class=\"row_heading level0 row48\" >48</th>\n                        <td id=\"T_09422_row48_col0\" class=\"data row48 col0\" >Trignometry Features</td>\n                        <td id=\"T_09422_row48_col1\" class=\"data row48 col1\" >False</td>\n            </tr>\n            <tr>\n                        <th id=\"T_09422_level0_row49\" class=\"row_heading level0 row49\" >49</th>\n                        <td id=\"T_09422_row49_col0\" class=\"data row49 col0\" >Polynomial Threshold</td>\n                        <td id=\"T_09422_row49_col1\" class=\"data row49 col1\" >None</td>\n            </tr>\n            <tr>\n                        <th id=\"T_09422_level0_row50\" class=\"row_heading level0 row50\" >50</th>\n                        <td id=\"T_09422_row50_col0\" class=\"data row50 col0\" >Group Features</td>\n                        <td id=\"T_09422_row50_col1\" class=\"data row50 col1\" >False</td>\n            </tr>\n            <tr>\n                        <th id=\"T_09422_level0_row51\" class=\"row_heading level0 row51\" >51</th>\n                        <td id=\"T_09422_row51_col0\" class=\"data row51 col0\" >Feature Selection</td>\n                        <td id=\"T_09422_row51_col1\" class=\"data row51 col1\" >False</td>\n            </tr>\n            <tr>\n                        <th id=\"T_09422_level0_row52\" class=\"row_heading level0 row52\" >52</th>\n                        <td id=\"T_09422_row52_col0\" class=\"data row52 col0\" >Feature Selection Method</td>\n                        <td id=\"T_09422_row52_col1\" class=\"data row52 col1\" >classic</td>\n            </tr>\n            <tr>\n                        <th id=\"T_09422_level0_row53\" class=\"row_heading level0 row53\" >53</th>\n                        <td id=\"T_09422_row53_col0\" class=\"data row53 col0\" >Features Selection Threshold</td>\n                        <td id=\"T_09422_row53_col1\" class=\"data row53 col1\" >None</td>\n            </tr>\n            <tr>\n                        <th id=\"T_09422_level0_row54\" class=\"row_heading level0 row54\" >54</th>\n                        <td id=\"T_09422_row54_col0\" class=\"data row54 col0\" >Feature Interaction</td>\n                        <td id=\"T_09422_row54_col1\" class=\"data row54 col1\" >False</td>\n            </tr>\n            <tr>\n                        <th id=\"T_09422_level0_row55\" class=\"row_heading level0 row55\" >55</th>\n                        <td id=\"T_09422_row55_col0\" class=\"data row55 col0\" >Feature Ratio</td>\n                        <td id=\"T_09422_row55_col1\" class=\"data row55 col1\" >False</td>\n            </tr>\n            <tr>\n                        <th id=\"T_09422_level0_row56\" class=\"row_heading level0 row56\" >56</th>\n                        <td id=\"T_09422_row56_col0\" class=\"data row56 col0\" >Interaction Threshold</td>\n                        <td id=\"T_09422_row56_col1\" class=\"data row56 col1\" >None</td>\n            </tr>\n            <tr>\n                        <th id=\"T_09422_level0_row57\" class=\"row_heading level0 row57\" >57</th>\n                        <td id=\"T_09422_row57_col0\" class=\"data row57 col0\" >Fix Imbalance</td>\n                        <td id=\"T_09422_row57_col1\" class=\"data row57 col1\" >False</td>\n            </tr>\n            <tr>\n                        <th id=\"T_09422_level0_row58\" class=\"row_heading level0 row58\" >58</th>\n                        <td id=\"T_09422_row58_col0\" class=\"data row58 col0\" >Fix Imbalance Method</td>\n                        <td id=\"T_09422_row58_col1\" class=\"data row58 col1\" >SMOTE</td>\n            </tr>\n    </tbody></table>"
     },
     "metadata": {}
    }
   ],
   "source": [
    "# normalize data since we are going to be using models that need normalization\n",
    "exp_clf = setup(data, target = 'Survived', train_size = .8, normalize= True, log_experiment= False)"
   ]
  },
  {
   "cell_type": "code",
   "execution_count": 5,
   "metadata": {},
   "outputs": [
    {
     "output_type": "display_data",
     "data": {
      "text/plain": "<pandas.io.formats.style.Styler at 0x7f9990f668e0>",
      "text/html": "<style  type=\"text/css\" >\n    #T_95949_ th {\n          text-align: left;\n    }#T_95949_row0_col0,#T_95949_row0_col3,#T_95949_row1_col0,#T_95949_row1_col1,#T_95949_row1_col2,#T_95949_row1_col3,#T_95949_row1_col4,#T_95949_row1_col5,#T_95949_row1_col6,#T_95949_row1_col7,#T_95949_row2_col0,#T_95949_row2_col1,#T_95949_row2_col2,#T_95949_row2_col3,#T_95949_row2_col4,#T_95949_row2_col5,#T_95949_row2_col6,#T_95949_row2_col7,#T_95949_row3_col0,#T_95949_row3_col1,#T_95949_row3_col2,#T_95949_row3_col3,#T_95949_row3_col4,#T_95949_row3_col5,#T_95949_row3_col6,#T_95949_row3_col7,#T_95949_row4_col0,#T_95949_row4_col1,#T_95949_row4_col2,#T_95949_row4_col3,#T_95949_row4_col4,#T_95949_row4_col5,#T_95949_row4_col6,#T_95949_row4_col7,#T_95949_row5_col0,#T_95949_row5_col1,#T_95949_row5_col2,#T_95949_row5_col3,#T_95949_row5_col4,#T_95949_row5_col5,#T_95949_row5_col6,#T_95949_row5_col7,#T_95949_row6_col0,#T_95949_row6_col1,#T_95949_row6_col2,#T_95949_row6_col3,#T_95949_row6_col4,#T_95949_row6_col5,#T_95949_row6_col6,#T_95949_row6_col7,#T_95949_row7_col0,#T_95949_row7_col1,#T_95949_row7_col2,#T_95949_row7_col3,#T_95949_row7_col4,#T_95949_row7_col5,#T_95949_row7_col6,#T_95949_row7_col7,#T_95949_row8_col0,#T_95949_row8_col1,#T_95949_row8_col2,#T_95949_row8_col3,#T_95949_row8_col4,#T_95949_row8_col5,#T_95949_row8_col6,#T_95949_row8_col7,#T_95949_row9_col0,#T_95949_row9_col1,#T_95949_row9_col2,#T_95949_row9_col3,#T_95949_row9_col4,#T_95949_row9_col5,#T_95949_row9_col6,#T_95949_row9_col7,#T_95949_row10_col0,#T_95949_row10_col1,#T_95949_row10_col2,#T_95949_row10_col3,#T_95949_row10_col4,#T_95949_row10_col5,#T_95949_row10_col6,#T_95949_row10_col7,#T_95949_row11_col0,#T_95949_row11_col1,#T_95949_row11_col2,#T_95949_row11_col3,#T_95949_row11_col4,#T_95949_row11_col5,#T_95949_row11_col6,#T_95949_row11_col7,#T_95949_row12_col0,#T_95949_row12_col1,#T_95949_row12_col2,#T_95949_row12_col3,#T_95949_row12_col4,#T_95949_row12_col5,#T_95949_row12_col6,#T_95949_row12_col7,#T_95949_row13_col0,#T_95949_row13_col1,#T_95949_row13_col2,#T_95949_row13_col3,#T_95949_row13_col4,#T_95949_row13_col5,#T_95949_row13_col6,#T_95949_row13_col7,#T_95949_row14_col0,#T_95949_row14_col1,#T_95949_row14_col2,#T_95949_row14_col4,#T_95949_row14_col5,#T_95949_row14_col6,#T_95949_row14_col7{\n            text-align:  left;\n            text-align:  left;\n        }#T_95949_row0_col1,#T_95949_row0_col2,#T_95949_row0_col4,#T_95949_row0_col5,#T_95949_row0_col6,#T_95949_row0_col7,#T_95949_row14_col3{\n            text-align:  left;\n            text-align:  left;\n            background-color:  yellow;\n        }#T_95949_row0_col8,#T_95949_row1_col8,#T_95949_row2_col8,#T_95949_row3_col8,#T_95949_row4_col8,#T_95949_row5_col8,#T_95949_row6_col8,#T_95949_row7_col8,#T_95949_row8_col8,#T_95949_row9_col8,#T_95949_row10_col8,#T_95949_row11_col8,#T_95949_row13_col8,#T_95949_row14_col8{\n            text-align:  left;\n            text-align:  left;\n            background-color:  lightgrey;\n        }#T_95949_row12_col8{\n            text-align:  left;\n            text-align:  left;\n            background-color:  yellow;\n            background-color:  lightgrey;\n        }</style><table id=\"T_95949_\" ><thead>    <tr>        <th class=\"blank level0\" ></th>        <th class=\"col_heading level0 col0\" >Model</th>        <th class=\"col_heading level0 col1\" >Accuracy</th>        <th class=\"col_heading level0 col2\" >AUC</th>        <th class=\"col_heading level0 col3\" >Recall</th>        <th class=\"col_heading level0 col4\" >Prec.</th>        <th class=\"col_heading level0 col5\" >F1</th>        <th class=\"col_heading level0 col6\" >Kappa</th>        <th class=\"col_heading level0 col7\" >MCC</th>        <th class=\"col_heading level0 col8\" >TT (Sec)</th>    </tr></thead><tbody>\n                <tr>\n                        <th id=\"T_95949_level0_row0\" class=\"row_heading level0 row0\" >gbc</th>\n                        <td id=\"T_95949_row0_col0\" class=\"data row0 col0\" >Gradient Boosting Classifier</td>\n                        <td id=\"T_95949_row0_col1\" class=\"data row0 col1\" >0.8273</td>\n                        <td id=\"T_95949_row0_col2\" class=\"data row0 col2\" >0.8781</td>\n                        <td id=\"T_95949_row0_col3\" class=\"data row0 col3\" >0.7120</td>\n                        <td id=\"T_95949_row0_col4\" class=\"data row0 col4\" >0.8057</td>\n                        <td id=\"T_95949_row0_col5\" class=\"data row0 col5\" >0.7546</td>\n                        <td id=\"T_95949_row0_col6\" class=\"data row0 col6\" >0.6224</td>\n                        <td id=\"T_95949_row0_col7\" class=\"data row0 col7\" >0.6263</td>\n                        <td id=\"T_95949_row0_col8\" class=\"data row0 col8\" >0.0190</td>\n            </tr>\n            <tr>\n                        <th id=\"T_95949_level0_row1\" class=\"row_heading level0 row1\" >catboost</th>\n                        <td id=\"T_95949_row1_col0\" class=\"data row1 col0\" >CatBoost Classifier</td>\n                        <td id=\"T_95949_row1_col1\" class=\"data row1 col1\" >0.8217</td>\n                        <td id=\"T_95949_row1_col2\" class=\"data row1 col2\" >0.8705</td>\n                        <td id=\"T_95949_row1_col3\" class=\"data row1 col3\" >0.6966</td>\n                        <td id=\"T_95949_row1_col4\" class=\"data row1 col4\" >0.8036</td>\n                        <td id=\"T_95949_row1_col5\" class=\"data row1 col5\" >0.7452</td>\n                        <td id=\"T_95949_row1_col6\" class=\"data row1 col6\" >0.6092</td>\n                        <td id=\"T_95949_row1_col7\" class=\"data row1 col7\" >0.6137</td>\n                        <td id=\"T_95949_row1_col8\" class=\"data row1 col8\" >0.9680</td>\n            </tr>\n            <tr>\n                        <th id=\"T_95949_level0_row2\" class=\"row_heading level0 row2\" >lightgbm</th>\n                        <td id=\"T_95949_row2_col0\" class=\"data row2 col0\" >Light Gradient Boosting Machine</td>\n                        <td id=\"T_95949_row2_col1\" class=\"data row2 col1\" >0.8189</td>\n                        <td id=\"T_95949_row2_col2\" class=\"data row2 col2\" >0.8600</td>\n                        <td id=\"T_95949_row2_col3\" class=\"data row2 col3\" >0.7187</td>\n                        <td id=\"T_95949_row2_col4\" class=\"data row2 col4\" >0.7830</td>\n                        <td id=\"T_95949_row2_col5\" class=\"data row2 col5\" >0.7478</td>\n                        <td id=\"T_95949_row2_col6\" class=\"data row2 col6\" >0.6070</td>\n                        <td id=\"T_95949_row2_col7\" class=\"data row2 col7\" >0.6099</td>\n                        <td id=\"T_95949_row2_col8\" class=\"data row2 col8\" >0.0140</td>\n            </tr>\n            <tr>\n                        <th id=\"T_95949_level0_row3\" class=\"row_heading level0 row3\" >ridge</th>\n                        <td id=\"T_95949_row3_col0\" class=\"data row3 col0\" >Ridge Classifier</td>\n                        <td id=\"T_95949_row3_col1\" class=\"data row3 col1\" >0.8146</td>\n                        <td id=\"T_95949_row3_col2\" class=\"data row3 col2\" >0.0000</td>\n                        <td id=\"T_95949_row3_col3\" class=\"data row3 col3\" >0.7340</td>\n                        <td id=\"T_95949_row3_col4\" class=\"data row3 col4\" >0.7675</td>\n                        <td id=\"T_95949_row3_col5\" class=\"data row3 col5\" >0.7472</td>\n                        <td id=\"T_95949_row3_col6\" class=\"data row3 col6\" >0.6014</td>\n                        <td id=\"T_95949_row3_col7\" class=\"data row3 col7\" >0.6048</td>\n                        <td id=\"T_95949_row3_col8\" class=\"data row3 col8\" >0.0200</td>\n            </tr>\n            <tr>\n                        <th id=\"T_95949_level0_row4\" class=\"row_heading level0 row4\" >lda</th>\n                        <td id=\"T_95949_row4_col0\" class=\"data row4 col0\" >Linear Discriminant Analysis</td>\n                        <td id=\"T_95949_row4_col1\" class=\"data row4 col1\" >0.8146</td>\n                        <td id=\"T_95949_row4_col2\" class=\"data row4 col2\" >0.8539</td>\n                        <td id=\"T_95949_row4_col3\" class=\"data row4 col3\" >0.7342</td>\n                        <td id=\"T_95949_row4_col4\" class=\"data row4 col4\" >0.7673</td>\n                        <td id=\"T_95949_row4_col5\" class=\"data row4 col5\" >0.7472</td>\n                        <td id=\"T_95949_row4_col6\" class=\"data row4 col6\" >0.6014</td>\n                        <td id=\"T_95949_row4_col7\" class=\"data row4 col7\" >0.6048</td>\n                        <td id=\"T_95949_row4_col8\" class=\"data row4 col8\" >0.0210</td>\n            </tr>\n            <tr>\n                        <th id=\"T_95949_level0_row5\" class=\"row_heading level0 row5\" >svm</th>\n                        <td id=\"T_95949_row5_col0\" class=\"data row5 col0\" >SVM - Linear Kernel</td>\n                        <td id=\"T_95949_row5_col1\" class=\"data row5 col1\" >0.8133</td>\n                        <td id=\"T_95949_row5_col2\" class=\"data row5 col2\" >0.0000</td>\n                        <td id=\"T_95949_row5_col3\" class=\"data row5 col3\" >0.7160</td>\n                        <td id=\"T_95949_row5_col4\" class=\"data row5 col4\" >0.7759</td>\n                        <td id=\"T_95949_row5_col5\" class=\"data row5 col5\" >0.7415</td>\n                        <td id=\"T_95949_row5_col6\" class=\"data row5 col6\" >0.5962</td>\n                        <td id=\"T_95949_row5_col7\" class=\"data row5 col7\" >0.6002</td>\n                        <td id=\"T_95949_row5_col8\" class=\"data row5 col8\" >0.0230</td>\n            </tr>\n            <tr>\n                        <th id=\"T_95949_level0_row6\" class=\"row_heading level0 row6\" >ada</th>\n                        <td id=\"T_95949_row6_col0\" class=\"data row6 col0\" >Ada Boost Classifier</td>\n                        <td id=\"T_95949_row6_col1\" class=\"data row6 col1\" >0.8118</td>\n                        <td id=\"T_95949_row6_col2\" class=\"data row6 col2\" >0.8465</td>\n                        <td id=\"T_95949_row6_col3\" class=\"data row6 col3\" >0.7417</td>\n                        <td id=\"T_95949_row6_col4\" class=\"data row6 col4\" >0.7571</td>\n                        <td id=\"T_95949_row6_col5\" class=\"data row6 col5\" >0.7474</td>\n                        <td id=\"T_95949_row6_col6\" class=\"data row6 col6\" >0.5977</td>\n                        <td id=\"T_95949_row6_col7\" class=\"data row6 col7\" >0.5996</td>\n                        <td id=\"T_95949_row6_col8\" class=\"data row6 col8\" >0.0170</td>\n            </tr>\n            <tr>\n                        <th id=\"T_95949_level0_row7\" class=\"row_heading level0 row7\" >lr</th>\n                        <td id=\"T_95949_row7_col0\" class=\"data row7 col0\" >Logistic Regression</td>\n                        <td id=\"T_95949_row7_col1\" class=\"data row7 col1\" >0.8103</td>\n                        <td id=\"T_95949_row7_col2\" class=\"data row7 col2\" >0.8542</td>\n                        <td id=\"T_95949_row7_col3\" class=\"data row7 col3\" >0.7157</td>\n                        <td id=\"T_95949_row7_col4\" class=\"data row7 col4\" >0.7667</td>\n                        <td id=\"T_95949_row7_col5\" class=\"data row7 col5\" >0.7394</td>\n                        <td id=\"T_95949_row7_col6\" class=\"data row7 col6\" >0.5907</td>\n                        <td id=\"T_95949_row7_col7\" class=\"data row7 col7\" >0.5924</td>\n                        <td id=\"T_95949_row7_col8\" class=\"data row7 col8\" >0.2590</td>\n            </tr>\n            <tr>\n                        <th id=\"T_95949_level0_row8\" class=\"row_heading level0 row8\" >knn</th>\n                        <td id=\"T_95949_row8_col0\" class=\"data row8 col0\" >K Neighbors Classifier</td>\n                        <td id=\"T_95949_row8_col1\" class=\"data row8 col1\" >0.8020</td>\n                        <td id=\"T_95949_row8_col2\" class=\"data row8 col2\" >0.8474</td>\n                        <td id=\"T_95949_row8_col3\" class=\"data row8 col3\" >0.6852</td>\n                        <td id=\"T_95949_row8_col4\" class=\"data row8 col4\" >0.7640</td>\n                        <td id=\"T_95949_row8_col5\" class=\"data row8 col5\" >0.7212</td>\n                        <td id=\"T_95949_row8_col6\" class=\"data row8 col6\" >0.5685</td>\n                        <td id=\"T_95949_row8_col7\" class=\"data row8 col7\" >0.5716</td>\n                        <td id=\"T_95949_row8_col8\" class=\"data row8 col8\" >0.1370</td>\n            </tr>\n            <tr>\n                        <th id=\"T_95949_level0_row9\" class=\"row_heading level0 row9\" >xgboost</th>\n                        <td id=\"T_95949_row9_col0\" class=\"data row9 col0\" >Extreme Gradient Boosting</td>\n                        <td id=\"T_95949_row9_col1\" class=\"data row9 col1\" >0.8006</td>\n                        <td id=\"T_95949_row9_col2\" class=\"data row9 col2\" >0.8556</td>\n                        <td id=\"T_95949_row9_col3\" class=\"data row9 col3\" >0.7004</td>\n                        <td id=\"T_95949_row9_col4\" class=\"data row9 col4\" >0.7540</td>\n                        <td id=\"T_95949_row9_col5\" class=\"data row9 col5\" >0.7251</td>\n                        <td id=\"T_95949_row9_col6\" class=\"data row9 col6\" >0.5690</td>\n                        <td id=\"T_95949_row9_col7\" class=\"data row9 col7\" >0.5711</td>\n                        <td id=\"T_95949_row9_col8\" class=\"data row9 col8\" >0.0990</td>\n            </tr>\n            <tr>\n                        <th id=\"T_95949_level0_row10\" class=\"row_heading level0 row10\" >rf</th>\n                        <td id=\"T_95949_row10_col0\" class=\"data row10 col0\" >Random Forest Classifier</td>\n                        <td id=\"T_95949_row10_col1\" class=\"data row10 col1\" >0.7978</td>\n                        <td id=\"T_95949_row10_col2\" class=\"data row10 col2\" >0.8511</td>\n                        <td id=\"T_95949_row10_col3\" class=\"data row10 col3\" >0.7114</td>\n                        <td id=\"T_95949_row10_col4\" class=\"data row10 col4\" >0.7404</td>\n                        <td id=\"T_95949_row10_col5\" class=\"data row10 col5\" >0.7241</td>\n                        <td id=\"T_95949_row10_col6\" class=\"data row10 col6\" >0.5647</td>\n                        <td id=\"T_95949_row10_col7\" class=\"data row10 col7\" >0.5664</td>\n                        <td id=\"T_95949_row10_col8\" class=\"data row10 col8\" >0.0500</td>\n            </tr>\n            <tr>\n                        <th id=\"T_95949_level0_row11\" class=\"row_heading level0 row11\" >et</th>\n                        <td id=\"T_95949_row11_col0\" class=\"data row11 col0\" >Extra Trees Classifier</td>\n                        <td id=\"T_95949_row11_col1\" class=\"data row11 col1\" >0.7963</td>\n                        <td id=\"T_95949_row11_col2\" class=\"data row11 col2\" >0.8235</td>\n                        <td id=\"T_95949_row11_col3\" class=\"data row11 col3\" >0.7003</td>\n                        <td id=\"T_95949_row11_col4\" class=\"data row11 col4\" >0.7430</td>\n                        <td id=\"T_95949_row11_col5\" class=\"data row11 col5\" >0.7200</td>\n                        <td id=\"T_95949_row11_col6\" class=\"data row11 col6\" >0.5603</td>\n                        <td id=\"T_95949_row11_col7\" class=\"data row11 col7\" >0.5618</td>\n                        <td id=\"T_95949_row11_col8\" class=\"data row11 col8\" >0.0450</td>\n            </tr>\n            <tr>\n                        <th id=\"T_95949_level0_row12\" class=\"row_heading level0 row12\" >dt</th>\n                        <td id=\"T_95949_row12_col0\" class=\"data row12 col0\" >Decision Tree Classifier</td>\n                        <td id=\"T_95949_row12_col1\" class=\"data row12 col1\" >0.7824</td>\n                        <td id=\"T_95949_row12_col2\" class=\"data row12 col2\" >0.7617</td>\n                        <td id=\"T_95949_row12_col3\" class=\"data row12 col3\" >0.6969</td>\n                        <td id=\"T_95949_row12_col4\" class=\"data row12 col4\" >0.7146</td>\n                        <td id=\"T_95949_row12_col5\" class=\"data row12 col5\" >0.7041</td>\n                        <td id=\"T_95949_row12_col6\" class=\"data row12 col6\" >0.5323</td>\n                        <td id=\"T_95949_row12_col7\" class=\"data row12 col7\" >0.5338</td>\n                        <td id=\"T_95949_row12_col8\" class=\"data row12 col8\" >0.0060</td>\n            </tr>\n            <tr>\n                        <th id=\"T_95949_level0_row13\" class=\"row_heading level0 row13\" >qda</th>\n                        <td id=\"T_95949_row13_col0\" class=\"data row13 col0\" >Quadratic Discriminant Analysis</td>\n                        <td id=\"T_95949_row13_col1\" class=\"data row13 col1\" >0.7401</td>\n                        <td id=\"T_95949_row13_col2\" class=\"data row13 col2\" >0.7233</td>\n                        <td id=\"T_95949_row13_col3\" class=\"data row13 col3\" >0.6560</td>\n                        <td id=\"T_95949_row13_col4\" class=\"data row13 col4\" >0.6650</td>\n                        <td id=\"T_95949_row13_col5\" class=\"data row13 col5\" >0.6509</td>\n                        <td id=\"T_95949_row13_col6\" class=\"data row13 col6\" >0.4459</td>\n                        <td id=\"T_95949_row13_col7\" class=\"data row13 col7\" >0.4541</td>\n                        <td id=\"T_95949_row13_col8\" class=\"data row13 col8\" >0.1240</td>\n            </tr>\n            <tr>\n                        <th id=\"T_95949_level0_row14\" class=\"row_heading level0 row14\" >nb</th>\n                        <td id=\"T_95949_row14_col0\" class=\"data row14 col0\" >Naive Bayes</td>\n                        <td id=\"T_95949_row14_col1\" class=\"data row14 col1\" >0.4369</td>\n                        <td id=\"T_95949_row14_col2\" class=\"data row14 col2\" >0.8325</td>\n                        <td id=\"T_95949_row14_col3\" class=\"data row14 col3\" >0.9811</td>\n                        <td id=\"T_95949_row14_col4\" class=\"data row14 col4\" >0.3986</td>\n                        <td id=\"T_95949_row14_col5\" class=\"data row14 col5\" >0.5667</td>\n                        <td id=\"T_95949_row14_col6\" class=\"data row14 col6\" >0.0713</td>\n                        <td id=\"T_95949_row14_col7\" class=\"data row14 col7\" >0.1664</td>\n                        <td id=\"T_95949_row14_col8\" class=\"data row14 col8\" >0.1280</td>\n            </tr>\n    </tbody></table>"
     },
     "metadata": {}
    }
   ],
   "source": [
    "# exp_clf[0].head()\n",
    "\n",
    "#%%\n",
    "\n",
    "best = compare_models()\n",
    "# %%\n"
   ]
  },
  {
   "cell_type": "code",
   "execution_count": 121,
   "metadata": {},
   "outputs": [
    {
     "output_type": "display_data",
     "data": {
      "text/plain": "<pandas.io.formats.style.Styler at 0x7f99926ebf10>",
      "text/html": "<style  type=\"text/css\" >\n#T_efe0f_row10_col0,#T_efe0f_row10_col1,#T_efe0f_row10_col2,#T_efe0f_row10_col3,#T_efe0f_row10_col4,#T_efe0f_row10_col5,#T_efe0f_row10_col6{\n            background:  yellow;\n        }</style><table id=\"T_efe0f_\" ><thead>    <tr>        <th class=\"blank level0\" ></th>        <th class=\"col_heading level0 col0\" >Accuracy</th>        <th class=\"col_heading level0 col1\" >AUC</th>        <th class=\"col_heading level0 col2\" >Recall</th>        <th class=\"col_heading level0 col3\" >Prec.</th>        <th class=\"col_heading level0 col4\" >F1</th>        <th class=\"col_heading level0 col5\" >Kappa</th>        <th class=\"col_heading level0 col6\" >MCC</th>    </tr></thead><tbody>\n                <tr>\n                        <th id=\"T_efe0f_level0_row0\" class=\"row_heading level0 row0\" >0</th>\n                        <td id=\"T_efe0f_row0_col0\" class=\"data row0 col0\" >0.8194</td>\n                        <td id=\"T_efe0f_row0_col1\" class=\"data row0 col1\" >0.7988</td>\n                        <td id=\"T_efe0f_row0_col2\" class=\"data row0 col2\" >0.7778</td>\n                        <td id=\"T_efe0f_row0_col3\" class=\"data row0 col3\" >0.7500</td>\n                        <td id=\"T_efe0f_row0_col4\" class=\"data row0 col4\" >0.7636</td>\n                        <td id=\"T_efe0f_row0_col5\" class=\"data row0 col5\" >0.6176</td>\n                        <td id=\"T_efe0f_row0_col6\" class=\"data row0 col6\" >0.6179</td>\n            </tr>\n            <tr>\n                        <th id=\"T_efe0f_level0_row1\" class=\"row_heading level0 row1\" >1</th>\n                        <td id=\"T_efe0f_row1_col0\" class=\"data row1 col0\" >0.6944</td>\n                        <td id=\"T_efe0f_row1_col1\" class=\"data row1 col1\" >0.6477</td>\n                        <td id=\"T_efe0f_row1_col2\" class=\"data row1 col2\" >0.5556</td>\n                        <td id=\"T_efe0f_row1_col3\" class=\"data row1 col3\" >0.6000</td>\n                        <td id=\"T_efe0f_row1_col4\" class=\"data row1 col4\" >0.5769</td>\n                        <td id=\"T_efe0f_row1_col5\" class=\"data row1 col5\" >0.3383</td>\n                        <td id=\"T_efe0f_row1_col6\" class=\"data row1 col6\" >0.3390</td>\n            </tr>\n            <tr>\n                        <th id=\"T_efe0f_level0_row2\" class=\"row_heading level0 row2\" >2</th>\n                        <td id=\"T_efe0f_row2_col0\" class=\"data row2 col0\" >0.8028</td>\n                        <td id=\"T_efe0f_row2_col1\" class=\"data row2 col1\" >0.7949</td>\n                        <td id=\"T_efe0f_row2_col2\" class=\"data row2 col2\" >0.6923</td>\n                        <td id=\"T_efe0f_row2_col3\" class=\"data row2 col3\" >0.7500</td>\n                        <td id=\"T_efe0f_row2_col4\" class=\"data row2 col4\" >0.7200</td>\n                        <td id=\"T_efe0f_row2_col5\" class=\"data row2 col5\" >0.5682</td>\n                        <td id=\"T_efe0f_row2_col6\" class=\"data row2 col6\" >0.5693</td>\n            </tr>\n            <tr>\n                        <th id=\"T_efe0f_level0_row3\" class=\"row_heading level0 row3\" >3</th>\n                        <td id=\"T_efe0f_row3_col0\" class=\"data row3 col0\" >0.8310</td>\n                        <td id=\"T_efe0f_row3_col1\" class=\"data row3 col1\" >0.8470</td>\n                        <td id=\"T_efe0f_row3_col2\" class=\"data row3 col2\" >0.8462</td>\n                        <td id=\"T_efe0f_row3_col3\" class=\"data row3 col3\" >0.7333</td>\n                        <td id=\"T_efe0f_row3_col4\" class=\"data row3 col4\" >0.7857</td>\n                        <td id=\"T_efe0f_row3_col5\" class=\"data row3 col5\" >0.6474</td>\n                        <td id=\"T_efe0f_row3_col6\" class=\"data row3 col6\" >0.6519</td>\n            </tr>\n            <tr>\n                        <th id=\"T_efe0f_level0_row4\" class=\"row_heading level0 row4\" >4</th>\n                        <td id=\"T_efe0f_row4_col0\" class=\"data row4 col0\" >0.7606</td>\n                        <td id=\"T_efe0f_row4_col1\" class=\"data row4 col1\" >0.7256</td>\n                        <td id=\"T_efe0f_row4_col2\" class=\"data row4 col2\" >0.6154</td>\n                        <td id=\"T_efe0f_row4_col3\" class=\"data row4 col3\" >0.6957</td>\n                        <td id=\"T_efe0f_row4_col4\" class=\"data row4 col4\" >0.6531</td>\n                        <td id=\"T_efe0f_row4_col5\" class=\"data row4 col5\" >0.4713</td>\n                        <td id=\"T_efe0f_row4_col6\" class=\"data row4 col6\" >0.4734</td>\n            </tr>\n            <tr>\n                        <th id=\"T_efe0f_level0_row5\" class=\"row_heading level0 row5\" >5</th>\n                        <td id=\"T_efe0f_row5_col0\" class=\"data row5 col0\" >0.7887</td>\n                        <td id=\"T_efe0f_row5_col1\" class=\"data row5 col1\" >0.7614</td>\n                        <td id=\"T_efe0f_row5_col2\" class=\"data row5 col2\" >0.6667</td>\n                        <td id=\"T_efe0f_row5_col3\" class=\"data row5 col3\" >0.7500</td>\n                        <td id=\"T_efe0f_row5_col4\" class=\"data row5 col4\" >0.7059</td>\n                        <td id=\"T_efe0f_row5_col5\" class=\"data row5 col5\" >0.5419</td>\n                        <td id=\"T_efe0f_row5_col6\" class=\"data row5 col6\" >0.5442</td>\n            </tr>\n            <tr>\n                        <th id=\"T_efe0f_level0_row6\" class=\"row_heading level0 row6\" >6</th>\n                        <td id=\"T_efe0f_row6_col0\" class=\"data row6 col0\" >0.7746</td>\n                        <td id=\"T_efe0f_row6_col1\" class=\"data row6 col1\" >0.7441</td>\n                        <td id=\"T_efe0f_row6_col2\" class=\"data row6 col2\" >0.6667</td>\n                        <td id=\"T_efe0f_row6_col3\" class=\"data row6 col3\" >0.7200</td>\n                        <td id=\"T_efe0f_row6_col4\" class=\"data row6 col4\" >0.6923</td>\n                        <td id=\"T_efe0f_row6_col5\" class=\"data row6 col5\" >0.5149</td>\n                        <td id=\"T_efe0f_row6_col6\" class=\"data row6 col6\" >0.5159</td>\n            </tr>\n            <tr>\n                        <th id=\"T_efe0f_level0_row7\" class=\"row_heading level0 row7\" >7</th>\n                        <td id=\"T_efe0f_row7_col0\" class=\"data row7 col0\" >0.7887</td>\n                        <td id=\"T_efe0f_row7_col1\" class=\"data row7 col1\" >0.7673</td>\n                        <td id=\"T_efe0f_row7_col2\" class=\"data row7 col2\" >0.7407</td>\n                        <td id=\"T_efe0f_row7_col3\" class=\"data row7 col3\" >0.7143</td>\n                        <td id=\"T_efe0f_row7_col4\" class=\"data row7 col4\" >0.7273</td>\n                        <td id=\"T_efe0f_row7_col5\" class=\"data row7 col5\" >0.5550</td>\n                        <td id=\"T_efe0f_row7_col6\" class=\"data row7 col6\" >0.5552</td>\n            </tr>\n            <tr>\n                        <th id=\"T_efe0f_level0_row8\" class=\"row_heading level0 row8\" >8</th>\n                        <td id=\"T_efe0f_row8_col0\" class=\"data row8 col0\" >0.7606</td>\n                        <td id=\"T_efe0f_row8_col1\" class=\"data row8 col1\" >0.7353</td>\n                        <td id=\"T_efe0f_row8_col2\" class=\"data row8 col2\" >0.6296</td>\n                        <td id=\"T_efe0f_row8_col3\" class=\"data row8 col3\" >0.7083</td>\n                        <td id=\"T_efe0f_row8_col4\" class=\"data row8 col4\" >0.6667</td>\n                        <td id=\"T_efe0f_row8_col5\" class=\"data row8 col5\" >0.4809</td>\n                        <td id=\"T_efe0f_row8_col6\" class=\"data row8 col6\" >0.4829</td>\n            </tr>\n            <tr>\n                        <th id=\"T_efe0f_level0_row9\" class=\"row_heading level0 row9\" >9</th>\n                        <td id=\"T_efe0f_row9_col0\" class=\"data row9 col0\" >0.8028</td>\n                        <td id=\"T_efe0f_row9_col1\" class=\"data row9 col1\" >0.7946</td>\n                        <td id=\"T_efe0f_row9_col2\" class=\"data row9 col2\" >0.7778</td>\n                        <td id=\"T_efe0f_row9_col3\" class=\"data row9 col3\" >0.7241</td>\n                        <td id=\"T_efe0f_row9_col4\" class=\"data row9 col4\" >0.7500</td>\n                        <td id=\"T_efe0f_row9_col5\" class=\"data row9 col5\" >0.5876</td>\n                        <td id=\"T_efe0f_row9_col6\" class=\"data row9 col6\" >0.5886</td>\n            </tr>\n            <tr>\n                        <th id=\"T_efe0f_level0_row10\" class=\"row_heading level0 row10\" >Mean</th>\n                        <td id=\"T_efe0f_row10_col0\" class=\"data row10 col0\" >0.7824</td>\n                        <td id=\"T_efe0f_row10_col1\" class=\"data row10 col1\" >0.7617</td>\n                        <td id=\"T_efe0f_row10_col2\" class=\"data row10 col2\" >0.6969</td>\n                        <td id=\"T_efe0f_row10_col3\" class=\"data row10 col3\" >0.7146</td>\n                        <td id=\"T_efe0f_row10_col4\" class=\"data row10 col4\" >0.7041</td>\n                        <td id=\"T_efe0f_row10_col5\" class=\"data row10 col5\" >0.5323</td>\n                        <td id=\"T_efe0f_row10_col6\" class=\"data row10 col6\" >0.5338</td>\n            </tr>\n            <tr>\n                        <th id=\"T_efe0f_level0_row11\" class=\"row_heading level0 row11\" >SD</th>\n                        <td id=\"T_efe0f_row11_col0\" class=\"data row11 col0\" >0.0366</td>\n                        <td id=\"T_efe0f_row11_col1\" class=\"data row11 col1\" >0.0511</td>\n                        <td id=\"T_efe0f_row11_col2\" class=\"data row11 col2\" >0.0838</td>\n                        <td id=\"T_efe0f_row11_col3\" class=\"data row11 col3\" >0.0421</td>\n                        <td id=\"T_efe0f_row11_col4\" class=\"data row11 col4\" >0.0578</td>\n                        <td id=\"T_efe0f_row11_col5\" class=\"data row11 col5\" >0.0835</td>\n                        <td id=\"T_efe0f_row11_col6\" class=\"data row11 col6\" >0.0839</td>\n            </tr>\n    </tbody></table>"
     },
     "metadata": {}
    }
   ],
   "source": [
    "catboost = create_model('dt')\n"
   ]
  },
  {
   "cell_type": "code",
   "execution_count": 122,
   "metadata": {},
   "outputs": [
    {
     "output_type": "display_data",
     "data": {
      "text/plain": "<pandas.io.formats.style.Styler at 0x7f99b9a50c70>",
      "text/html": "<style  type=\"text/css\" >\n#T_b0441_row10_col0,#T_b0441_row10_col1,#T_b0441_row10_col2,#T_b0441_row10_col3,#T_b0441_row10_col4,#T_b0441_row10_col5,#T_b0441_row10_col6{\n            background:  yellow;\n        }</style><table id=\"T_b0441_\" ><thead>    <tr>        <th class=\"blank level0\" ></th>        <th class=\"col_heading level0 col0\" >Accuracy</th>        <th class=\"col_heading level0 col1\" >AUC</th>        <th class=\"col_heading level0 col2\" >Recall</th>        <th class=\"col_heading level0 col3\" >Prec.</th>        <th class=\"col_heading level0 col4\" >F1</th>        <th class=\"col_heading level0 col5\" >Kappa</th>        <th class=\"col_heading level0 col6\" >MCC</th>    </tr></thead><tbody>\n                <tr>\n                        <th id=\"T_b0441_level0_row0\" class=\"row_heading level0 row0\" >0</th>\n                        <td id=\"T_b0441_row0_col0\" class=\"data row0 col0\" >0.8611</td>\n                        <td id=\"T_b0441_row0_col1\" class=\"data row0 col1\" >0.9136</td>\n                        <td id=\"T_b0441_row0_col2\" class=\"data row0 col2\" >0.8148</td>\n                        <td id=\"T_b0441_row0_col3\" class=\"data row0 col3\" >0.8148</td>\n                        <td id=\"T_b0441_row0_col4\" class=\"data row0 col4\" >0.8148</td>\n                        <td id=\"T_b0441_row0_col5\" class=\"data row0 col5\" >0.7037</td>\n                        <td id=\"T_b0441_row0_col6\" class=\"data row0 col6\" >0.7037</td>\n            </tr>\n            <tr>\n                        <th id=\"T_b0441_level0_row1\" class=\"row_heading level0 row1\" >1</th>\n                        <td id=\"T_b0441_row1_col0\" class=\"data row1 col0\" >0.7917</td>\n                        <td id=\"T_b0441_row1_col1\" class=\"data row1 col1\" >0.7930</td>\n                        <td id=\"T_b0441_row1_col2\" class=\"data row1 col2\" >0.6667</td>\n                        <td id=\"T_b0441_row1_col3\" class=\"data row1 col3\" >0.7500</td>\n                        <td id=\"T_b0441_row1_col4\" class=\"data row1 col4\" >0.7059</td>\n                        <td id=\"T_b0441_row1_col5\" class=\"data row1 col5\" >0.5455</td>\n                        <td id=\"T_b0441_row1_col6\" class=\"data row1 col6\" >0.5477</td>\n            </tr>\n            <tr>\n                        <th id=\"T_b0441_level0_row2\" class=\"row_heading level0 row2\" >2</th>\n                        <td id=\"T_b0441_row2_col0\" class=\"data row2 col0\" >0.7887</td>\n                        <td id=\"T_b0441_row2_col1\" class=\"data row2 col1\" >0.8509</td>\n                        <td id=\"T_b0441_row2_col2\" class=\"data row2 col2\" >0.7308</td>\n                        <td id=\"T_b0441_row2_col3\" class=\"data row2 col3\" >0.7037</td>\n                        <td id=\"T_b0441_row2_col4\" class=\"data row2 col4\" >0.7170</td>\n                        <td id=\"T_b0441_row2_col5\" class=\"data row2 col5\" >0.5485</td>\n                        <td id=\"T_b0441_row2_col6\" class=\"data row2 col6\" >0.5488</td>\n            </tr>\n            <tr>\n                        <th id=\"T_b0441_level0_row3\" class=\"row_heading level0 row3\" >3</th>\n                        <td id=\"T_b0441_row3_col0\" class=\"data row3 col0\" >0.8873</td>\n                        <td id=\"T_b0441_row3_col1\" class=\"data row3 col1\" >0.8936</td>\n                        <td id=\"T_b0441_row3_col2\" class=\"data row3 col2\" >0.8462</td>\n                        <td id=\"T_b0441_row3_col3\" class=\"data row3 col3\" >0.8462</td>\n                        <td id=\"T_b0441_row3_col4\" class=\"data row3 col4\" >0.8462</td>\n                        <td id=\"T_b0441_row3_col5\" class=\"data row3 col5\" >0.7573</td>\n                        <td id=\"T_b0441_row3_col6\" class=\"data row3 col6\" >0.7573</td>\n            </tr>\n            <tr>\n                        <th id=\"T_b0441_level0_row4\" class=\"row_heading level0 row4\" >4</th>\n                        <td id=\"T_b0441_row4_col0\" class=\"data row4 col0\" >0.8592</td>\n                        <td id=\"T_b0441_row4_col1\" class=\"data row4 col1\" >0.9397</td>\n                        <td id=\"T_b0441_row4_col2\" class=\"data row4 col2\" >0.7308</td>\n                        <td id=\"T_b0441_row4_col3\" class=\"data row4 col3\" >0.8636</td>\n                        <td id=\"T_b0441_row4_col4\" class=\"data row4 col4\" >0.7917</td>\n                        <td id=\"T_b0441_row4_col5\" class=\"data row4 col5\" >0.6864</td>\n                        <td id=\"T_b0441_row4_col6\" class=\"data row4 col6\" >0.6919</td>\n            </tr>\n            <tr>\n                        <th id=\"T_b0441_level0_row5\" class=\"row_heading level0 row5\" >5</th>\n                        <td id=\"T_b0441_row5_col0\" class=\"data row5 col0\" >0.8451</td>\n                        <td id=\"T_b0441_row5_col1\" class=\"data row5 col1\" >0.8843</td>\n                        <td id=\"T_b0441_row5_col2\" class=\"data row5 col2\" >0.7037</td>\n                        <td id=\"T_b0441_row5_col3\" class=\"data row5 col3\" >0.8636</td>\n                        <td id=\"T_b0441_row5_col4\" class=\"data row5 col4\" >0.7755</td>\n                        <td id=\"T_b0441_row5_col5\" class=\"data row5 col5\" >0.6591</td>\n                        <td id=\"T_b0441_row5_col6\" class=\"data row5 col6\" >0.6672</td>\n            </tr>\n            <tr>\n                        <th id=\"T_b0441_level0_row6\" class=\"row_heading level0 row6\" >6</th>\n                        <td id=\"T_b0441_row6_col0\" class=\"data row6 col0\" >0.8169</td>\n                        <td id=\"T_b0441_row6_col1\" class=\"data row6 col1\" >0.7959</td>\n                        <td id=\"T_b0441_row6_col2\" class=\"data row6 col2\" >0.6667</td>\n                        <td id=\"T_b0441_row6_col3\" class=\"data row6 col3\" >0.8182</td>\n                        <td id=\"T_b0441_row6_col4\" class=\"data row6 col4\" >0.7347</td>\n                        <td id=\"T_b0441_row6_col5\" class=\"data row6 col5\" >0.5971</td>\n                        <td id=\"T_b0441_row6_col6\" class=\"data row6 col6\" >0.6044</td>\n            </tr>\n            <tr>\n                        <th id=\"T_b0441_level0_row7\" class=\"row_heading level0 row7\" >7</th>\n                        <td id=\"T_b0441_row7_col0\" class=\"data row7 col0\" >0.7746</td>\n                        <td id=\"T_b0441_row7_col1\" class=\"data row7 col1\" >0.8624</td>\n                        <td id=\"T_b0441_row7_col2\" class=\"data row7 col2\" >0.7037</td>\n                        <td id=\"T_b0441_row7_col3\" class=\"data row7 col3\" >0.7037</td>\n                        <td id=\"T_b0441_row7_col4\" class=\"data row7 col4\" >0.7037</td>\n                        <td id=\"T_b0441_row7_col5\" class=\"data row7 col5\" >0.5219</td>\n                        <td id=\"T_b0441_row7_col6\" class=\"data row7 col6\" >0.5219</td>\n            </tr>\n            <tr>\n                        <th id=\"T_b0441_level0_row8\" class=\"row_heading level0 row8\" >8</th>\n                        <td id=\"T_b0441_row8_col0\" class=\"data row8 col0\" >0.8310</td>\n                        <td id=\"T_b0441_row8_col1\" class=\"data row8 col1\" >0.8910</td>\n                        <td id=\"T_b0441_row8_col2\" class=\"data row8 col2\" >0.7407</td>\n                        <td id=\"T_b0441_row8_col3\" class=\"data row8 col3\" >0.8000</td>\n                        <td id=\"T_b0441_row8_col4\" class=\"data row8 col4\" >0.7692</td>\n                        <td id=\"T_b0441_row8_col5\" class=\"data row8 col5\" >0.6362</td>\n                        <td id=\"T_b0441_row8_col6\" class=\"data row8 col6\" >0.6374</td>\n            </tr>\n            <tr>\n                        <th id=\"T_b0441_level0_row9\" class=\"row_heading level0 row9\" >9</th>\n                        <td id=\"T_b0441_row9_col0\" class=\"data row9 col0\" >0.8028</td>\n                        <td id=\"T_b0441_row9_col1\" class=\"data row9 col1\" >0.8439</td>\n                        <td id=\"T_b0441_row9_col2\" class=\"data row9 col2\" >0.8148</td>\n                        <td id=\"T_b0441_row9_col3\" class=\"data row9 col3\" >0.7097</td>\n                        <td id=\"T_b0441_row9_col4\" class=\"data row9 col4\" >0.7586</td>\n                        <td id=\"T_b0441_row9_col5\" class=\"data row9 col5\" >0.5933</td>\n                        <td id=\"T_b0441_row9_col6\" class=\"data row9 col6\" >0.5973</td>\n            </tr>\n            <tr>\n                        <th id=\"T_b0441_level0_row10\" class=\"row_heading level0 row10\" >Mean</th>\n                        <td id=\"T_b0441_row10_col0\" class=\"data row10 col0\" >0.8258</td>\n                        <td id=\"T_b0441_row10_col1\" class=\"data row10 col1\" >0.8668</td>\n                        <td id=\"T_b0441_row10_col2\" class=\"data row10 col2\" >0.7419</td>\n                        <td id=\"T_b0441_row10_col3\" class=\"data row10 col3\" >0.7874</td>\n                        <td id=\"T_b0441_row10_col4\" class=\"data row10 col4\" >0.7617</td>\n                        <td id=\"T_b0441_row10_col5\" class=\"data row10 col5\" >0.6249</td>\n                        <td id=\"T_b0441_row10_col6\" class=\"data row10 col6\" >0.6278</td>\n            </tr>\n            <tr>\n                        <th id=\"T_b0441_level0_row11\" class=\"row_heading level0 row11\" >SD</th>\n                        <td id=\"T_b0441_row11_col0\" class=\"data row11 col0\" >0.0351</td>\n                        <td id=\"T_b0441_row11_col1\" class=\"data row11 col1\" >0.0452</td>\n                        <td id=\"T_b0441_row11_col2\" class=\"data row11 col2\" >0.0600</td>\n                        <td id=\"T_b0441_row11_col3\" class=\"data row11 col3\" >0.0620</td>\n                        <td id=\"T_b0441_row11_col4\" class=\"data row11 col4\" >0.0451</td>\n                        <td id=\"T_b0441_row11_col5\" class=\"data row11 col5\" >0.0730</td>\n                        <td id=\"T_b0441_row11_col6\" class=\"data row11 col6\" >0.0732</td>\n            </tr>\n    </tbody></table>"
     },
     "metadata": {}
    }
   ],
   "source": [
    "tuned_cat = tune_model(catboost, n_iter= 100)\n",
    "\n"
   ]
  },
  {
   "cell_type": "code",
   "execution_count": 123,
   "metadata": {},
   "outputs": [
    {
     "output_type": "execute_result",
     "data": {
      "text/plain": [
       "DecisionTreeClassifier(ccp_alpha=0.0, class_weight=None, criterion='entropy',\n",
       "                       max_depth=10, max_features=1.0, max_leaf_nodes=None,\n",
       "                       min_impurity_decrease=0.02, min_impurity_split=None,\n",
       "                       min_samples_leaf=6, min_samples_split=9,\n",
       "                       min_weight_fraction_leaf=0.0, presort='deprecated',\n",
       "                       random_state=8839, splitter='best')"
      ]
     },
     "metadata": {},
     "execution_count": 123
    }
   ],
   "source": [
    "tuned_cat"
   ]
  },
  {
   "cell_type": "code",
   "execution_count": 94,
   "metadata": {},
   "outputs": [],
   "source": [
    "test = pd.read_csv('test.csv')\n",
    "test_data, passengers1 = cleanse_data(test)\n",
    "\n",
    "preds = predict_model(tuned_cat, data = test_data)\n",
    "\n",
    "ready_preds = pd.DataFrame(passengers1, columns = ['PassengerId'])\n",
    "ready_preds['Survived'] = preds['Label']\n",
    "\n",
    "ready_preds.to_csv('titanic_preds.csv', index = False)"
   ]
  },
  {
   "cell_type": "code",
   "execution_count": 14,
   "metadata": {},
   "outputs": [
    {
     "output_type": "execute_result",
     "data": {
      "text/plain": [
       "   Pclass   Age  SibSp  Parch     Fare  Embarked_C  Embarked_Q  Embarked_S  \\\n",
       "0       3  22.0      1      0   7.2500           0           0           1   \n",
       "1       1  38.0      1      0  71.2833           1           0           0   \n",
       "2       3  26.0      0      0   7.9250           0           0           1   \n",
       "3       1  35.0      1      0  53.1000           0           0           1   \n",
       "4       3  35.0      0      0   8.0500           0           0           1   \n",
       "\n",
       "   Alone  Title_Master  Title_Miss  Title_Mr  Title_Mrs  Title_Ms  Sex_Male  \\\n",
       "0      0             0           0         1          0         0         1   \n",
       "1      0             0           0         0          1         0         0   \n",
       "2      1             0           1         0          0         0         0   \n",
       "3      0             0           0         0          1         0         0   \n",
       "4      1             0           0         1          0         0         1   \n",
       "\n",
       "   Farebin  Agebin  \n",
       "0        2       2  \n",
       "1        5       4  \n",
       "2        2       2  \n",
       "3        5       4  \n",
       "4        2       4  "
      ],
      "text/html": "<div>\n<style scoped>\n    .dataframe tbody tr th:only-of-type {\n        vertical-align: middle;\n    }\n\n    .dataframe tbody tr th {\n        vertical-align: top;\n    }\n\n    .dataframe thead th {\n        text-align: right;\n    }\n</style>\n<table border=\"1\" class=\"dataframe\">\n  <thead>\n    <tr style=\"text-align: right;\">\n      <th></th>\n      <th>Pclass</th>\n      <th>Age</th>\n      <th>SibSp</th>\n      <th>Parch</th>\n      <th>Fare</th>\n      <th>Embarked_C</th>\n      <th>Embarked_Q</th>\n      <th>Embarked_S</th>\n      <th>Alone</th>\n      <th>Title_Master</th>\n      <th>Title_Miss</th>\n      <th>Title_Mr</th>\n      <th>Title_Mrs</th>\n      <th>Title_Ms</th>\n      <th>Sex_Male</th>\n      <th>Farebin</th>\n      <th>Agebin</th>\n    </tr>\n  </thead>\n  <tbody>\n    <tr>\n      <th>0</th>\n      <td>3</td>\n      <td>22.0</td>\n      <td>1</td>\n      <td>0</td>\n      <td>7.2500</td>\n      <td>0</td>\n      <td>0</td>\n      <td>1</td>\n      <td>0</td>\n      <td>0</td>\n      <td>0</td>\n      <td>1</td>\n      <td>0</td>\n      <td>0</td>\n      <td>1</td>\n      <td>2</td>\n      <td>2</td>\n    </tr>\n    <tr>\n      <th>1</th>\n      <td>1</td>\n      <td>38.0</td>\n      <td>1</td>\n      <td>0</td>\n      <td>71.2833</td>\n      <td>1</td>\n      <td>0</td>\n      <td>0</td>\n      <td>0</td>\n      <td>0</td>\n      <td>0</td>\n      <td>0</td>\n      <td>1</td>\n      <td>0</td>\n      <td>0</td>\n      <td>5</td>\n      <td>4</td>\n    </tr>\n    <tr>\n      <th>2</th>\n      <td>3</td>\n      <td>26.0</td>\n      <td>0</td>\n      <td>0</td>\n      <td>7.9250</td>\n      <td>0</td>\n      <td>0</td>\n      <td>1</td>\n      <td>1</td>\n      <td>0</td>\n      <td>1</td>\n      <td>0</td>\n      <td>0</td>\n      <td>0</td>\n      <td>0</td>\n      <td>2</td>\n      <td>2</td>\n    </tr>\n    <tr>\n      <th>3</th>\n      <td>1</td>\n      <td>35.0</td>\n      <td>1</td>\n      <td>0</td>\n      <td>53.1000</td>\n      <td>0</td>\n      <td>0</td>\n      <td>1</td>\n      <td>0</td>\n      <td>0</td>\n      <td>0</td>\n      <td>0</td>\n      <td>1</td>\n      <td>0</td>\n      <td>0</td>\n      <td>5</td>\n      <td>4</td>\n    </tr>\n    <tr>\n      <th>4</th>\n      <td>3</td>\n      <td>35.0</td>\n      <td>0</td>\n      <td>0</td>\n      <td>8.0500</td>\n      <td>0</td>\n      <td>0</td>\n      <td>1</td>\n      <td>1</td>\n      <td>0</td>\n      <td>0</td>\n      <td>1</td>\n      <td>0</td>\n      <td>0</td>\n      <td>1</td>\n      <td>2</td>\n      <td>4</td>\n    </tr>\n  </tbody>\n</table>\n</div>"
     },
     "metadata": {},
     "execution_count": 14
    }
   ],
   "source": [
    "data1 = data.copy()\n",
    "target = data1['Survived']\n",
    "del[data1['Survived']]\n",
    "\n",
    "data1.head()"
   ]
  },
  {
   "cell_type": "code",
   "execution_count": 27,
   "metadata": {},
   "outputs": [
    {
     "output_type": "execute_result",
     "data": {
      "text/plain": [
       "           Pclass           Age       SibSp       Parch          Fare  \\\n",
       "count  891.000000  8.910000e+02  891.000000  891.000000  8.910000e+02   \n",
       "mean     2.308642 -4.549298e-16    0.523008    0.381594  6.690620e-16   \n",
       "std      0.836071  1.000562e+00    1.102743    0.806057  1.000562e+00   \n",
       "min      1.000000 -2.221517e+00    0.000000    0.000000 -6.484217e-01   \n",
       "25%      2.000000 -6.075151e-01    0.000000    0.000000 -4.891482e-01   \n",
       "50%      3.000000  1.423457e-02    0.000000    0.000000 -3.573909e-01   \n",
       "75%      3.000000  4.600356e-01    1.000000    0.000000 -2.424635e-02   \n",
       "max      3.000000  3.793396e+00    8.000000    6.000000  9.667167e+00   \n",
       "\n",
       "       Embarked_C  Embarked_Q  Embarked_S       Alone  Title_Master  \\\n",
       "count  891.000000  891.000000  891.000000  891.000000    891.000000   \n",
       "mean     0.188552    0.086420    0.725028    0.602694      0.056117   \n",
       "std      0.391372    0.281141    0.446751    0.489615      0.230276   \n",
       "min      0.000000    0.000000    0.000000    0.000000      0.000000   \n",
       "25%      0.000000    0.000000    0.000000    0.000000      0.000000   \n",
       "50%      0.000000    0.000000    1.000000    1.000000      0.000000   \n",
       "75%      0.000000    0.000000    1.000000    1.000000      0.000000   \n",
       "max      1.000000    1.000000    1.000000    1.000000      1.000000   \n",
       "\n",
       "       Title_Miss    Title_Mr   Title_Mrs    Title_Ms    Sex_Male     Farebin  \\\n",
       "count  891.000000  891.000000  891.000000  891.000000  891.000000  891.000000   \n",
       "mean     0.204265    0.592593    0.140292    0.006734    0.647587    3.204265   \n",
       "std      0.403390    0.491628    0.347485    0.081830    0.477990    1.208037   \n",
       "min      0.000000    0.000000    0.000000    0.000000    0.000000    1.000000   \n",
       "25%      0.000000    0.000000    0.000000    0.000000    0.000000    2.000000   \n",
       "50%      0.000000    1.000000    0.000000    0.000000    1.000000    3.000000   \n",
       "75%      0.000000    1.000000    0.000000    0.000000    1.000000    4.000000   \n",
       "max      1.000000    1.000000    1.000000    1.000000    1.000000    5.000000   \n",
       "\n",
       "           Agebin  \n",
       "count  891.000000  \n",
       "mean     3.041526  \n",
       "std      1.439984  \n",
       "min      1.000000  \n",
       "25%      2.000000  \n",
       "50%      3.000000  \n",
       "75%      4.000000  \n",
       "max      5.000000  "
      ],
      "text/html": "<div>\n<style scoped>\n    .dataframe tbody tr th:only-of-type {\n        vertical-align: middle;\n    }\n\n    .dataframe tbody tr th {\n        vertical-align: top;\n    }\n\n    .dataframe thead th {\n        text-align: right;\n    }\n</style>\n<table border=\"1\" class=\"dataframe\">\n  <thead>\n    <tr style=\"text-align: right;\">\n      <th></th>\n      <th>Pclass</th>\n      <th>Age</th>\n      <th>SibSp</th>\n      <th>Parch</th>\n      <th>Fare</th>\n      <th>Embarked_C</th>\n      <th>Embarked_Q</th>\n      <th>Embarked_S</th>\n      <th>Alone</th>\n      <th>Title_Master</th>\n      <th>Title_Miss</th>\n      <th>Title_Mr</th>\n      <th>Title_Mrs</th>\n      <th>Title_Ms</th>\n      <th>Sex_Male</th>\n      <th>Farebin</th>\n      <th>Agebin</th>\n    </tr>\n  </thead>\n  <tbody>\n    <tr>\n      <th>count</th>\n      <td>891.000000</td>\n      <td>8.910000e+02</td>\n      <td>891.000000</td>\n      <td>891.000000</td>\n      <td>8.910000e+02</td>\n      <td>891.000000</td>\n      <td>891.000000</td>\n      <td>891.000000</td>\n      <td>891.000000</td>\n      <td>891.000000</td>\n      <td>891.000000</td>\n      <td>891.000000</td>\n      <td>891.000000</td>\n      <td>891.000000</td>\n      <td>891.000000</td>\n      <td>891.000000</td>\n      <td>891.000000</td>\n    </tr>\n    <tr>\n      <th>mean</th>\n      <td>2.308642</td>\n      <td>-4.549298e-16</td>\n      <td>0.523008</td>\n      <td>0.381594</td>\n      <td>6.690620e-16</td>\n      <td>0.188552</td>\n      <td>0.086420</td>\n      <td>0.725028</td>\n      <td>0.602694</td>\n      <td>0.056117</td>\n      <td>0.204265</td>\n      <td>0.592593</td>\n      <td>0.140292</td>\n      <td>0.006734</td>\n      <td>0.647587</td>\n      <td>3.204265</td>\n      <td>3.041526</td>\n    </tr>\n    <tr>\n      <th>std</th>\n      <td>0.836071</td>\n      <td>1.000562e+00</td>\n      <td>1.102743</td>\n      <td>0.806057</td>\n      <td>1.000562e+00</td>\n      <td>0.391372</td>\n      <td>0.281141</td>\n      <td>0.446751</td>\n      <td>0.489615</td>\n      <td>0.230276</td>\n      <td>0.403390</td>\n      <td>0.491628</td>\n      <td>0.347485</td>\n      <td>0.081830</td>\n      <td>0.477990</td>\n      <td>1.208037</td>\n      <td>1.439984</td>\n    </tr>\n    <tr>\n      <th>min</th>\n      <td>1.000000</td>\n      <td>-2.221517e+00</td>\n      <td>0.000000</td>\n      <td>0.000000</td>\n      <td>-6.484217e-01</td>\n      <td>0.000000</td>\n      <td>0.000000</td>\n      <td>0.000000</td>\n      <td>0.000000</td>\n      <td>0.000000</td>\n      <td>0.000000</td>\n      <td>0.000000</td>\n      <td>0.000000</td>\n      <td>0.000000</td>\n      <td>0.000000</td>\n      <td>1.000000</td>\n      <td>1.000000</td>\n    </tr>\n    <tr>\n      <th>25%</th>\n      <td>2.000000</td>\n      <td>-6.075151e-01</td>\n      <td>0.000000</td>\n      <td>0.000000</td>\n      <td>-4.891482e-01</td>\n      <td>0.000000</td>\n      <td>0.000000</td>\n      <td>0.000000</td>\n      <td>0.000000</td>\n      <td>0.000000</td>\n      <td>0.000000</td>\n      <td>0.000000</td>\n      <td>0.000000</td>\n      <td>0.000000</td>\n      <td>0.000000</td>\n      <td>2.000000</td>\n      <td>2.000000</td>\n    </tr>\n    <tr>\n      <th>50%</th>\n      <td>3.000000</td>\n      <td>1.423457e-02</td>\n      <td>0.000000</td>\n      <td>0.000000</td>\n      <td>-3.573909e-01</td>\n      <td>0.000000</td>\n      <td>0.000000</td>\n      <td>1.000000</td>\n      <td>1.000000</td>\n      <td>0.000000</td>\n      <td>0.000000</td>\n      <td>1.000000</td>\n      <td>0.000000</td>\n      <td>0.000000</td>\n      <td>1.000000</td>\n      <td>3.000000</td>\n      <td>3.000000</td>\n    </tr>\n    <tr>\n      <th>75%</th>\n      <td>3.000000</td>\n      <td>4.600356e-01</td>\n      <td>1.000000</td>\n      <td>0.000000</td>\n      <td>-2.424635e-02</td>\n      <td>0.000000</td>\n      <td>0.000000</td>\n      <td>1.000000</td>\n      <td>1.000000</td>\n      <td>0.000000</td>\n      <td>0.000000</td>\n      <td>1.000000</td>\n      <td>0.000000</td>\n      <td>0.000000</td>\n      <td>1.000000</td>\n      <td>4.000000</td>\n      <td>4.000000</td>\n    </tr>\n    <tr>\n      <th>max</th>\n      <td>3.000000</td>\n      <td>3.793396e+00</td>\n      <td>8.000000</td>\n      <td>6.000000</td>\n      <td>9.667167e+00</td>\n      <td>1.000000</td>\n      <td>1.000000</td>\n      <td>1.000000</td>\n      <td>1.000000</td>\n      <td>1.000000</td>\n      <td>1.000000</td>\n      <td>1.000000</td>\n      <td>1.000000</td>\n      <td>1.000000</td>\n      <td>1.000000</td>\n      <td>5.000000</td>\n      <td>5.000000</td>\n    </tr>\n  </tbody>\n</table>\n</div>"
     },
     "metadata": {},
     "execution_count": 27
    }
   ],
   "source": [
    "data1.describe()"
   ]
  },
  {
   "cell_type": "code",
   "execution_count": 26,
   "metadata": {},
   "outputs": [],
   "source": [
    "# Standardize continuous variables\n",
    "\n",
    "def standardScale_custom(x) :\n",
    "    new_data = []\n",
    "    stan_mean = np.mean(x)\n",
    "    stan_std = np.std(x)\n",
    "    for row in x :\n",
    "        new_data.append((row - stan_mean) / stan_std)\n",
    "    return new_data\n",
    "    \n",
    "for col in ['Age','Fare'] :\n",
    "    data1[col] = standardScale_custom(data1[col])\n"
   ]
  },
  {
   "cell_type": "code",
   "execution_count": null,
   "metadata": {},
   "outputs": [],
   "source": []
  },
  {
   "cell_type": "code",
   "execution_count": 133,
   "metadata": {},
   "outputs": [],
   "source": [
    "x_train, x_test, y_train, y_test = train_test_split(data1, target, test_size=0.3, random_state= 0)"
   ]
  },
  {
   "cell_type": "code",
   "execution_count": 30,
   "metadata": {},
   "outputs": [
    {
     "output_type": "execute_result",
     "data": {
      "text/plain": [
       "     Pclass       Age  SibSp  Parch      Fare  Embarked_C  Embarked_Q  \\\n",
       "331       1  1.185775      0      0 -0.074583           0           0   \n",
       "733       2 -0.514848      0      0 -0.386671           0           0   \n",
       "382       3  0.165401      0      0 -0.488854           0           0   \n",
       "704       3 -0.288098      1      0 -0.490280           0           0   \n",
       "813       3 -1.799763      4      2 -0.018709           0           0   \n",
       "\n",
       "     Embarked_S  Alone  Title_Master  Title_Miss  Title_Mr  Title_Mrs  \\\n",
       "331           1      1             0           0         1          0   \n",
       "733           1      1             0           0         1          0   \n",
       "382           1      1             0           0         1          0   \n",
       "704           1      0             0           0         1          0   \n",
       "813           1      0             0           1         0          0   \n",
       "\n",
       "     Title_Ms  Sex_Male  Farebin  Agebin  \n",
       "331         0         1        4       5  \n",
       "733         0         1        3       2  \n",
       "382         0         1        2       3  \n",
       "704         0         1        2       2  \n",
       "813         0         0        4       1  "
      ],
      "text/html": "<div>\n<style scoped>\n    .dataframe tbody tr th:only-of-type {\n        vertical-align: middle;\n    }\n\n    .dataframe tbody tr th {\n        vertical-align: top;\n    }\n\n    .dataframe thead th {\n        text-align: right;\n    }\n</style>\n<table border=\"1\" class=\"dataframe\">\n  <thead>\n    <tr style=\"text-align: right;\">\n      <th></th>\n      <th>Pclass</th>\n      <th>Age</th>\n      <th>SibSp</th>\n      <th>Parch</th>\n      <th>Fare</th>\n      <th>Embarked_C</th>\n      <th>Embarked_Q</th>\n      <th>Embarked_S</th>\n      <th>Alone</th>\n      <th>Title_Master</th>\n      <th>Title_Miss</th>\n      <th>Title_Mr</th>\n      <th>Title_Mrs</th>\n      <th>Title_Ms</th>\n      <th>Sex_Male</th>\n      <th>Farebin</th>\n      <th>Agebin</th>\n    </tr>\n  </thead>\n  <tbody>\n    <tr>\n      <th>331</th>\n      <td>1</td>\n      <td>1.185775</td>\n      <td>0</td>\n      <td>0</td>\n      <td>-0.074583</td>\n      <td>0</td>\n      <td>0</td>\n      <td>1</td>\n      <td>1</td>\n      <td>0</td>\n      <td>0</td>\n      <td>1</td>\n      <td>0</td>\n      <td>0</td>\n      <td>1</td>\n      <td>4</td>\n      <td>5</td>\n    </tr>\n    <tr>\n      <th>733</th>\n      <td>2</td>\n      <td>-0.514848</td>\n      <td>0</td>\n      <td>0</td>\n      <td>-0.386671</td>\n      <td>0</td>\n      <td>0</td>\n      <td>1</td>\n      <td>1</td>\n      <td>0</td>\n      <td>0</td>\n      <td>1</td>\n      <td>0</td>\n      <td>0</td>\n      <td>1</td>\n      <td>3</td>\n      <td>2</td>\n    </tr>\n    <tr>\n      <th>382</th>\n      <td>3</td>\n      <td>0.165401</td>\n      <td>0</td>\n      <td>0</td>\n      <td>-0.488854</td>\n      <td>0</td>\n      <td>0</td>\n      <td>1</td>\n      <td>1</td>\n      <td>0</td>\n      <td>0</td>\n      <td>1</td>\n      <td>0</td>\n      <td>0</td>\n      <td>1</td>\n      <td>2</td>\n      <td>3</td>\n    </tr>\n    <tr>\n      <th>704</th>\n      <td>3</td>\n      <td>-0.288098</td>\n      <td>1</td>\n      <td>0</td>\n      <td>-0.490280</td>\n      <td>0</td>\n      <td>0</td>\n      <td>1</td>\n      <td>0</td>\n      <td>0</td>\n      <td>0</td>\n      <td>1</td>\n      <td>0</td>\n      <td>0</td>\n      <td>1</td>\n      <td>2</td>\n      <td>2</td>\n    </tr>\n    <tr>\n      <th>813</th>\n      <td>3</td>\n      <td>-1.799763</td>\n      <td>4</td>\n      <td>2</td>\n      <td>-0.018709</td>\n      <td>0</td>\n      <td>0</td>\n      <td>1</td>\n      <td>0</td>\n      <td>0</td>\n      <td>1</td>\n      <td>0</td>\n      <td>0</td>\n      <td>0</td>\n      <td>0</td>\n      <td>4</td>\n      <td>1</td>\n    </tr>\n  </tbody>\n</table>\n</div>"
     },
     "metadata": {},
     "execution_count": 30
    }
   ],
   "source": []
  },
  {
   "cell_type": "code",
   "execution_count": 134,
   "metadata": {},
   "outputs": [
    {
     "output_type": "stream",
     "name": "stdout",
     "text": [
      "              precision    recall  f1-score   support\n\n           0       0.85      0.88      0.86       381\n           1       0.80      0.75      0.77       242\n\n    accuracy                           0.83       623\n   macro avg       0.82      0.82      0.82       623\nweighted avg       0.83      0.83      0.83       623\n\n"
     ]
    }
   ],
   "source": [
    "svm = LinearSVC(penalty = 'l2', loss = 'squared_hinge', C = 5.0, fit_intercept= False, max_iter = 1000)\n",
    "\n",
    "svm_fit = svm.fit(x_train, y_train)\n",
    "svm_predict = svm_fit.predict(x_train)\n",
    "\n",
    "print(classification_report(y_train, svm_predict))"
   ]
  },
  {
   "cell_type": "code",
   "execution_count": 135,
   "metadata": {},
   "outputs": [
    {
     "output_type": "stream",
     "name": "stdout",
     "text": [
      "{'C': 10, 'fit_intercept': False, 'loss': 'squared_hinge'}\n0.8315412186379927\n"
     ]
    }
   ],
   "source": [
    "search_params = {\"C\" : [.01,.5,.8,1,2,5,7,10],\n",
    "    \"loss\" : ['hinge', 'squared_hinge'],\n",
    "    \"fit_intercept\" : [True,False]\n",
    "}\n",
    "\n",
    "grid = GridSearchCV(svm, param_grid= search_params, n_jobs = -1, cv = 10)\n",
    "\n",
    "grid_fit = grid.fit(x_train, y_train)\n",
    "\n",
    "print(grid_fit.best_params_)\n",
    "print(grid_fit.best_score_)\n",
    "\n"
   ]
  },
  {
   "cell_type": "code",
   "execution_count": 136,
   "metadata": {},
   "outputs": [],
   "source": [
    "# start voting models\n",
    "from sklearn.neighbors import KNeighborsClassifier\n",
    "from sklearn.ensemble import RandomForestClassifier\n",
    "from sklearn.svm import LinearSVC\n",
    "from sklearn.linear_model import LinearRegression\n",
    "from sklearn.ensemble import VotingClassifier\n",
    "\n",
    "rf = RandomForestClassifier(bootstrap=True, ccp_alpha=0.0, class_weight='balanced',\n",
    "                       criterion='entropy', max_depth=11, max_features=1.0,\n",
    "                       max_leaf_nodes=None, max_samples=None,\n",
    "                       min_impurity_decrease=0.0001, min_impurity_split=None,\n",
    "                       min_samples_leaf=4, min_samples_split=10,\n",
    "                       min_weight_fraction_leaf=0.0, n_estimators=110,\n",
    "                       n_jobs=-1, oob_score=False, random_state=8839, verbose=0,\n",
    "                       warm_start=False)\n",
    "\n",
    "knn = KNeighborsClassifier(algorithm='auto', leaf_size=30, metric='manhattan',\n",
    "                     metric_params=None, n_jobs=-1, n_neighbors=20, p=2,\n",
    "                     weights='uniform')\n",
    "                    \n",
    "\n",
    "lr = LogisticRegression(C=0.604, class_weight={}, dual=False, fit_intercept=True,\n",
    "                   intercept_scaling=1, l1_ratio=None, max_iter=1000,\n",
    "                   multi_class='auto', n_jobs=None, penalty='l2',\n",
    "                   random_state=8839, solver='lbfgs', tol=0.0001, verbose=0,\n",
    "                   warm_start=False)"
   ]
  },
  {
   "cell_type": "code",
   "execution_count": 137,
   "metadata": {},
   "outputs": [
    {
     "output_type": "stream",
     "name": "stdout",
     "text": [
      "              precision    recall  f1-score   support\n\n           0       0.86      0.87      0.86       168\n           1       0.78      0.76      0.77       100\n\n    accuracy                           0.83       268\n   macro avg       0.82      0.81      0.82       268\nweighted avg       0.83      0.83      0.83       268\n\n"
     ]
    }
   ],
   "source": [
    "voting = VotingClassifier(estimators = [('rf',rf),\n",
    "    ('knn', knn),\n",
    "    ('lr', lr)], voting = 'soft', n_jobs = -1)\n",
    "\n",
    "voting_fit = voting.fit(x_train, y_train)\n",
    "voting_predict = voting_fit.predict(x_test)\n",
    "\n",
    "print(classification_report(y_test, voting_predict))"
   ]
  },
  {
   "cell_type": "code",
   "execution_count": 138,
   "metadata": {},
   "outputs": [],
   "source": [
    "test = pd.read_csv('test.csv')\n",
    "test_data, passengers1 = cleanse_data(test)\n",
    "\n",
    "for col in ['Age','Fare'] :\n",
    "    test_data[col] = standardScale_custom(test_data[col])\n",
    "\n",
    "\n",
    "ready_preds = pd.DataFrame(passengers1, columns = ['PassengerId'])\n",
    "ready_preds['Survived'] = preds['Label']\n",
    "\n",
    "ready_preds.to_csv('titanic_preds.csv', index = False)"
   ]
  },
  {
   "cell_type": "code",
   "execution_count": null,
   "metadata": {},
   "outputs": [],
   "source": []
  }
 ]
}